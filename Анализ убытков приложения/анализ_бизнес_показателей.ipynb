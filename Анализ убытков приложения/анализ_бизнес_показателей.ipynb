{
 "cells": [
  {
   "cell_type": "markdown",
   "metadata": {},
   "source": [
    "# Анализ бизнес показателей\n",
    "\n",
    "Несмотря на огромные вложения в рекламу, последние несколько месяцев развлекательное приложение Procrastinate Pro+ терпит убытки. \n",
    "\n",
    "**Задачи**: \n",
    "\n",
    "- определить причины неэффективного привлечения пользователей;\n",
    "- сформулируйте рекомендации для отдела маркетинга. \n",
    "\n",
    "**План исследования**:\n",
    "\n",
    "- изучить полученные данные о визитах, заказах и рекламных расходах;\n",
    "- выполнить предобработку данных;\n",
    "- задать функции для определения основных метрик (LTV, ROI, conversion, retention rate) и построения соответствующих графиков;\n",
    "- составить профили пользователей;\n",
    "- изучить, из каких стран пользователи приходят в приложение, и определить долю платящих в каждой из них;\n",
    "- определить, какими устройствами пользуются клиенты, и какие устройства предпочитают платящие пользователи;\n",
    "- изучить рекламные источники привлечения и определить каналы, из которых пришло больше всего платящих пользователей. \n",
    "- выяснить, как траты распределены по рекламным источникам;\n",
    "- построить визуализацию динамики изменения расходов во времени (по неделям и месяцам) по каждому источнику;\n",
    "- узнать, сколько в среднем стоило привлечение одного пользователя (CAC) из каждого источника;\n",
    "- проанализировать окупаемость рекламы c помощью графиков LTV и ROI, а также графиков динамики LTV, CAC и ROI;\n",
    "- проверить конверсию пользователей и динамику её изменения;\n",
    "- проанализировать окупаемость рекламы с разбивкой по устройствам, странам, рекламным каналам;\n",
    "- сформулировать вывод и рекомендации.\n",
    "\n",
    "**Описание данных**:\n",
    "\n",
    "В наличии имеются данные о пользователях, привлечённых с 1 мая по 27 октября 2019 года:\n",
    "- лог сервера с данными об их посещениях,\n",
    "- выгрузка их покупок за этот период,\n",
    "- рекламные расходы.\n"
   ]
  },
  {
   "cell_type": "markdown",
   "metadata": {
    "id": "r-BO88CnWVwe"
   },
   "source": [
    "### Подготвка данных к анализу"
   ]
  },
  {
   "cell_type": "markdown",
   "metadata": {},
   "source": [
    "#### Импорт библиотек и выгрузка данных."
   ]
  },
  {
   "cell_type": "code",
   "execution_count": 1,
   "metadata": {
    "id": "_vsKinGUWVwk"
   },
   "outputs": [],
   "source": [
    "# Импортируем библиотеки\n",
    "\n",
    "import pandas as pd\n",
    "from datetime import datetime, timedelta\n",
    "from matplotlib import pyplot as plt\n",
    "import numpy as np\n",
    "import seaborn as sns\n"
   ]
  },
  {
   "cell_type": "code",
   "execution_count": 2,
   "metadata": {},
   "outputs": [
    {
     "ename": "FileNotFoundError",
     "evalue": "[Errno 2] No such file or directory: '/datasets/visits_info_short.csv'",
     "output_type": "error",
     "traceback": [
      "\u001b[1;31m---------------------------------------------------------------------------\u001b[0m",
      "\u001b[1;31mFileNotFoundError\u001b[0m                         Traceback (most recent call last)",
      "\u001b[1;32m~\\AppData\\Local\\Temp\\ipykernel_15748\\1036217122.py\u001b[0m in \u001b[0;36m<module>\u001b[1;34m\u001b[0m\n\u001b[0;32m      1\u001b[0m \u001b[1;31m# Загружаем данные\u001b[0m\u001b[1;33m\u001b[0m\u001b[1;33m\u001b[0m\u001b[0m\n\u001b[0;32m      2\u001b[0m \u001b[1;33m\u001b[0m\u001b[0m\n\u001b[1;32m----> 3\u001b[1;33m \u001b[0mvisits\u001b[0m \u001b[1;33m=\u001b[0m \u001b[0mpd\u001b[0m\u001b[1;33m.\u001b[0m\u001b[0mread_csv\u001b[0m\u001b[1;33m(\u001b[0m\u001b[1;34m'/datasets/visits_info_short.csv'\u001b[0m\u001b[1;33m)\u001b[0m\u001b[1;33m\u001b[0m\u001b[1;33m\u001b[0m\u001b[0m\n\u001b[0m\u001b[0;32m      4\u001b[0m \u001b[0morders\u001b[0m \u001b[1;33m=\u001b[0m \u001b[0mpd\u001b[0m\u001b[1;33m.\u001b[0m\u001b[0mread_csv\u001b[0m\u001b[1;33m(\u001b[0m\u001b[1;34m'/datasets/orders_info_short.csv'\u001b[0m\u001b[1;33m)\u001b[0m\u001b[1;33m\u001b[0m\u001b[1;33m\u001b[0m\u001b[0m\n\u001b[0;32m      5\u001b[0m \u001b[0mcosts\u001b[0m \u001b[1;33m=\u001b[0m \u001b[0mpd\u001b[0m\u001b[1;33m.\u001b[0m\u001b[0mread_csv\u001b[0m\u001b[1;33m(\u001b[0m\u001b[1;34m'/datasets/costs_info_short.csv'\u001b[0m\u001b[1;33m)\u001b[0m\u001b[1;33m\u001b[0m\u001b[1;33m\u001b[0m\u001b[0m\n",
      "\u001b[1;32m~\\anaconda3\\lib\\site-packages\\pandas\\util\\_decorators.py\u001b[0m in \u001b[0;36mwrapper\u001b[1;34m(*args, **kwargs)\u001b[0m\n\u001b[0;32m    309\u001b[0m                     \u001b[0mstacklevel\u001b[0m\u001b[1;33m=\u001b[0m\u001b[0mstacklevel\u001b[0m\u001b[1;33m,\u001b[0m\u001b[1;33m\u001b[0m\u001b[1;33m\u001b[0m\u001b[0m\n\u001b[0;32m    310\u001b[0m                 )\n\u001b[1;32m--> 311\u001b[1;33m             \u001b[1;32mreturn\u001b[0m \u001b[0mfunc\u001b[0m\u001b[1;33m(\u001b[0m\u001b[1;33m*\u001b[0m\u001b[0margs\u001b[0m\u001b[1;33m,\u001b[0m \u001b[1;33m**\u001b[0m\u001b[0mkwargs\u001b[0m\u001b[1;33m)\u001b[0m\u001b[1;33m\u001b[0m\u001b[1;33m\u001b[0m\u001b[0m\n\u001b[0m\u001b[0;32m    312\u001b[0m \u001b[1;33m\u001b[0m\u001b[0m\n\u001b[0;32m    313\u001b[0m         \u001b[1;32mreturn\u001b[0m \u001b[0mwrapper\u001b[0m\u001b[1;33m\u001b[0m\u001b[1;33m\u001b[0m\u001b[0m\n",
      "\u001b[1;32m~\\anaconda3\\lib\\site-packages\\pandas\\io\\parsers\\readers.py\u001b[0m in \u001b[0;36mread_csv\u001b[1;34m(filepath_or_buffer, sep, delimiter, header, names, index_col, usecols, squeeze, prefix, mangle_dupe_cols, dtype, engine, converters, true_values, false_values, skipinitialspace, skiprows, skipfooter, nrows, na_values, keep_default_na, na_filter, verbose, skip_blank_lines, parse_dates, infer_datetime_format, keep_date_col, date_parser, dayfirst, cache_dates, iterator, chunksize, compression, thousands, decimal, lineterminator, quotechar, quoting, doublequote, escapechar, comment, encoding, encoding_errors, dialect, error_bad_lines, warn_bad_lines, on_bad_lines, delim_whitespace, low_memory, memory_map, float_precision, storage_options)\u001b[0m\n\u001b[0;32m    676\u001b[0m     \u001b[0mkwds\u001b[0m\u001b[1;33m.\u001b[0m\u001b[0mupdate\u001b[0m\u001b[1;33m(\u001b[0m\u001b[0mkwds_defaults\u001b[0m\u001b[1;33m)\u001b[0m\u001b[1;33m\u001b[0m\u001b[1;33m\u001b[0m\u001b[0m\n\u001b[0;32m    677\u001b[0m \u001b[1;33m\u001b[0m\u001b[0m\n\u001b[1;32m--> 678\u001b[1;33m     \u001b[1;32mreturn\u001b[0m \u001b[0m_read\u001b[0m\u001b[1;33m(\u001b[0m\u001b[0mfilepath_or_buffer\u001b[0m\u001b[1;33m,\u001b[0m \u001b[0mkwds\u001b[0m\u001b[1;33m)\u001b[0m\u001b[1;33m\u001b[0m\u001b[1;33m\u001b[0m\u001b[0m\n\u001b[0m\u001b[0;32m    679\u001b[0m \u001b[1;33m\u001b[0m\u001b[0m\n\u001b[0;32m    680\u001b[0m \u001b[1;33m\u001b[0m\u001b[0m\n",
      "\u001b[1;32m~\\anaconda3\\lib\\site-packages\\pandas\\io\\parsers\\readers.py\u001b[0m in \u001b[0;36m_read\u001b[1;34m(filepath_or_buffer, kwds)\u001b[0m\n\u001b[0;32m    573\u001b[0m \u001b[1;33m\u001b[0m\u001b[0m\n\u001b[0;32m    574\u001b[0m     \u001b[1;31m# Create the parser.\u001b[0m\u001b[1;33m\u001b[0m\u001b[1;33m\u001b[0m\u001b[0m\n\u001b[1;32m--> 575\u001b[1;33m     \u001b[0mparser\u001b[0m \u001b[1;33m=\u001b[0m \u001b[0mTextFileReader\u001b[0m\u001b[1;33m(\u001b[0m\u001b[0mfilepath_or_buffer\u001b[0m\u001b[1;33m,\u001b[0m \u001b[1;33m**\u001b[0m\u001b[0mkwds\u001b[0m\u001b[1;33m)\u001b[0m\u001b[1;33m\u001b[0m\u001b[1;33m\u001b[0m\u001b[0m\n\u001b[0m\u001b[0;32m    576\u001b[0m \u001b[1;33m\u001b[0m\u001b[0m\n\u001b[0;32m    577\u001b[0m     \u001b[1;32mif\u001b[0m \u001b[0mchunksize\u001b[0m \u001b[1;32mor\u001b[0m \u001b[0miterator\u001b[0m\u001b[1;33m:\u001b[0m\u001b[1;33m\u001b[0m\u001b[1;33m\u001b[0m\u001b[0m\n",
      "\u001b[1;32m~\\anaconda3\\lib\\site-packages\\pandas\\io\\parsers\\readers.py\u001b[0m in \u001b[0;36m__init__\u001b[1;34m(self, f, engine, **kwds)\u001b[0m\n\u001b[0;32m    930\u001b[0m \u001b[1;33m\u001b[0m\u001b[0m\n\u001b[0;32m    931\u001b[0m         \u001b[0mself\u001b[0m\u001b[1;33m.\u001b[0m\u001b[0mhandles\u001b[0m\u001b[1;33m:\u001b[0m \u001b[0mIOHandles\u001b[0m \u001b[1;33m|\u001b[0m \u001b[1;32mNone\u001b[0m \u001b[1;33m=\u001b[0m \u001b[1;32mNone\u001b[0m\u001b[1;33m\u001b[0m\u001b[1;33m\u001b[0m\u001b[0m\n\u001b[1;32m--> 932\u001b[1;33m         \u001b[0mself\u001b[0m\u001b[1;33m.\u001b[0m\u001b[0m_engine\u001b[0m \u001b[1;33m=\u001b[0m \u001b[0mself\u001b[0m\u001b[1;33m.\u001b[0m\u001b[0m_make_engine\u001b[0m\u001b[1;33m(\u001b[0m\u001b[0mf\u001b[0m\u001b[1;33m,\u001b[0m \u001b[0mself\u001b[0m\u001b[1;33m.\u001b[0m\u001b[0mengine\u001b[0m\u001b[1;33m)\u001b[0m\u001b[1;33m\u001b[0m\u001b[1;33m\u001b[0m\u001b[0m\n\u001b[0m\u001b[0;32m    933\u001b[0m \u001b[1;33m\u001b[0m\u001b[0m\n\u001b[0;32m    934\u001b[0m     \u001b[1;32mdef\u001b[0m \u001b[0mclose\u001b[0m\u001b[1;33m(\u001b[0m\u001b[0mself\u001b[0m\u001b[1;33m)\u001b[0m\u001b[1;33m:\u001b[0m\u001b[1;33m\u001b[0m\u001b[1;33m\u001b[0m\u001b[0m\n",
      "\u001b[1;32m~\\anaconda3\\lib\\site-packages\\pandas\\io\\parsers\\readers.py\u001b[0m in \u001b[0;36m_make_engine\u001b[1;34m(self, f, engine)\u001b[0m\n\u001b[0;32m   1214\u001b[0m             \u001b[1;31m# \"Union[str, PathLike[str], ReadCsvBuffer[bytes], ReadCsvBuffer[str]]\"\u001b[0m\u001b[1;33m\u001b[0m\u001b[1;33m\u001b[0m\u001b[0m\n\u001b[0;32m   1215\u001b[0m             \u001b[1;31m# , \"str\", \"bool\", \"Any\", \"Any\", \"Any\", \"Any\", \"Any\"\u001b[0m\u001b[1;33m\u001b[0m\u001b[1;33m\u001b[0m\u001b[0m\n\u001b[1;32m-> 1216\u001b[1;33m             self.handles = get_handle(  # type: ignore[call-overload]\n\u001b[0m\u001b[0;32m   1217\u001b[0m                 \u001b[0mf\u001b[0m\u001b[1;33m,\u001b[0m\u001b[1;33m\u001b[0m\u001b[1;33m\u001b[0m\u001b[0m\n\u001b[0;32m   1218\u001b[0m                 \u001b[0mmode\u001b[0m\u001b[1;33m,\u001b[0m\u001b[1;33m\u001b[0m\u001b[1;33m\u001b[0m\u001b[0m\n",
      "\u001b[1;32m~\\anaconda3\\lib\\site-packages\\pandas\\io\\common.py\u001b[0m in \u001b[0;36mget_handle\u001b[1;34m(path_or_buf, mode, encoding, compression, memory_map, is_text, errors, storage_options)\u001b[0m\n\u001b[0;32m    784\u001b[0m         \u001b[1;32mif\u001b[0m \u001b[0mioargs\u001b[0m\u001b[1;33m.\u001b[0m\u001b[0mencoding\u001b[0m \u001b[1;32mand\u001b[0m \u001b[1;34m\"b\"\u001b[0m \u001b[1;32mnot\u001b[0m \u001b[1;32min\u001b[0m \u001b[0mioargs\u001b[0m\u001b[1;33m.\u001b[0m\u001b[0mmode\u001b[0m\u001b[1;33m:\u001b[0m\u001b[1;33m\u001b[0m\u001b[1;33m\u001b[0m\u001b[0m\n\u001b[0;32m    785\u001b[0m             \u001b[1;31m# Encoding\u001b[0m\u001b[1;33m\u001b[0m\u001b[1;33m\u001b[0m\u001b[0m\n\u001b[1;32m--> 786\u001b[1;33m             handle = open(\n\u001b[0m\u001b[0;32m    787\u001b[0m                 \u001b[0mhandle\u001b[0m\u001b[1;33m,\u001b[0m\u001b[1;33m\u001b[0m\u001b[1;33m\u001b[0m\u001b[0m\n\u001b[0;32m    788\u001b[0m                 \u001b[0mioargs\u001b[0m\u001b[1;33m.\u001b[0m\u001b[0mmode\u001b[0m\u001b[1;33m,\u001b[0m\u001b[1;33m\u001b[0m\u001b[1;33m\u001b[0m\u001b[0m\n",
      "\u001b[1;31mFileNotFoundError\u001b[0m: [Errno 2] No such file or directory: '/datasets/visits_info_short.csv'"
     ]
    }
   ],
   "source": [
    "# Загружаем данные \n",
    "\n",
    "visits = pd.read_csv('/datasets/visits_info_short.csv')\n",
    "orders = pd.read_csv('/datasets/orders_info_short.csv')\n",
    "costs = pd.read_csv('/datasets/costs_info_short.csv')"
   ]
  },
  {
   "cell_type": "markdown",
   "metadata": {},
   "source": [
    "#### Общее знакомство с данными."
   ]
  },
  {
   "cell_type": "code",
   "execution_count": null,
   "metadata": {},
   "outputs": [],
   "source": [
    "visits.head()"
   ]
  },
  {
   "cell_type": "code",
   "execution_count": null,
   "metadata": {},
   "outputs": [],
   "source": [
    "visits.info()"
   ]
  },
  {
   "cell_type": "code",
   "execution_count": null,
   "metadata": {},
   "outputs": [],
   "source": [
    "visits.isna().sum()"
   ]
  },
  {
   "cell_type": "code",
   "execution_count": null,
   "metadata": {},
   "outputs": [],
   "source": [
    "visits.duplicated().sum()"
   ]
  },
  {
   "cell_type": "markdown",
   "metadata": {},
   "source": [
    "В таблице visits 6 столбцов: User Id, Region, Device, Channel, Session Start, Session End. Количество имеющихся набюдений - 309901 в каждом столбце. Пропусков в данных нет. Полные дубликаты отсутствуют."
   ]
  },
  {
   "cell_type": "code",
   "execution_count": null,
   "metadata": {},
   "outputs": [],
   "source": [
    "orders.head()\n"
   ]
  },
  {
   "cell_type": "code",
   "execution_count": null,
   "metadata": {},
   "outputs": [],
   "source": [
    "orders.info()"
   ]
  },
  {
   "cell_type": "code",
   "execution_count": null,
   "metadata": {},
   "outputs": [],
   "source": [
    "orders.isna().sum()"
   ]
  },
  {
   "cell_type": "code",
   "execution_count": null,
   "metadata": {},
   "outputs": [],
   "source": [
    "orders.duplicated().sum()"
   ]
  },
  {
   "cell_type": "markdown",
   "metadata": {},
   "source": [
    "В таблице orders с информацией о заказах 3 столбца: User Id, Event Dt, Revenue. Количество имеющихся наблюдений -  40212 в каждом столбце.  Пропусков в данных нет. Полные дубликаты отсутствуют."
   ]
  },
  {
   "cell_type": "code",
   "execution_count": null,
   "metadata": {},
   "outputs": [],
   "source": [
    "costs.head()"
   ]
  },
  {
   "cell_type": "code",
   "execution_count": null,
   "metadata": {},
   "outputs": [],
   "source": [
    "costs.info()"
   ]
  },
  {
   "cell_type": "code",
   "execution_count": null,
   "metadata": {},
   "outputs": [],
   "source": [
    "costs.isna().sum()"
   ]
  },
  {
   "cell_type": "code",
   "execution_count": null,
   "metadata": {},
   "outputs": [],
   "source": [
    "costs.duplicated().sum()"
   ]
  },
  {
   "cell_type": "markdown",
   "metadata": {},
   "source": [
    "В таблице costs с данными о затратах на рекламу 3 столбца: dt, Channel  и costs. Количество имеющихся наблюдений в каждом - 1800. Пропусков в данных нет. Полные дубликаты отсутствуют.   "
   ]
  },
  {
   "cell_type": "markdown",
   "metadata": {},
   "source": [
    "#### Изменение названий столбцов."
   ]
  },
  {
   "cell_type": "code",
   "execution_count": null,
   "metadata": {},
   "outputs": [],
   "source": [
    "# Приведём названия столбцов в данных к нижнему регистру.\n",
    "\n",
    "visits.columns = visits.columns.str.lower()"
   ]
  },
  {
   "cell_type": "code",
   "execution_count": null,
   "metadata": {},
   "outputs": [],
   "source": [
    "visits = visits.rename(columns = {'user id':'user_id', 'session start':'session_start', 'session end':'session_end' })\n",
    "visits.head()"
   ]
  },
  {
   "cell_type": "code",
   "execution_count": null,
   "metadata": {},
   "outputs": [],
   "source": [
    "orders.columns = orders.columns.str.lower()"
   ]
  },
  {
   "cell_type": "code",
   "execution_count": null,
   "metadata": {},
   "outputs": [],
   "source": [
    "orders = orders.rename(columns = {'user id':'user_id', 'event dt':'event_dt'})\n",
    "orders.head()"
   ]
  },
  {
   "cell_type": "code",
   "execution_count": null,
   "metadata": {},
   "outputs": [],
   "source": [
    "costs = costs.rename(columns = {'Channel':'channel'})\n",
    "costs.head()"
   ]
  },
  {
   "cell_type": "markdown",
   "metadata": {},
   "source": [
    "#### Изменение типов данных."
   ]
  },
  {
   "cell_type": "code",
   "execution_count": null,
   "metadata": {},
   "outputs": [],
   "source": [
    "# преобразуем данные о времени в таблице visits для дальнейших расчётов\n",
    "\n",
    "visits['session_start'] = pd.to_datetime(visits['session_start'])\n"
   ]
  },
  {
   "cell_type": "code",
   "execution_count": null,
   "metadata": {},
   "outputs": [],
   "source": [
    "visits['session_end'] = pd.to_datetime(visits['session_end'])"
   ]
  },
  {
   "cell_type": "code",
   "execution_count": null,
   "metadata": {},
   "outputs": [],
   "source": [
    "# преобразуем данные о времени в таблице orders \n",
    "\n",
    "orders['event_dt'] = pd.to_datetime(orders['event_dt'])"
   ]
  },
  {
   "cell_type": "code",
   "execution_count": null,
   "metadata": {},
   "outputs": [],
   "source": [
    "# преобразуем данные о времени в таблице costs\n",
    "\n",
    "costs['dt'] = pd.to_datetime(costs['dt']).dt.date"
   ]
  },
  {
   "cell_type": "markdown",
   "metadata": {},
   "source": [
    "*Краткие выводы:*\n",
    "\n",
    "В процессе подготовки данных к анализу были загружены данные с информацией о визитах, покупках и тратах на рекламу. Каждая из таблиц была проверена на наличие пропусков и дубликатов. Во всех имеющихся данных пропуски и дубликаты не обнаружены. Для удобства в последующей работе, названия столбцов были приведены к нижнему регистру, а также был изменён тип данных в столбцах с информацией о времени: в таблице о визитах - столбцы с временем начала и окончани сессий,  в таблице с покупками - с временем совершения покупки, в таблице с затратами на рекламу - с датой рекламной кампании."
   ]
  },
  {
   "cell_type": "markdown",
   "metadata": {
    "id": "AS1eCqCpWVwk"
   },
   "source": [
    "### Задаём функции для расчёта и анализа LTV, ROI, удержания и конверсии."
   ]
  },
  {
   "cell_type": "markdown",
   "metadata": {},
   "source": [
    "#### Функция для создания пользовательских профилей"
   ]
  },
  {
   "cell_type": "code",
   "execution_count": null,
   "metadata": {},
   "outputs": [],
   "source": [
    "# функция для создания пользовательских профилей\n",
    "\n",
    "def get_profiles(sessions, orders, ad_costs):\n",
    "\n",
    "    # находим параметры первых посещений\n",
    "    profiles = (\n",
    "        sessions.sort_values(by=['user_id', 'session_start'])\n",
    "        .groupby('user_id')\n",
    "        .agg(\n",
    "            {\n",
    "                'session_start': 'first',\n",
    "                'channel': 'first',\n",
    "                'device': 'first',\n",
    "                'region': 'first',\n",
    "            }\n",
    "        )\n",
    "        .rename(columns={'session_start': 'first_ts'})\n",
    "        .reset_index()\n",
    "    )\n",
    "\n",
    "    # для когортного анализа определяем дату первого посещения\n",
    "    # и первый день месяца, в который это посещение произошло\n",
    "    profiles['dt'] = profiles['first_ts'].dt.date\n",
    "    profiles['month'] = profiles['first_ts'].astype('datetime64[M]')\n",
    "\n",
    "    # добавляем признак платящих пользователей\n",
    "    profiles['payer'] = profiles['user_id'].isin(orders['user_id'].unique())\n",
    "\n",
    "\n",
    "    # считаем количество уникальных пользователей\n",
    "    # с одинаковыми источником и датой привлечения\n",
    "    new_users = (\n",
    "        profiles.groupby(['dt', 'channel'])\n",
    "        .agg({'user_id': 'nunique'})\n",
    "        .rename(columns={'user_id': 'unique_users'})\n",
    "        .reset_index()\n",
    "    )\n",
    "\n",
    "    # объединяем траты на рекламу и число привлечённых пользователей\n",
    "    ad_costs = ad_costs.merge(new_users, on=['dt', 'channel'], how='left')\n",
    "\n",
    "    # делим рекламные расходы на число привлечённых пользователей\n",
    "    ad_costs['acquisition_cost'] = ad_costs['costs'] / ad_costs['unique_users']\n",
    "\n",
    "    # добавляем стоимость привлечения в профили\n",
    "    profiles = profiles.merge(\n",
    "        ad_costs[['dt', 'channel', 'acquisition_cost']],\n",
    "        on=['dt', 'channel'],\n",
    "        how='left',\n",
    "    )\n",
    "\n",
    "    # стоимость привлечения органических пользователей равна нулю\n",
    "    profiles['acquisition_cost'] = profiles['acquisition_cost'].fillna(0)\n",
    "\n",
    "    return profiles\n"
   ]
  },
  {
   "cell_type": "markdown",
   "metadata": {},
   "source": [
    "#### Функция для расчёта удержания"
   ]
  },
  {
   "cell_type": "code",
   "execution_count": null,
   "metadata": {
    "id": "igOfMgBpWVwl"
   },
   "outputs": [],
   "source": [
    "# функция для расчёта удержания\n",
    "\n",
    "def get_retention(\n",
    "    profiles,\n",
    "    sessions,\n",
    "    observation_date,\n",
    "    horizon_days,\n",
    "    dimensions=[],\n",
    "    ignore_horizon=False,\n",
    "):\n",
    "\n",
    "    # добавляем столбец payer в передаваемый dimensions список\n",
    "    dimensions = ['payer'] + dimensions\n",
    "\n",
    "    # исключаем пользователей, не «доживших» до горизонта анализа\n",
    "    last_suitable_acquisition_date = observation_date\n",
    "    if not ignore_horizon:\n",
    "        last_suitable_acquisition_date = observation_date - timedelta(\n",
    "            days=horizon_days - 1\n",
    "        )\n",
    "    result_raw = profiles.query('dt <= @last_suitable_acquisition_date')\n",
    "\n",
    "    # собираем «сырые» данные для расчёта удержания\n",
    "    result_raw = result_raw.merge(\n",
    "        sessions[['user_id', 'session_start']], on='user_id', how='left'\n",
    "    )\n",
    "    result_raw['lifetime'] = (\n",
    "        result_raw['session_start'] - result_raw['first_ts']\n",
    "    ).dt.days\n",
    "\n",
    "    # функция для группировки таблицы по желаемым признакам\n",
    "    \n",
    "    def group_by_dimensions(df, dims, horizon_days):\n",
    "        result = df.pivot_table(\n",
    "            index=dims, columns='lifetime', values='user_id', aggfunc='nunique'\n",
    "        )\n",
    "        cohort_sizes = (\n",
    "            df.groupby(dims)\n",
    "            .agg({'user_id': 'nunique'})\n",
    "            .rename(columns={'user_id': 'cohort_size'})\n",
    "        )\n",
    "        result = cohort_sizes.merge(result, on=dims, how='left').fillna(0)\n",
    "        result = result.div(result['cohort_size'], axis=0)\n",
    "        result = result[['cohort_size'] + list(range(horizon_days))]\n",
    "        result['cohort_size'] = cohort_sizes\n",
    "        return result\n",
    "\n",
    "    # получаем таблицу удержания\n",
    "    result_grouped = group_by_dimensions(result_raw, dimensions, horizon_days)\n",
    "\n",
    "    # получаем таблицу динамики удержания\n",
    "    result_in_time = group_by_dimensions(\n",
    "        result_raw, dimensions + ['dt'], horizon_days\n",
    "    )\n",
    "\n",
    "    # возвращаем обе таблицы и сырые данные\n",
    "    return result_raw, result_grouped, result_in_time\n"
   ]
  },
  {
   "cell_type": "markdown",
   "metadata": {},
   "source": [
    "#### Функция для расчёта конверсии"
   ]
  },
  {
   "cell_type": "code",
   "execution_count": null,
   "metadata": {},
   "outputs": [],
   "source": [
    "# функция для расчёта конверсии\n",
    "\n",
    "def get_conversion(\n",
    "    profiles,\n",
    "    purchases,\n",
    "    observation_date,\n",
    "    horizon_days,\n",
    "    dimensions=[],\n",
    "    ignore_horizon=False,\n",
    "):\n",
    "\n",
    "    # исключаем пользователей, не «доживших» до горизонта анализа\n",
    "    last_suitable_acquisition_date = observation_date\n",
    "    if not ignore_horizon:\n",
    "        last_suitable_acquisition_date = observation_date - timedelta(\n",
    "            days=horizon_days - 1\n",
    "        )\n",
    "    result_raw = profiles.query('dt <= @last_suitable_acquisition_date')\n",
    "\n",
    "    # определяем дату и время первой покупки для каждого пользователя\n",
    "    first_purchases = (\n",
    "        purchases.sort_values(by=['user_id', 'event_dt'])\n",
    "        .groupby('user_id')\n",
    "        .agg({'event_dt': 'first'})\n",
    "        .reset_index()\n",
    "    )\n",
    "\n",
    "    # добавляем данные о покупках в профили\n",
    "    result_raw = result_raw.merge(\n",
    "        first_purchases[['user_id', 'event_dt']], on='user_id', how='left'\n",
    "    )\n",
    "\n",
    "    # рассчитываем лайфтайм для каждой покупки\n",
    "    result_raw['lifetime'] = (\n",
    "        result_raw['event_dt'] - result_raw['first_ts']\n",
    "    ).dt.days\n",
    "\n",
    "    # группируем по cohort, если в dimensions ничего нет\n",
    "    if len(dimensions) == 0:\n",
    "        result_raw['cohort'] = 'All users' \n",
    "        dimensions = dimensions + ['cohort']\n",
    "\n",
    "    # функция для группировки таблицы по желаемым признакам\n",
    "    \n",
    "    def group_by_dimensions(df, dims, horizon_days):\n",
    "        result = df.pivot_table(\n",
    "            index=dims, columns='lifetime', values='user_id', aggfunc='nunique'\n",
    "        )\n",
    "        result = result.fillna(0).cumsum(axis = 1)\n",
    "        cohort_sizes = (\n",
    "            df.groupby(dims)\n",
    "            .agg({'user_id': 'nunique'})\n",
    "            .rename(columns={'user_id': 'cohort_size'})\n",
    "        )\n",
    "        result = cohort_sizes.merge(result, on=dims, how='left').fillna(0)\n",
    "        # делим каждую «ячейку» в строке на размер когорты\n",
    "        # и получаем conversion rate\n",
    "        result = result.div(result['cohort_size'], axis=0)\n",
    "        result = result[['cohort_size'] + list(range(horizon_days))]\n",
    "        result['cohort_size'] = cohort_sizes\n",
    "        return result\n",
    "\n",
    "    # получаем таблицу конверсии\n",
    "    result_grouped = group_by_dimensions(result_raw, dimensions, horizon_days)\n",
    "\n",
    "    # для таблицы динамики конверсии убираем 'cohort' из dimensions\n",
    "    if 'cohort' in dimensions: \n",
    "        dimensions = []\n",
    "\n",
    "    # получаем таблицу динамики конверсии\n",
    "    result_in_time = group_by_dimensions(\n",
    "        result_raw, dimensions + ['dt'], horizon_days\n",
    "    )\n",
    "\n",
    "    # возвращаем обе таблицы и сырые данные\n",
    "    return result_raw, result_grouped, result_in_time \n"
   ]
  },
  {
   "cell_type": "markdown",
   "metadata": {},
   "source": [
    "#### Функция для расчёта LTV и ROI"
   ]
  },
  {
   "cell_type": "code",
   "execution_count": null,
   "metadata": {},
   "outputs": [],
   "source": [
    "# функция для расчёта LTV и ROI\n",
    "\n",
    "def get_ltv(\n",
    "    profiles,\n",
    "    purchases,\n",
    "    observation_date,\n",
    "    horizon_days,\n",
    "    dimensions=[],\n",
    "    ignore_horizon=False,\n",
    "):\n",
    "\n",
    "    # исключаем пользователей, не «доживших» до горизонта анализа\n",
    "    last_suitable_acquisition_date = observation_date\n",
    "    if not ignore_horizon:\n",
    "        last_suitable_acquisition_date = observation_date - timedelta(\n",
    "            days=horizon_days - 1\n",
    "        )\n",
    "    result_raw = profiles.query('dt <= @last_suitable_acquisition_date')\n",
    "    # добавляем данные о покупках в профили\n",
    "    result_raw = result_raw.merge(\n",
    "        purchases[['user_id', 'event_dt', 'revenue']], on='user_id', how='left'\n",
    "    )\n",
    "    # рассчитываем лайфтайм пользователя для каждой покупки\n",
    "    result_raw['lifetime'] = (\n",
    "        result_raw['event_dt'] - result_raw['first_ts']\n",
    "    ).dt.days\n",
    "    # группируем по cohort, если в dimensions ничего нет\n",
    "    if len(dimensions) == 0:\n",
    "        result_raw['cohort'] = 'All users'\n",
    "        dimensions = dimensions + ['cohort']\n",
    "\n",
    "    # функция группировки по желаемым признакам\n",
    "    def group_by_dimensions(df, dims, horizon_days):\n",
    "        # строим «треугольную» таблицу выручки\n",
    "        result = df.pivot_table(\n",
    "            index=dims, columns='lifetime', values='revenue', aggfunc='sum'\n",
    "        )\n",
    "        # находим сумму выручки с накоплением\n",
    "        result = result.fillna(0).cumsum(axis=1)\n",
    "        # вычисляем размеры когорт\n",
    "        cohort_sizes = (\n",
    "            df.groupby(dims)\n",
    "            .agg({'user_id': 'nunique'})\n",
    "            .rename(columns={'user_id': 'cohort_size'})\n",
    "        )\n",
    "        # объединяем размеры когорт и таблицу выручки\n",
    "        result = cohort_sizes.merge(result, on=dims, how='left').fillna(0)\n",
    "        # считаем LTV: делим каждую «ячейку» в строке на размер когорты\n",
    "        result = result.div(result['cohort_size'], axis=0)\n",
    "        # исключаем все лайфтаймы, превышающие горизонт анализа\n",
    "        result = result[['cohort_size'] + list(range(horizon_days))]\n",
    "        # восстанавливаем размеры когорт\n",
    "        result['cohort_size'] = cohort_sizes\n",
    "\n",
    "        # собираем датафрейм с данными пользователей и значениями CAC, \n",
    "        # добавляя параметры из dimensions\n",
    "        cac = df[['user_id', 'acquisition_cost'] + dims].drop_duplicates()\n",
    "\n",
    "        # считаем средний CAC по параметрам из dimensions\n",
    "        cac = (\n",
    "            cac.groupby(dims)\n",
    "            .agg({'acquisition_cost': 'mean'})\n",
    "            .rename(columns={'acquisition_cost': 'cac'})\n",
    "        )\n",
    "\n",
    "        # считаем ROI: делим LTV на CAC\n",
    "        roi = result.div(cac['cac'], axis=0)\n",
    "\n",
    "        # удаляем строки с бесконечным ROI\n",
    "        roi = roi[~roi['cohort_size'].isin([np.inf])]\n",
    "\n",
    "        # восстанавливаем размеры когорт в таблице ROI\n",
    "        roi['cohort_size'] = cohort_sizes\n",
    "\n",
    "        # добавляем CAC в таблицу ROI\n",
    "        roi['cac'] = cac['cac']\n",
    "\n",
    "        # в финальной таблице оставляем размеры когорт, CAC\n",
    "        # и ROI в лайфтаймы, не превышающие горизонт анализа\n",
    "        roi = roi[['cohort_size', 'cac'] + list(range(horizon_days))]\n",
    "\n",
    "        # возвращаем таблицы LTV и ROI\n",
    "        return result, roi\n",
    "\n",
    "    # получаем таблицы LTV и ROI\n",
    "    result_grouped, roi_grouped = group_by_dimensions(\n",
    "        result_raw, dimensions, horizon_days\n",
    "    )\n",
    "\n",
    "    # для таблиц динамики убираем 'cohort' из dimensions\n",
    "    if 'cohort' in dimensions:\n",
    "        dimensions = []\n",
    "\n",
    "    # получаем таблицы динамики LTV и ROI\n",
    "    result_in_time, roi_in_time = group_by_dimensions(\n",
    "        result_raw, dimensions + ['dt'], horizon_days\n",
    "    )\n",
    "\n",
    "    return (\n",
    "        result_raw,  # сырые данные\n",
    "        result_grouped,  # таблица LTV\n",
    "        result_in_time,  # таблица динамики LTV\n",
    "        roi_grouped,  # таблица ROI\n",
    "        roi_in_time,  # таблица динамики ROI\n",
    "    )\n"
   ]
  },
  {
   "cell_type": "markdown",
   "metadata": {},
   "source": [
    "#### Функция для сглаживания фрейма"
   ]
  },
  {
   "cell_type": "code",
   "execution_count": null,
   "metadata": {},
   "outputs": [],
   "source": [
    "# функция для сглаживания фрейма\n",
    "\n",
    "def filter_data(df, window):\n",
    "    # для каждого столбца применяем скользящее среднее\n",
    "    for column in df.columns.values:\n",
    "        df[column] = df[column].rolling(window).mean() \n",
    "    return df \n"
   ]
  },
  {
   "cell_type": "markdown",
   "metadata": {},
   "source": [
    "#### Функция для визуализации удержания"
   ]
  },
  {
   "cell_type": "code",
   "execution_count": null,
   "metadata": {},
   "outputs": [],
   "source": [
    "# функция для визуализации удержания\n",
    "\n",
    "def plot_retention(retention, retention_history, horizon, window=7):\n",
    "\n",
    "    # задаём размер сетки для графиков\n",
    "    plt.figure(figsize=(15, 10))\n",
    "\n",
    "    # исключаем размеры когорт и удержание первого дня\n",
    "    retention = retention.drop(columns=['cohort_size', 0])\n",
    "    # в таблице динамики оставляем только нужный лайфтайм\n",
    "    retention_history = retention_history.drop(columns=['cohort_size'])[\n",
    "        [horizon - 1]\n",
    "    ]\n",
    "\n",
    "    # если в индексах таблицы удержания только payer,\n",
    "    # добавляем второй признак — cohort\n",
    "    if retention.index.nlevels == 1:\n",
    "        retention['cohort'] = 'All users'\n",
    "        retention = retention.reset_index().set_index(['cohort', 'payer'])\n",
    "\n",
    "    # в таблице графиков — два столбца и две строки, четыре ячейки\n",
    "    # в первой строим кривые удержания платящих пользователей\n",
    "    ax1 = plt.subplot(2, 2, 1)\n",
    "    retention.query('payer == True').droplevel('payer').T.plot(\n",
    "        grid=True, ax=ax1\n",
    "    )\n",
    "    plt.legend()\n",
    "    plt.xlabel('Лайфтайм')\n",
    "    plt.title('Удержание платящих пользователей')\n",
    "\n",
    "    # во второй ячейке строим кривые удержания неплатящих\n",
    "    # вертикальная ось — от графика из первой ячейки\n",
    "    ax2 = plt.subplot(2, 2, 2, sharey=ax1)\n",
    "    retention.query('payer == False').droplevel('payer').T.plot(\n",
    "        grid=True, ax=ax2\n",
    "    )\n",
    "    plt.legend()\n",
    "    plt.xlabel('Лайфтайм')\n",
    "    plt.title('Удержание неплатящих пользователей')\n",
    "\n",
    "    # в третьей ячейке — динамика удержания платящих\n",
    "    ax3 = plt.subplot(2, 2, 3)\n",
    "    # получаем названия столбцов для сводной таблицы\n",
    "    columns = [\n",
    "        name\n",
    "        for name in retention_history.index.names\n",
    "        if name not in ['dt', 'payer']\n",
    "    ]\n",
    "    # фильтруем данные и строим график\n",
    "    filtered_data = retention_history.query('payer == True').pivot_table(\n",
    "        index='dt', columns=columns, values=horizon - 1, aggfunc='mean'\n",
    "    )\n",
    "    filter_data(filtered_data, window).plot(grid=True, ax=ax3)\n",
    "    plt.xlabel('Дата привлечения')\n",
    "    plt.title(\n",
    "        'Динамика удержания платящих пользователей на {}-й день'.format(\n",
    "            horizon\n",
    "        )\n",
    "    )\n",
    "\n",
    "    # в чётвертой ячейке — динамика удержания неплатящих\n",
    "    ax4 = plt.subplot(2, 2, 4, sharey=ax3)\n",
    "    # фильтруем данные и строим график\n",
    "    filtered_data = retention_history.query('payer == False').pivot_table(\n",
    "        index='dt', columns=columns, values=horizon - 1, aggfunc='mean'\n",
    "    )\n",
    "    filter_data(filtered_data, window).plot(grid=True, ax=ax4)\n",
    "    plt.xlabel('Дата привлечения')\n",
    "    plt.title(\n",
    "        'Динамика удержания неплатящих пользователей на {}-й день'.format(\n",
    "            horizon\n",
    "        )\n",
    "    )\n",
    "    \n",
    "    plt.tight_layout()\n",
    "    plt.show() \n",
    "\n"
   ]
  },
  {
   "cell_type": "markdown",
   "metadata": {},
   "source": [
    "#### Функция для визуализации конверсии"
   ]
  },
  {
   "cell_type": "code",
   "execution_count": null,
   "metadata": {},
   "outputs": [],
   "source": [
    "# функция для визуализации конверсии\n",
    "\n",
    "def plot_conversion(conversion, conversion_history, horizon, window=7):\n",
    "\n",
    "    # задаём размер сетки для графиков\n",
    "    plt.figure(figsize=(15, 5))\n",
    "\n",
    "    # исключаем размеры когорт\n",
    "    conversion = conversion.drop(columns=['cohort_size'])\n",
    "    # в таблице динамики оставляем только нужный лайфтайм\n",
    "    conversion_history = conversion_history.drop(columns=['cohort_size'])[\n",
    "        [horizon - 1]\n",
    "    ]\n",
    "\n",
    "    # первый график — кривые конверсии\n",
    "    ax1 = plt.subplot(1, 2, 1)\n",
    "    conversion.T.plot(grid=True, ax=ax1)\n",
    "    plt.legend()\n",
    "    plt.xlabel('Лайфтайм')\n",
    "    plt.title('Конверсия пользователей')\n",
    "\n",
    "    # второй график — динамика конверсии\n",
    "    ax2 = plt.subplot(1, 2, 2, sharey=ax1)\n",
    "    columns = [\n",
    "        # столбцами сводной таблицы станут все столбцы индекса, кроме даты\n",
    "        name for name in conversion_history.index.names if name not in ['dt']\n",
    "    ]\n",
    "    filtered_data = conversion_history.pivot_table(\n",
    "        index='dt', columns=columns, values=horizon - 1, aggfunc='mean'\n",
    "    )\n",
    "    filter_data(filtered_data, window).plot(grid=True, ax=ax2)\n",
    "    plt.xlabel('Дата привлечения')\n",
    "    plt.title('Динамика конверсии пользователей на {}-й день'.format(horizon))\n",
    "\n",
    "    plt.tight_layout()\n",
    "    plt.show()\n",
    "\n"
   ]
  },
  {
   "cell_type": "markdown",
   "metadata": {},
   "source": [
    "#### Функция для визуализации LTV и ROI"
   ]
  },
  {
   "cell_type": "code",
   "execution_count": null,
   "metadata": {},
   "outputs": [],
   "source": [
    "# функция для визуализации LTV и ROI\n",
    "\n",
    "def plot_ltv_roi(ltv, ltv_history, roi, roi_history, horizon, window=7):\n",
    "\n",
    "    # задаём сетку отрисовки графиков\n",
    "    plt.figure(figsize=(20, 10))\n",
    "\n",
    "    # из таблицы ltv исключаем размеры когорт\n",
    "    ltv = ltv.drop(columns=['cohort_size'])\n",
    "    # в таблице динамики ltv оставляем только нужный лайфтайм\n",
    "    ltv_history = ltv_history.drop(columns=['cohort_size'])[[horizon - 1]]\n",
    "\n",
    "    # стоимость привлечения запишем в отдельный фрейм\n",
    "    cac_history = roi_history[['cac']]\n",
    "\n",
    "    # из таблицы roi исключаем размеры когорт и cac\n",
    "    roi = roi.drop(columns=['cohort_size', 'cac'])\n",
    "    # в таблице динамики roi оставляем только нужный лайфтайм\n",
    "    roi_history = roi_history.drop(columns=['cohort_size', 'cac'])[\n",
    "        [horizon - 1]\n",
    "    ]\n",
    "\n",
    "    # первый график — кривые ltv\n",
    "    ax1 = plt.subplot(2, 3, 1)\n",
    "    ltv.T.plot(grid=True, ax=ax1)\n",
    "    plt.legend()\n",
    "    plt.xlabel('Лайфтайм')\n",
    "    plt.title('LTV')\n",
    "\n",
    "    # второй график — динамика ltv\n",
    "    ax2 = plt.subplot(2, 3, 2, sharey=ax1)\n",
    "    # столбцами сводной таблицы станут все столбцы индекса, кроме даты\n",
    "    columns = [name for name in ltv_history.index.names if name not in ['dt']]\n",
    "    filtered_data = ltv_history.pivot_table(\n",
    "        index='dt', columns=columns, values=horizon - 1, aggfunc='mean'\n",
    "    )\n",
    "    filter_data(filtered_data, window).plot(grid=True, ax=ax2)\n",
    "    plt.xlabel('Дата привлечения')\n",
    "    plt.title('Динамика LTV пользователей на {}-й день'.format(horizon))\n",
    "\n",
    "    # третий график — динамика cac\n",
    "    ax3 = plt.subplot(2, 3, 3, sharey=ax1)\n",
    "    # столбцами сводной таблицы станут все столбцы индекса, кроме даты\n",
    "    columns = [name for name in cac_history.index.names if name not in ['dt']]\n",
    "    filtered_data = cac_history.pivot_table(\n",
    "        index='dt', columns=columns, values='cac', aggfunc='mean'\n",
    "    )\n",
    "    filter_data(filtered_data, window).plot(grid=True, ax=ax3)\n",
    "    plt.xlabel('Дата привлечения')\n",
    "    plt.title('Динамика стоимости привлечения пользователей')\n",
    "\n",
    "    # четвёртый график — кривые roi\n",
    "    ax4 = plt.subplot(2, 3, 4)\n",
    "    roi.T.plot(grid=True, ax=ax4)\n",
    "    plt.axhline(y=1, color='red', linestyle='--', label='Уровень окупаемости')\n",
    "    plt.legend()\n",
    "    plt.xlabel('Лайфтайм')\n",
    "    plt.title('ROI')\n",
    "\n",
    "    # пятый график — динамика roi\n",
    "    ax5 = plt.subplot(2, 3, 5, sharey=ax4)\n",
    "    # столбцами сводной таблицы станут все столбцы индекса, кроме даты\n",
    "    columns = [name for name in roi_history.index.names if name not in ['dt']]\n",
    "    filtered_data = roi_history.pivot_table(\n",
    "        index='dt', columns=columns, values=horizon - 1, aggfunc='mean'\n",
    "    )\n",
    "    filter_data(filtered_data, window).plot(grid=True, ax=ax5)\n",
    "    plt.axhline(y=1, color='red', linestyle='--', label='Уровень окупаемости')\n",
    "    plt.xlabel('Дата привлечения')\n",
    "    plt.title('Динамика ROI пользователей на {}-й день'.format(horizon))\n",
    "\n",
    "    plt.tight_layout()\n",
    "    plt.show()\n"
   ]
  },
  {
   "cell_type": "markdown",
   "metadata": {},
   "source": [
    "<div class=\"alert alert-success\">\n",
    "  \n",
    "  <b>Комментарий ревьюера</b>\n",
    "    \n",
    "  ✔️ Отличные функции!\n",
    "</div>"
   ]
  },
  {
   "cell_type": "markdown",
   "metadata": {
    "id": "V-KBT-KMWVwl"
   },
   "source": [
    "### Исследовательский анализ данных\n",
    "\n",
    "- Составьте профили пользователей. Определите минимальную и максимальную даты привлечения пользователей.\n",
    "- Выясните, из каких стран пользователи приходят в приложение и на какую страну приходится больше всего платящих пользователей. Постройте таблицу, отражающую количество пользователей и долю платящих из каждой страны.\n",
    "- Узнайте, какими устройствами пользуются клиенты и какие устройства предпочитают платящие пользователи. Постройте таблицу, отражающую количество пользователей и долю платящих для каждого устройства.\n",
    "- Изучите рекламные источники привлечения и определите каналы, из которых пришло больше всего платящих пользователей. Постройте таблицу, отражающую количество пользователей и долю платящих для каждого канала привлечения.\n",
    "\n",
    "После каждого пункта сформулируйте выводы."
   ]
  },
  {
   "cell_type": "markdown",
   "metadata": {},
   "source": [
    "#### Составление профилей"
   ]
  },
  {
   "cell_type": "code",
   "execution_count": null,
   "metadata": {},
   "outputs": [],
   "source": [
    "# Составляем профили пользователей\n",
    "\n",
    "profiles = get_profiles(visits, orders, costs)\n",
    "profiles.head()"
   ]
  },
  {
   "cell_type": "markdown",
   "metadata": {},
   "source": [
    "<div class=\"alert alert-warning\">\n",
    "    \n",
    "  <b>Комментарий ревьюера</b>\n",
    "    \n",
    "  ⚠️ Не выводи на показ весь датафрейм, при больших объемах можно подвесить ноутбук. Используй head(), tail() или sample().\n",
    "</div>"
   ]
  },
  {
   "cell_type": "markdown",
   "metadata": {},
   "source": [
    "<div class=\"alert alert-block alert-info\">\n",
    "\n",
    "  <b>Комментарий cтудента</b>\n",
    "\n",
    "  Вывела только первые 5 строк выше.\n",
    "</div>\n",
    "<div class=\"alert alert-success\">\n",
    "  \n",
    "  <b>Комментарий ревьюера v.2</b>\n",
    "    \n",
    "  ✔️ 👌\n",
    "</div>"
   ]
  },
  {
   "cell_type": "code",
   "execution_count": null,
   "metadata": {},
   "outputs": [],
   "source": [
    "# Определяем минимальную дату привлечения пользователей\n",
    "\n",
    "min_analysis_date = profiles['dt'].min()\n",
    "min_analysis_date"
   ]
  },
  {
   "cell_type": "code",
   "execution_count": null,
   "metadata": {},
   "outputs": [],
   "source": [
    "# Определяем максимальную дату привлечения пользователей\n",
    "\n",
    "max_analysis_date = profiles['dt'].max()\n",
    "max_analysis_date"
   ]
  },
  {
   "cell_type": "markdown",
   "metadata": {},
   "source": [
    "После составления профилей пользователей в нашем распоряжении оказалось 150008 наблюдений, в каждом из которых есть данные о дате первого посещения, рекламном источнике, используемом устройстве, стране и стоимости привлечения пользователя, а также признак payer (совершил ли пользователь покупку). Минимальная дата привлечения пользователей в имеющихся данных - 1 мая 2019г., а максимальная - 27 октября 2019г., что полностью совпадает с полученной в задании информацией. "
   ]
  },
  {
   "cell_type": "markdown",
   "metadata": {},
   "source": [
    "<div class=\"alert alert-success\">\n",
    "  \n",
    "  <b>Комментарий ревьюера</b>\n",
    "    \n",
    "  ✔️ Замечательно, у нас есть даты!\n",
    "</div>\n",
    "<div class=\"alert alert-warning\">\n",
    "    \n",
    "  <b>Комментарий ревьюера</b>\n",
    "    \n",
    "  ⚠️ Стоит сказать, что они совпадают с заданием.\n",
    "</div>"
   ]
  },
  {
   "cell_type": "markdown",
   "metadata": {},
   "source": [
    "<div class=\"alert alert-block alert-info\">\n",
    "\n",
    "  <b>Комментарий cтудента</b>\n",
    "\n",
    "  Дополнила этот пункт к выводу.\n",
    "</div>\n",
    "<div class=\"alert alert-success\">\n",
    "  \n",
    "  <b>Комментарий ревьюера v.2</b>\n",
    "    \n",
    "  ✔️ 👌\n",
    "</div>"
   ]
  },
  {
   "cell_type": "markdown",
   "metadata": {},
   "source": [
    "#### Количество пользователей по странам, доля платящих"
   ]
  },
  {
   "cell_type": "code",
   "execution_count": null,
   "metadata": {},
   "outputs": [],
   "source": [
    "# Определяем, из каких стран приходят пользователи и их количество\n",
    "# определяем долю платящих в каждой стране\n",
    "\n",
    "users_region = profiles.pivot_table(index='region', values=['user_id', 'payer'], aggfunc = {'payer':['mean', 'sum'], 'user_id':'nunique'})\n",
    "users_region.columns = ['payers_share', 'payers_number', 'users_number'] \n",
    "users_region['payers_share'] = round(users_region['payers_share']*100, 2)\n",
    "users_region.sort_values(by = 'payers_share', ascending = False)                        \n"
   ]
  },
  {
   "cell_type": "markdown",
   "metadata": {},
   "source": [
    "Пользователи приложения приходят из США, Германии, Великобритании и Франции. Количество новых пользователей из США значительно превышает количество пользователей из других стран - 100002. Из Великобритении и Франции пришло в приложение примерно одинаковое количество пользователей - 17575 и 17450 соответственно. Меньше всего пользователей пришло из Германии - 14981. Самая высокая доля платящих пользователей из США - 6.9%. Далее идут Германия (4.11%), Великобритания (3.98%) и Франция(3.8%)."
   ]
  },
  {
   "cell_type": "markdown",
   "metadata": {},
   "source": [
    "#### Количество пользователей по типу устройста, доля платящих"
   ]
  },
  {
   "cell_type": "code",
   "execution_count": null,
   "metadata": {},
   "outputs": [],
   "source": [
    "# Определяем, какими устройствами пользуются клиенты \n",
    "# и какие устройства предпочитают платящие пользователи\n",
    "\n",
    "users_device = profiles.pivot_table(index='device', values=['user_id', 'payer'], aggfunc = {'payer':['mean', 'sum'], 'user_id':'nunique'})\n",
    "users_device.columns = ['payers_share', 'payers_number', 'users_number'] \n",
    "users_device['payers_share'] = round(users_device['payers_share']*100, 2)\n",
    "users_device.sort_values(by = 'payers_share', ascending = False)\n"
   ]
  },
  {
   "cell_type": "markdown",
   "metadata": {},
   "source": [
    "Большая часть пользователей для входа в приложение использует iPhone - 54479. Второе по популярности устройство - Android (35032). Примерно одинаковое количество пользователей использует для входа в приложение PC и Mac (30455 и 30042 соответственно). Наиболее высокие доли платящих у пользователей Apple: Mac - 6.4%, iPhone - 6.2%. Несколько ниже доля платящих у пользователей Android (5.9%). Самый низкий показатель у пользователей PC - 5%."
   ]
  },
  {
   "cell_type": "markdown",
   "metadata": {},
   "source": [
    "#### Количество пользователей по источнику привлечения, доля платящих."
   ]
  },
  {
   "cell_type": "code",
   "execution_count": null,
   "metadata": {},
   "outputs": [],
   "source": [
    "# Определяем источники привлечения и каналы, из которых пришло больше всего платящих пользователей\n",
    "\n",
    "users_channel = profiles.pivot_table(index='channel', values=['user_id', 'payer'], aggfunc = {'payer':['mean', 'sum'], 'user_id':'nunique'})\n",
    "users_channel.columns = ['payers_share', 'payers_number', 'users_number'] \n",
    "users_channel['payers_share'] = round(users_channel['payers_share']*100, 2)\n",
    "users_channel.sort_values(by = 'payers_share', ascending = False)"
   ]
  },
  {
   "cell_type": "markdown",
   "metadata": {},
   "source": [
    "Хотя количество органических пользователей самое значительное, доля платящих среди них самая низкая (2.1%). Самая высокая доля платящих приходит через FaceBoom (12.2%). Также высокая доля платящих приходит через AdNonSense (11.34%), lambdaMediaAds (10.47%) и TipTop (9.6%)."
   ]
  },
  {
   "cell_type": "markdown",
   "metadata": {},
   "source": [
    "<div class=\"alert alert-success\">\n",
    "  \n",
    "  <b>Комментарий ревьюера</b>\n",
    "    \n",
    "  ✔️ С платящими определились!\n",
    "</div>"
   ]
  },
  {
   "cell_type": "markdown",
   "metadata": {},
   "source": [
    "*Выводы*:\n",
    "\n",
    "* После составления профилей пользователей в нашем распоряжении оказалось 150008 наблюдений, в каждом из которых есть данные о дате первого посещения, рекламном источнике, используемом устройстве, стране и стоимости привлечения пользователя, а также признак payer (совершил ли пользователь покупку). Минимальная дата привлечения пользователей в имеющихся данных - 1 мая 2019г., а максимальная - 27 октября 2019г., что полностью совпадает с полученной в задании информацией. \n",
    "* Пользователи приложения приходят из США, Германии, Великобритании и Франции. Количество новых пользователей из США значительно превышает количество пользователей из других стран - 100002. Из Великобритении и Франции пришло в приложение примерно одинаковое количество пользователей - 17575 и 17450 соответственно. Меньше всего пользователей пришло из Германии - 14981. Самая высокая доля платящих пользователей из США - 6.9%. Далее идут Германия (4.11%), Великобритания (3.98%) и Франция(3.8%).\n",
    "* Большая часть пользователей для входа в приложение использует iPhone - 54479. Второе по популярности устройство - Android (35032). Примерно одинаковое количество пользователей использует для входа в приложение PC и Mac (30455 и 30042 соответственно). Наиболее высокие доли платящих у пользователей Apple: Mac - 6.4%, iPhone - 6.2%. Несколько ниже доля платящих у пользователей Android (5.9%). Самый низкий показатель у пользователей PC - 5%.\n",
    "* Хотя количество органических пользователей самое значительное, доля платящих среди них самая низкая (2.1%). Самая высокая доля платящих приходит через FaceBoom (12.2%). Также высокая доля платящих приходит через AdNonSense (11.34%), lambdaMediaAds (10.47%) и TipTop (9.6%)."
   ]
  },
  {
   "cell_type": "markdown",
   "metadata": {
    "id": "80LRB5-eWVwm"
   },
   "source": [
    "### Маркетинг\n",
    "\n",
    "- Посчитайте общую сумму расходов на маркетинг.\n",
    "- Выясните, как траты распределены по рекламным источникам, то есть сколько денег потратили на каждый источник.\n",
    "- Постройте визуализацию динамики изменения расходов во времени (по неделям и месяцам) по каждому источнику. Постарайтесь отразить это на одном графике.\n",
    "- Узнайте, сколько в среднем стоило привлечение одного пользователя (CAC) из каждого источника. Используйте профили пользователей.\n",
    "\n",
    "Напишите промежуточные выводы."
   ]
  },
  {
   "cell_type": "markdown",
   "metadata": {},
   "source": [
    "#### Общая сумма расходов на маркетинг"
   ]
  },
  {
   "cell_type": "code",
   "execution_count": null,
   "metadata": {
    "id": "DQE9emXqWVwm"
   },
   "outputs": [],
   "source": [
    "# Определяем общую сумму расходов на маркетинг \n",
    "\n",
    "costs_total = costs['costs'].sum()\n",
    "round(costs_total)"
   ]
  },
  {
   "cell_type": "markdown",
   "metadata": {},
   "source": [
    "Всего за исследуемы период на рекламу было потрачено 105497 "
   ]
  },
  {
   "cell_type": "markdown",
   "metadata": {},
   "source": [
    "<div class=\"alert alert-success\">\n",
    "  \n",
    "  <b>Комментарий ревьюера</b>\n",
    "    \n",
    "  ✔️ Общие затраты посчитали.\n",
    "</div>"
   ]
  },
  {
   "cell_type": "markdown",
   "metadata": {},
   "source": [
    "#### Траты по источникам рекламы"
   ]
  },
  {
   "cell_type": "code",
   "execution_count": null,
   "metadata": {},
   "outputs": [],
   "source": [
    "# Определим, как распределились траты по рекламным источникам.\n",
    "\n",
    "channel_costs = costs.pivot_table(index='channel', values = 'costs', aggfunc = 'sum')\n",
    "channel_costs['share'] = round(channel_costs['costs']/costs_total*100, 2)\n",
    "channel_costs.sort_values('costs', ascending=False)"
   ]
  },
  {
   "cell_type": "markdown",
   "metadata": {},
   "source": [
    "Больше всего средств было вложено на рекламу в TipTop (54751.3) и FaceBoom (32445.6). При этом больше половины рекламного бюджета было выделено на рекламу на TipTop. "
   ]
  },
  {
   "cell_type": "markdown",
   "metadata": {},
   "source": [
    "<div class=\"alert alert-success\">\n",
    "  \n",
    "  <b>Комментарий ревьюера</b>\n",
    "    \n",
    "  ✔️  На популярные каналы тратится больше.\n",
    "\n",
    "</div> \n",
    "<div class=\"alert alert-warning\">\n",
    "    \n",
    "  <b>Комментарий ревьюера</b>\n",
    "      \n",
    "  ⚠️ Стоит вывести еще процент затрат каждого канала от общей суммы, так будет понятней общая картина.\n",
    "</div>"
   ]
  },
  {
   "cell_type": "markdown",
   "metadata": {},
   "source": [
    "<div class=\"alert alert-block alert-info\">\n",
    "\n",
    "  <b>Комментарий cтудента</b>\n",
    "\n",
    "  Добавила столбец с процентом затрат.\n",
    "</div>\n",
    "<div class=\"alert alert-success\">\n",
    "  \n",
    "  <b>Комментарий ревьюера v.2</b>\n",
    "    \n",
    "  ✔️ Замечательно! Видим, что два канала съели более 80% бюджета.\n",
    "</div>"
   ]
  },
  {
   "cell_type": "markdown",
   "metadata": {},
   "source": [
    "#### Динамика изменения расходов во времени (по неделям и месяцам) по каждому источнику."
   ]
  },
  {
   "cell_type": "code",
   "execution_count": null,
   "metadata": {},
   "outputs": [],
   "source": [
    "# Создаем в таблице costs столбцы с номером месяца и недели\n",
    "\n",
    "costs['week'] = pd.to_datetime(costs['dt']).dt.isocalendar().week\n",
    "costs['month'] = pd.DatetimeIndex(costs['dt']).month\n",
    "costs.head()"
   ]
  },
  {
   "cell_type": "code",
   "execution_count": null,
   "metadata": {},
   "outputs": [],
   "source": [
    "# Строим графики динамики изменения расходов во времени (по неделям и месяцам) по каждому источнику\n",
    "\n",
    "plt.figure(figsize=(20, 8))\n",
    "\n",
    "cac_week = costs.pivot_table(index='week', columns='channel', values='costs', aggfunc='sum')\\\n",
    "                .plot(grid=True, xticks=list(costs.week.values), ax = plt.subplot(1, 2, 1))\n",
    "plt.ylabel('Сумма расходов', fontsize = 15)\n",
    "plt.xlabel('Номер недели', fontsize = 15)\n",
    "plt.title('Динамика САС по рекламным источникам', fontsize = 20)\n",
    "plt.legend(fontsize = 13)\n",
    "\n",
    "\n",
    "cac_month = costs.pivot_table(index='month', columns='channel', values='costs', aggfunc='sum')\\\n",
    "                 .plot(grid=True, ax = plt.subplot(1, 2, 2))\n",
    "plt.ylabel('Сумма расходов', fontsize = 15)\n",
    "plt.xlabel('Номер месяца', fontsize = 15)\n",
    "plt.title('Динамика САС по рекламным источникам', fontsize = 20)\n",
    "plt.legend(fontsize = 13)\n",
    "plt.tight_layout()\n",
    "plt.show()"
   ]
  },
  {
   "cell_type": "markdown",
   "metadata": {},
   "source": [
    "Графики показывают, что больше всего средств было потрачено на рекламу в TipTop и Faceboom. При этом в мае траты на рекламу в Faceboom были несколько выше, но примерно с 21 недели (с июня) TipTop вышел в лидеры. Вклад в рекламу на этом ресурсе стабильно рос до 9 месяца с заметным пиком на 39 неделе."
   ]
  },
  {
   "cell_type": "markdown",
   "metadata": {},
   "source": [
    "<div class=\"alert alert-success\">\n",
    "  \n",
    "  <b>Комментарий ревьюера</b>\n",
    "    \n",
    "  ✔️ Видим динамику расходов. TipTop и FaceBoom заметно выделяются.\n",
    "</div>"
   ]
  },
  {
   "cell_type": "markdown",
   "metadata": {},
   "source": [
    "#### Средняя стоимость привлечения пользователя по рекламным источникам."
   ]
  },
  {
   "cell_type": "code",
   "execution_count": null,
   "metadata": {},
   "outputs": [],
   "source": [
    "cac_mean = profiles.pivot_table(index='channel', values = 'acquisition_cost', aggfunc = 'mean')\n",
    "cac_mean['acquisition_cost'] = round(cac_mean['acquisition_cost'], 2)\n",
    "cac_mean.sort_values('acquisition_cost', ascending = False)"
   ]
  },
  {
   "cell_type": "markdown",
   "metadata": {},
   "source": [
    "Самыми дорогими по привлечению пользователями оказались пользователи, пришедшие через TipTop (2.8), FaceBoom (1.11) и AdNonSense (1.01).\t"
   ]
  },
  {
   "cell_type": "markdown",
   "metadata": {},
   "source": [
    "<div class=\"alert alert-success\">\n",
    "  \n",
    "  <b>Комментарий ревьюера</b>\n",
    "    \n",
    "  ✔️ И обходятся популярные каналы дороже.\n",
    "\n",
    "</div> \n",
    "\n",
    "\n",
    "<div class=\"alert alert-warning\">\n",
    "    \n",
    "  <b>Комментарий ревьюера</b>\n",
    "    \n",
    "  ⚠️ Можно еще рассчитать средний CAC на одного пользователя для всего проекта, так увидим на сколько выше среднего САС у популярных каналов.\n",
    "    \n",
    "</div>\n",
    "<div class=\"alert alert-danger\">\n",
    "    \n",
    "  <b>Комментарий ревьюера</b>\n",
    "    \n",
    "  ❌ Напрашивается промежуточный вывод по всему шагу маркетинга.\n",
    "</div>"
   ]
  },
  {
   "cell_type": "markdown",
   "metadata": {},
   "source": [
    "<div class=\"alert alert-block alert-info\">\n",
    "\n",
    "  <b>Комментарий cтудента</b>\n",
    "\n",
    "  Сергей, по твоей рекомендации решила рассчитать средний CAC. Я же правильно понимаю, что речь идёт о неорганических пользователях? Органические же для нас бесплатны.\n",
    "    \n",
    "</div>\n",
    "<div class=\"alert alert-success\">\n",
    "  \n",
    "  <b>Комментарий ревьюера v.2</b>\n",
    "    \n",
    "  ✔️ Верно! CAC (Customer Acquisition Cost - стоимость привлечения клиента) это сумма, в которую нам обходится каждый новый клиент совершивший покупку. А за клиентов канала organic мы не платим.\n",
    "</div>"
   ]
  },
  {
   "cell_type": "code",
   "execution_count": null,
   "metadata": {},
   "outputs": [],
   "source": [
    "# Рассчитаем средний CAC на одного пользователя для всего проекта.\n",
    "# Найдём общее количество платящих пользователей.\n",
    "\n",
    "profiles_filt = profiles.query('channel != \"organic\"')\n",
    "\n",
    "users_nonorg = profiles_filt['user_id'].count()\n",
    "users_nonorg"
   ]
  },
  {
   "cell_type": "code",
   "execution_count": null,
   "metadata": {},
   "outputs": [],
   "source": [
    "CAC_mean = round(costs_total/users_nonorg, 2)\n",
    "CAC_mean"
   ]
  },
  {
   "cell_type": "markdown",
   "metadata": {},
   "source": [
    "Если сравнить траты по каналам  со средним CAC по проекту, то видно, что рекламные расходы на TipTop более чем в 2 раза превышают средний показатель."
   ]
  },
  {
   "cell_type": "markdown",
   "metadata": {},
   "source": [
    "**Выводы:**\n",
    "* Всего за исследуемы период на рекламу было потрачено 105497.\n",
    "* Больше всего средств было вложено на рекламу в TipTop (54751.3) и FaceBoom (32445.6). При этом больше половины рекламного бюджета было выделено на рекламу на TipTop. При этом в мае траты на рекламу в Faceboom были несколько выше, но примерно с 21 недели (с июня) TipTop вышел в лидеры. Вклад в рекламу на этом ресурсе стабильно рос до 9 месяца с заметным пиком на 39 неделе.\n",
    "* Самыми дорогими по привлечению пользователями оказались пользователи, пришедшие через TipTop (2.8), FaceBoom (1.11) и AdNonSense (1.01)."
   ]
  },
  {
   "cell_type": "markdown",
   "metadata": {
    "id": "poDjrQVHWVwn"
   },
   "source": [
    "### Оцените окупаемость рекламы\n",
    "\n",
    "Используя графики LTV, ROI и CAC, проанализируйте окупаемость рекламы. Считайте, что на календаре 1 ноября 2019 года, а в бизнес-плане заложено, что пользователи должны окупаться не позднее чем через две недели после привлечения. Необходимость включения в анализ органических пользователей определите самостоятельно.\n",
    "\n",
    "- Проанализируйте окупаемость рекламы c помощью графиков LTV и ROI, а также графики динамики LTV, CAC и ROI.\n",
    "- Проверьте конверсию пользователей и динамику её изменения. То же самое сделайте с удержанием пользователей. Постройте и изучите графики конверсии и удержания.\n",
    "- Проанализируйте окупаемость рекламы с разбивкой по устройствам. Постройте графики LTV и ROI, а также графики динамики LTV, CAC и ROI.\n",
    "- Проанализируйте окупаемость рекламы с разбивкой по странам. Постройте графики LTV и ROI, а также графики динамики LTV, CAC и ROI.\n",
    "- Проанализируйте окупаемость рекламы с разбивкой по рекламным каналам. Постройте графики LTV и ROI, а также графики динамики LTV, CAC и ROI.\n",
    "- Ответьте на такие вопросы:\n",
    "    - Окупается ли реклама, направленная на привлечение пользователей в целом?\n",
    "    - Какие устройства, страны и рекламные каналы могут оказывать негативное влияние на окупаемость рекламы?\n",
    "    - Чем могут быть вызваны проблемы окупаемости?\n",
    "\n",
    "Напишите вывод, опишите возможные причины обнаруженных проблем и промежуточные рекомендации для рекламного отдела."
   ]
  },
  {
   "cell_type": "markdown",
   "metadata": {},
   "source": [
    "#### LTV, CAC и ROI"
   ]
  },
  {
   "cell_type": "code",
   "execution_count": null,
   "metadata": {
    "id": "hbNu9EXeWVwo"
   },
   "outputs": [],
   "source": [
    "# Графики LTV и ROI, а также графики динамики LTV, CAC и ROI\n",
    "\n",
    "horizon_days=14\n",
    "observation_date = datetime(2019, 11, 1).date()\n",
    "\n",
    "ltv_raw, ltv_grouped, ltv_history, roi_grouped, roi_history = get_ltv(profiles_filt, orders, observation_date, horizon_days)\n",
    "\n",
    "plot_ltv_roi(ltv_grouped, ltv_history, roi_grouped, roi_history, horizon_days) \n"
   ]
  },
  {
   "cell_type": "markdown",
   "metadata": {},
   "source": [
    "**Выводы** \n",
    "\n",
    "- Реклама в целом не окупается. ROI к концу второй недели достигает примерно 80%.\n",
    "- САС показывает значительный рост начиная с серидины мая, рекламный бюджет заметно увеличивался на протяжении всего рассматриваемого периода. В сентябре/октябре траты на рекламу примерно в 2 раза выше, чем в мае.\n",
    "- В динамике LTV наблюдаются некоторые скачки и спады, но в целом показатель стабилен.\n",
    "- Динамика ROI на 14 день показывает тревожные результаты. Сначала показатель опустился на некоторое время ниже линии окупаемости в начале июня, затем на короткое время незначительно перевалил за неё, а после начал показывать стабильную тенденцию к снижению.\n",
    "- Хотя затраты на рекламу постоянно увеличивались, LTV оставался достаточно стабильным. Соответственно, ROI также стабильно шёл на снижение."
   ]
  },
  {
   "cell_type": "markdown",
   "metadata": {},
   "source": [
    "<div class=\"alert alert-success\">\n",
    "  \n",
    "  <b>Комментарий ревьюера</b>\n",
    "    \n",
    "  ✔️ Да, наблюдаем явные проблемы.\n",
    "</div>"
   ]
  },
  {
   "cell_type": "markdown",
   "metadata": {},
   "source": [
    "#### Конверсия и удержание пользователей"
   ]
  },
  {
   "cell_type": "code",
   "execution_count": null,
   "metadata": {},
   "outputs": [],
   "source": [
    "# Изучаем графики конверсии\n",
    "\n",
    "conversion_raw, conversion_grouped, conversion_history = get_conversion(\n",
    "    profiles_filt, orders, observation_date, horizon_days)\n",
    "\n",
    "plot_conversion(conversion_grouped, conversion_history, horizon_days)"
   ]
  },
  {
   "cell_type": "markdown",
   "metadata": {},
   "source": [
    "В целом конверсия показывает постоянный рост. Наилучшие показатели конверсии на 14 день наблюдаются в середине июня."
   ]
  },
  {
   "cell_type": "code",
   "execution_count": null,
   "metadata": {},
   "outputs": [],
   "source": [
    "# Изучаем графики удержания\n",
    "\n",
    "retention_raw, retention_grouped, retention_history = get_retention(\n",
    "    profiles_filt, visits, observation_date, horizon_days)\n",
    "    \n",
    "plot_retention(retention_grouped, retention_history, horizon_days) "
   ]
  },
  {
   "cell_type": "markdown",
   "metadata": {},
   "source": [
    "Удержание платящих пользователей ожидаемо идёт на спад. Наилучшие показатели удержания наблюдаются в июне и середине августа."
   ]
  },
  {
   "cell_type": "markdown",
   "metadata": {},
   "source": [
    "#### Окупаемость рекламы с разбивкой по устройствам"
   ]
  },
  {
   "cell_type": "code",
   "execution_count": null,
   "metadata": {},
   "outputs": [],
   "source": [
    "# Анализируем окупаемость рекламы с разбивкой по устройствам\n",
    "\n",
    "dimensions = ['device']\n",
    "\n",
    "ltv_raw, ltv_grouped, ltv_history, roi_grouped, roi_history = get_ltv(profiles_filt, orders, observation_date, horizon_days, dimensions=dimensions)\n",
    "\n",
    "plot_ltv_roi(ltv_grouped, ltv_history, roi_grouped, roi_history, horizon_days, window=14)"
   ]
  },
  {
   "cell_type": "code",
   "execution_count": null,
   "metadata": {},
   "outputs": [],
   "source": [
    "# смотрим конверсию с разбивкой по устройствам\n",
    "\n",
    "dimensions = ['device']\n",
    "\n",
    "conversion_raw, conversion_grouped, conversion_history = get_conversion(\n",
    "    profiles_filt, orders, observation_date, horizon_days, dimensions=dimensions\n",
    ")\n",
    "\n",
    "plot_conversion(conversion_grouped, conversion_history, horizon_days) \n"
   ]
  },
  {
   "cell_type": "code",
   "execution_count": null,
   "metadata": {},
   "outputs": [],
   "source": [
    "# смотрим удержание с разбивкой по устройствам\n",
    "dimensions = ['device']\n",
    "\n",
    "retention_raw, retention_grouped, retention_history = get_retention(\n",
    "    profiles_filt, visits, observation_date, horizon_days, dimensions=dimensions\n",
    ")\n",
    "\n",
    "plot_retention(retention_grouped, retention_history, horizon_days) \n"
   ]
  },
  {
   "cell_type": "markdown",
   "metadata": {},
   "source": [
    "**Выводы**\n",
    "\n",
    "- Самыми дорогими для привлечения пользователями являются пользователи iPhone и Mac, а самыми недорогими - пользователи PC.\n",
    "- Между тем, окупается реклама ближе к концу второй недели только у пользователей PC. Однако, в динамике и у пользователей PC реклама перестаёт окупаться с сентября.\n",
    "- Хотя конверсия пользователей iPhone и Mac самая высокая, а конверсия пользователей PC - самая низкая, удержание платящих пользователей PC стабильно самое высокое, а удержание iPhone и Mac - самое низкое."
   ]
  },
  {
   "cell_type": "markdown",
   "metadata": {},
   "source": [
    "<div class=\"alert alert-success\">\n",
    "  \n",
    "  <b>Комментарий ревьюера</b>\n",
    "    \n",
    "  ✔️ Верно, за 14 дней окупается только PC. Но в динамике видим, что и он с сентября перестает окупаться.\n",
    "</div>"
   ]
  },
  {
   "cell_type": "markdown",
   "metadata": {},
   "source": [
    "#### Окупаемость рекламы с разбивкой по странам"
   ]
  },
  {
   "cell_type": "code",
   "execution_count": null,
   "metadata": {},
   "outputs": [],
   "source": [
    "# Анализируем окупаемость рекламы с разбивкой по странам\n",
    "\n",
    "dimensions = ['region']\n",
    "\n",
    "ltv_raw, ltv_grouped, ltv_history, roi_grouped, roi_history = get_ltv(profiles_filt, orders, observation_date, horizon_days, dimensions=dimensions)\n",
    "\n",
    "plot_ltv_roi(ltv_grouped, ltv_history, roi_grouped, roi_history, horizon_days, window=14)"
   ]
  },
  {
   "cell_type": "code",
   "execution_count": null,
   "metadata": {},
   "outputs": [],
   "source": [
    "# смотрим конверсию с разбивкой по странам\n",
    "\n",
    "dimensions = ['region']\n",
    "\n",
    "conversion_raw, conversion_grouped, conversion_history = get_conversion(\n",
    "    profiles_filt, orders, observation_date, horizon_days, dimensions=dimensions\n",
    ")\n",
    "\n",
    "plot_conversion(conversion_grouped, conversion_history, horizon_days) \n"
   ]
  },
  {
   "cell_type": "code",
   "execution_count": null,
   "metadata": {},
   "outputs": [],
   "source": [
    "# смотрим удержание с разбивкой по странам\n",
    "\n",
    "dimensions = ['region']\n",
    "\n",
    "retention_raw, retention_grouped, retention_history = get_retention(\n",
    "    profiles_filt, visits, observation_date, horizon_days, dimensions=dimensions\n",
    ")\n",
    "\n",
    "plot_retention(retention_grouped, retention_history, horizon_days) \n"
   ]
  },
  {
   "cell_type": "markdown",
   "metadata": {},
   "source": [
    "**Выводы**\n",
    "\n",
    "- Реклама в США не окупается совсем.\n",
    "- При этом стоимость привлечения пользователей в США в динамике показывает колосальный рост, начиная с середины мая, а рекламный бюджет по другим странам с конца мая наоборот снизился и остался стабильным до конца октября.\n",
    "- Лучшая окупаемость рекламы в Великобритании - начиная примерно с 5 дня, а в Германии и Франции - с 6.\n",
    "- В динамике LTV по всем странам достаточно стабилен.\n",
    "- Хотя LTV в США самый высокий, он значительно ниже рекламных затрат.\n",
    "- В динамике ROI в США показывает стабильный спад, начиная с конца мая.\n",
    "- Хотя конверсия пользователей из США самая высокая (почти в 2 раза превышает конверсию в других странах), удержание платящих пользователей здесь самое низкое.\n"
   ]
  },
  {
   "cell_type": "markdown",
   "metadata": {},
   "source": [
    "<div class=\"alert alert-warning\">\n",
    "    \n",
    "  <b>Комментарий ревьюера</b>\n",
    "    \n",
    "  ⚠️ Согласен, можно еще изучить рекламу в США отдельно.\n",
    "</div>"
   ]
  },
  {
   "cell_type": "markdown",
   "metadata": {},
   "source": [
    "<div class=\"alert alert-block alert-info\">\n",
    "  \n",
    "  <b>Комментарий cтудента</b>\n",
    "    \n",
    "  Сделала в пункте 5.6\n",
    "</div>\n",
    "<div class=\"alert alert-success\">\n",
    "\n",
    "<b>Комментарий ревьюера v.2</b>\n",
    "\n",
    "  ✔️ Здорово! Так легче определить в США и Европе конкретные проблемы и дать рекомендации! 🙂\n",
    "</div>"
   ]
  },
  {
   "cell_type": "markdown",
   "metadata": {},
   "source": [
    "#### Окупаемость рекламы с разбивкой по рекламным каналам"
   ]
  },
  {
   "cell_type": "code",
   "execution_count": null,
   "metadata": {},
   "outputs": [],
   "source": [
    "# Анализируем окупаемость рекламы с разбивкой по рекламным каналам\n",
    "\n",
    "dimensions = ['channel']\n",
    "\n",
    "ltv_raw, ltv_grouped, ltv_history, roi_grouped, roi_history = get_ltv(profiles_filt, orders, observation_date, horizon_days, dimensions=dimensions)\n",
    "\n",
    "plot_ltv_roi(ltv_grouped, ltv_history, roi_grouped, roi_history, horizon_days, window=14)"
   ]
  },
  {
   "cell_type": "code",
   "execution_count": null,
   "metadata": {},
   "outputs": [],
   "source": [
    "# смотрим конверсию с разбивкой по рекламным каналам\n",
    "\n",
    "dimensions = ['channel']\n",
    "\n",
    "conversion_raw, conversion_grouped, conversion_history = get_conversion(\n",
    "    profiles_filt, orders, observation_date, horizon_days, dimensions=dimensions\n",
    ")\n",
    "\n",
    "plot_conversion(conversion_grouped, conversion_history, horizon_days) \n"
   ]
  },
  {
   "cell_type": "code",
   "execution_count": null,
   "metadata": {},
   "outputs": [],
   "source": [
    "# смотрим удержание с разбивкой по рекламным каналам\n",
    "\n",
    "dimensions = ['channel']\n",
    "\n",
    "retention_raw, retention_grouped, retention_history = get_retention(\n",
    "    profiles_filt, visits, observation_date, horizon_days, dimensions=dimensions\n",
    ")\n",
    "\n",
    "plot_retention(retention_grouped, retention_history, horizon_days) \n"
   ]
  },
  {
   "cell_type": "markdown",
   "metadata": {},
   "source": [
    "**Выводы**\n",
    "- Реклама в TipTop, Faceboom и AdNonSense не окупается.\n",
    "- Критичным образом увеличивались вложения в рекламу на TipTop, начиная с конца мая. \n",
    "- САС по другим источникам привлечения достаточно стабилен на протяжении всего периода.\n",
    "- Также довольно стабилен LTV по всем каналам.\n",
    "- Самая лучшая окупаемость у YRabbit.\n",
    "- Хотя самый высокий рекламный бюджет у TipTop, Faceboom и AdNonSense, реклама на всех этих каналах не окупается/\n",
    "- Хотя конверсия в TipTop и AdNonSense самая высокая, удержание пользователей на данных ресурсах самое низкое.\n"
   ]
  },
  {
   "cell_type": "markdown",
   "metadata": {},
   "source": [
    "<div class=\"alert alert-success\">\n",
    "  \n",
    "  <b>Комментарий ревьюера</b>\n",
    "    \n",
    "  ✔️ Определили проблемные каналы!\n",
    "</div>"
   ]
  },
  {
   "cell_type": "markdown",
   "metadata": {},
   "source": [
    "<div class=\"alert alert-block alert-info\">\n",
    "  \n",
    "  <b>Комментарий cтудента</b>\n",
    "    \n",
    "  Сергей, ниже по твоему совету пытаюсь более детально изучить рекламу в США и Европе отдельно.\n",
    "</div>"
   ]
  },
  {
   "cell_type": "markdown",
   "metadata": {},
   "source": [
    "####  Реклама в США"
   ]
  },
  {
   "cell_type": "code",
   "execution_count": null,
   "metadata": {},
   "outputs": [],
   "source": [
    "# Изучим ситуацию с рекламой отдельно в США\n",
    "\n",
    "usa = profiles_filt.query('region == \"United States\"')\n",
    "\n",
    "dimensions = ['channel']\n",
    "\n",
    "ltv_raw, ltv_grouped, ltv_history, roi_grouped, roi_history = get_ltv(usa, orders, observation_date, horizon_days, dimensions=dimensions)\n",
    "\n",
    "plot_ltv_roi(ltv_grouped, ltv_history, roi_grouped, roi_history, horizon_days, window=14)"
   ]
  },
  {
   "cell_type": "code",
   "execution_count": null,
   "metadata": {},
   "outputs": [],
   "source": [
    "# Определим конверсию рекламных каналов в США\n",
    "\n",
    "conversion_raw, conversion_grouped, conversion_history = get_conversion(\n",
    "    usa, orders, observation_date, horizon_days, dimensions=dimensions\n",
    ")\n",
    "\n",
    "plot_conversion(conversion_grouped, conversion_history, horizon_days)"
   ]
  },
  {
   "cell_type": "code",
   "execution_count": null,
   "metadata": {},
   "outputs": [],
   "source": [
    "# Определим удержание рекламных каналов в США\n",
    "\n",
    "retention_raw, retention_grouped, retention_history = get_retention(\n",
    "    usa, visits, observation_date, horizon_days, dimensions=dimensions\n",
    ")\n",
    "\n",
    "plot_retention(retention_grouped, retention_history, horizon_days) "
   ]
  },
  {
   "cell_type": "code",
   "execution_count": null,
   "metadata": {},
   "outputs": [],
   "source": [
    "# Посмотрим, из каких каналов пришли пользователи из США\n",
    "\n",
    "usa.groupby('channel')['user_id'].nunique().sort_values(ascending=False)"
   ]
  },
  {
   "cell_type": "markdown",
   "metadata": {},
   "source": [
    "**Выводы:** получается, что большинство пользователей из США пришли в приложение через каналы, реклама в которых не окупилась - FaceBoom и TipTop. Неуспех FaceBoom связан с очень низким удержанием, а TipTop - с завышенными тратами. Необходимо скорректировать рекламный бюджет для TipTop, так как в целом на этом канале высокие и конверсия и удержание. Также стоит обратить внимание на рекламу черезе RocketSuperAds, где конверсия довольно высокая и стабильно высокое удержание."
   ]
  },
  {
   "cell_type": "markdown",
   "metadata": {},
   "source": [
    "#### Реклама в Европе"
   ]
  },
  {
   "cell_type": "code",
   "execution_count": null,
   "metadata": {},
   "outputs": [],
   "source": [
    "# Изучим ситуацию с рекламой в Европе.\n",
    "\n",
    "eu = profiles_filt.query('region in [\"Germany\", \"UK\", \"France\"]')\n",
    "\n",
    "dimensions = ['channel']\n",
    "\n",
    "ltv_raw, ltv_grouped, ltv_history, roi_grouped, roi_history = get_ltv(eu, orders, observation_date, horizon_days, dimensions=dimensions)\n",
    "\n",
    "plot_ltv_roi(ltv_grouped, ltv_history, roi_grouped, roi_history, horizon_days, window=14)"
   ]
  },
  {
   "cell_type": "code",
   "execution_count": null,
   "metadata": {},
   "outputs": [],
   "source": [
    "# Определим конверсию для рекламных каналов в Европе.\n",
    "\n",
    "conversion_raw, conversion_grouped, conversion_history = get_conversion(\n",
    "    eu, orders, observation_date, horizon_days, dimensions=dimensions\n",
    ")\n",
    "\n",
    "plot_conversion(conversion_grouped, conversion_history, horizon_days) "
   ]
  },
  {
   "cell_type": "code",
   "execution_count": null,
   "metadata": {},
   "outputs": [],
   "source": [
    "# Определим удержание рекламных каналов в Европе\n",
    "\n",
    "retention_raw, retention_grouped, retention_history = get_retention(\n",
    "    eu, visits, observation_date, horizon_days, dimensions=dimensions\n",
    ")\n",
    "\n",
    "plot_retention(retention_grouped, retention_history, horizon_days) "
   ]
  },
  {
   "cell_type": "code",
   "execution_count": null,
   "metadata": {},
   "outputs": [],
   "source": [
    "# Посмотрим, из каких каналов пришли пользователи из Европы\n",
    "\n",
    "eu.groupby('channel')['user_id'].nunique().sort_values(ascending=False)"
   ]
  },
  {
   "cell_type": "markdown",
   "metadata": {},
   "source": [
    "**Выводы**: В Европе единственным каналом, который не окупается, является AdNonSense. У этого канала самый высокий САС, но самое низкое удержание. В целом за рассматриваемый период реклама в Европе окупилась за счёт того, что большинство пользователей пришли из других каналов - с высоким удержанием. Перспективным для будущих рекламных кампаний может быть lambdaMediaAds, у которого высокая конверсия и высокое удержание."
   ]
  },
  {
   "cell_type": "markdown",
   "metadata": {},
   "source": [
    "<div class=\"alert alert-success\">\n",
    "\n",
    "<b>Комментарий ревьюера v.2</b>\n",
    "\n",
    "  ✔️ Каналы у нас не пересекаются.\n",
    "</div>"
   ]
  },
  {
   "cell_type": "markdown",
   "metadata": {
    "id": "Jn9XBfZCWVwo"
   },
   "source": [
    "### Выводы\n",
    "\n"
   ]
  },
  {
   "cell_type": "markdown",
   "metadata": {},
   "source": [
    "Для решения задач, поставленных в начале исследования, был произведён анализ профилей пользователей приложения Procrastinate Pro+, а также были определены и исследованы следующие метрики:  LTV, ROI, САС, conversion rate, retention rate."
   ]
  },
  {
   "cell_type": "markdown",
   "metadata": {},
   "source": [
    "Анализ профилей пользователей позволил выявить следующие важные особенности:\n",
    "\n",
    "- Пользователи приложения приходят из США, Германии, Великобритании и Франции. Количество новых пользователей из США значительно превышает количество пользователей из других стран - 100002. Из Великобритении и Франции пришло в приложение примерно одинаковое количество пользователей - 17575 и 17450 соответственно. Меньше всего пользователей пришло из Германии - 14981. Самая высокая доля платящих пользователей из США - 6.9%. Далее идут Германия (4.11%), Великобритания (3.98%) и Франция(3.8%).\n",
    "\n",
    "- Большая часть пользователей для входа в приложение использует iPhone - 54479. Второе по популярности устройство - Android (35032). Примерно одинаковое количество пользователей использует для входа в приложение PC и Mac (30455 и 30042 соответственно). Наиболее высокие доли платящих у пользователей Apple: Mac - 6.4%, iPhone - 6.2%. Несколько ниже доля платящих у пользователей Android (5.9%). Самый низкий показатель у пользователей PC - 5%.\n",
    "\n",
    "- Хотя количество органических пользователей самое значительное, доля платящих среди них самая низкая (2.1%). Самая высокая доля платящих приходит через FaceBoom (12.2%). Также высокая доля платящих приходит через AdNonSense (11.34%), lambdaMediaAds (10.47%) и TipTop (9.6%).\n",
    "\n",
    "Анализ расходов на рекламу позволил сделать следующие наблюдения:\n",
    "\n",
    "- больше всего средств было потрачено на рекламу в TipTop и Faceboom;\n",
    "- при этом в мае траты на рекламу в Faceboom были несколько выше, но примерно с 21 недели (с июня) TipTop вышел в лидеры. Вклад в рекламу на этом ресурсе стабильно рос до 9 месяца с заметным пиком на 39 неделе;\n",
    "- самыми дорогими по привлечению пользователями оказались пользователи, пришедшие через TipTop, FaceBoom и AdNonSense.\n",
    "\n",
    "При оценке окупаемости рекламы были сделаны следующие выводы:\n",
    "- реклама в целом не окупается. ROI к концу второй недели достигает примерно 80%;\n",
    " - САС показывает значительный рост начиная с серидины мая, рекламный бюджет заметно увеличивался на протяжении всего рассматриваемого периода;\n",
    "- динамика ROI на 14 день показывает стабильную тенденцию к снижению.\n",
    "\n",
    "Изучение окупаемости рекламы с разбивкой по устройствам показало:\n",
    "- самыми дорогими для привлечения пользователями являются пользователи iPhone и Mac, а самыми недорогими - пользователи PC;\n",
    "- между тем, окупается реклама ближе к концу второй недели только у пользователей PC;\n",
    "- хотя конверсия пользователей iPhone и Mac самая высокая, а конверсия пользователей PC - самая низкая, удержание платящих пользователей PC стабильно самое высокое, а удержание пользователей iPhone и Mac - самое низкое.\n",
    "\n",
    "Изучение окупаемости рекламы с разбивкой по странам показало:\n",
    "- реклама в США не окупается совсем;\n",
    "- расходы на привлечение пользователей из США были увеличены колосальным образом, начиная с середины мая, а рекламный бюджет по другим странам с конца мая наоборот снизился и остался стабильным до конца октября;\n",
    "- лучшая окупаемость рекламы в Великобритании - начиная примерно с 5 дня, а в Германии и Франции - с 6;\n",
    "- удержание платящих пользователей из США самое низкое, несмотря на самую высокую конверсию.\n",
    "\n",
    "Изучение окупаемости рекламы с разбивкой по рекламным каналам показало:\n",
    "- - самый высокий рекламный бюджет у TipTop, Faceboom и AdNonSense, но реклама на всех этих каналах не окупается;\n",
    "- вложения в рекламу в TipTop, начиная с конца мая, сильно увеличивались;\n",
    "- САС по другим источникам привлечения достаточно стабилен на протяжении всего периода;\n",
    "- самая лучшая окупаемость у YRabbit.\n",
    "- хотя конверсия в TipTop и AdNonSense самая высокая, удержание пользователей на данных ресурсах самое низкое.\n",
    "\n",
    "В результате проведённого анализа показателей LTV, ROI, САС, conversion rate, retention rate выявились проблемные моменты в проведённых рекламных кампаниях. \n",
    "- В первую очередь обращает на себя внимание тот факт, что на протяжении всего рассматриваемого периода были значительно увеличены расходы на привлечение новых пользователей из США. К концу октября стоимость привлечения пользователя из США более чем в 4 раза превышала САС пользователей из других стран. Между тем, затраты на пользователей из США не окупились. Анализ удержания показал, что удержание пользователей из США самое низкое.\n",
    "- Самыми дорогими для привлечения пользователями оказались пользователи, использующие iPhone и Mac. Однако, окупаются только пользователи, использующие PC. Дополнительное изучение удержания показало, что удержание пользователей iPhone и Mac - самое низкое.\n",
    "- Значительным образом были увелиены расходу на рекламу через TipTop, однако, реклама на данном ресурсе не окупилась. Дополнительное изучение удержания показало, что удержание пользователей на данном ресурсе самое низкое.\n",
    "\n",
    "*Рекомендации*:\n",
    "- Провести дополнительное исследование возможных причин стабильно низкого удержания пользователей iPhone и Mac. Возможно, причина кроется в технических ошибках, не позволяющих пользователям заврешить своё посещение покупкой.\n",
    "\n",
    "- Пересмотреть решение о высоких вложениях в рекламу на TipTop. Возможно, что скорректированный уровень рекламных вложений в данный ресурс позволит получить более эффективный результат, так как удержание на TipTop довольно высокое. А вот удержание на Faceboom и AdNonSense самое низкое, реклама на данных каналах также не окупается. Возможно, стоит пересмотреть решение о размещении рекламы на данных ресурсах. Стоит обратить внимание на каналы со стабильно высокой конверсией и высоким удержанием lambdaMediaAds и RocketSuperAds.\n",
    "\n",
    "- Пересмотреть рекламную политику в отношении пользователей из США. Дополнительный анализ рекламных кампаний в США показал, что большинство пользователей пришли в приложение через каналы, реклама в которых не окупилась - FaceBoom и TipTop. Неуспех FaceBoom связан с очень низким удержанием, а TipTop - с завышенными тратами. По этим причинам реклама в США так и не окупилась. Необходимо скорректировать рекламный бюджет для TipTop, так как в целом на этом канале высокие и конверсия и удержание. Также стоит обратить внимание на рекламу черезе RocketSuperAds, где конверсия также довольно высокая и стабильно высокое удержание.\n",
    "\n",
    "- Дополнительный анализ рекламы в Европе показал, что в единственным каналом, который не окупается, является AdNonSense. У этого канала самое низкое удержание. Перспективным для будущих рекламных кампаний может быть lambdaMediaAds, у которого высокая конверсия и высокое удержание."
   ]
  },
  {
   "cell_type": "markdown",
   "metadata": {
    "id": "Y8A6E79yWVwo"
   },
   "source": [
    "<div class=\"alert alert-success\">\n",
    "  \n",
    "  <b>Комментарий ревьюера</b>\n",
    "    \n",
    "  ✔️ Хорошие общие выводы!\n",
    "</div>\n",
    "<div class=\"alert alert-danger\">\n",
    "    \n",
    "  <b>Комментарий ревьюера</b>\n",
    "    \n",
    "  ❌ Посмотри на конверсию у канала YRabbit, разве стоит советовать увеличение бюджета на этот канал? Мы, скорее всего, получим очередной TipTop. Нам надо на графиках найти окупающиеся каналы обязательно с хорошей конверсией и удержанием, в идеале с привязкой к регионам (США и Европа). У нас точно окупается больше одного канала. Маркетологи оценят! 🙂\n",
    "</div>\n"
   ]
  },
  {
   "cell_type": "markdown",
   "metadata": {},
   "source": [
    "<div class=\"alert alert-block alert-info\">\n",
    "  \n",
    "  <b>Комментарий cтудента</b>\n",
    "    \n",
    "  Сергей, подскажи, пожалуйста, по какой причине на графиках динамики удержания присутствуют прерывания? Это говорит об отсутствии данных об удержании на 14 день по определённым каналам для платящих? Или этому есть ещё какие-то объяснения?\n",
    "</div>\n",
    "<div class=\"alert alert-success\">\n",
    "  \n",
    "  <b>Комментарий ревьюера v.2</b>\n",
    "    \n",
    "  ✔️ Вывод преобразился, теперь видно не только в чем проблемы, но и даны рекомендации для их устранений.  👍\n",
    "    \n",
    "    \n",
    "У нас по Европе и части каналов очень мало пользователей (видели при расчете доли платящих), просто в какой-то момент за 2 недели не было не одного покупателя, когорта получилась пустая - отсюда и разрывы на графиках.\n",
    "</div>"
   ]
  },
  {
   "cell_type": "markdown",
   "metadata": {},
   "source": [
    "<div style=\"border:solid black 2px; padding: 20px\">\n",
    "     \n",
    "  <b>Чек-лист доработок</b>\n",
    "    \n",
    "  \n",
    "  📃 Написать промежуточные выводы по шагам проекта.\n",
    "    \n",
    "  📃 Пересмотреть альтернативные рекомендации отделу маркетинга.\n",
    "    \n",
    "Жду твой проект на повторное ревью. Не стесняйся оставлять комментарии и задавать вопросы. Удачи! Все получится.\n",
    "</div>"
   ]
  }
 ],
 "metadata": {
  "ExecuteTimeLog": [
   {
    "duration": 1495,
    "start_time": "2023-03-09T07:00:42.639Z"
   },
   {
    "duration": 1560,
    "start_time": "2023-03-09T09:11:56.510Z"
   },
   {
    "duration": 1352,
    "start_time": "2023-03-09T09:14:16.326Z"
   },
   {
    "duration": 30,
    "start_time": "2023-03-09T09:14:25.829Z"
   },
   {
    "duration": 1115,
    "start_time": "2023-03-09T09:15:28.964Z"
   },
   {
    "duration": 10,
    "start_time": "2023-03-09T09:15:49.187Z"
   },
   {
    "duration": 25,
    "start_time": "2023-03-09T09:15:58.029Z"
   },
   {
    "duration": 20,
    "start_time": "2023-03-09T09:16:08.824Z"
   },
   {
    "duration": 10,
    "start_time": "2023-03-09T09:16:25.689Z"
   },
   {
    "duration": 20,
    "start_time": "2023-03-09T09:16:37.354Z"
   },
   {
    "duration": 93,
    "start_time": "2023-03-09T09:18:39.029Z"
   },
   {
    "duration": 29,
    "start_time": "2023-03-09T09:19:50.871Z"
   },
   {
    "duration": 13,
    "start_time": "2023-03-09T09:25:02.205Z"
   },
   {
    "duration": 17,
    "start_time": "2023-03-09T09:27:42.854Z"
   },
   {
    "duration": 13,
    "start_time": "2023-03-09T09:30:27.052Z"
   },
   {
    "duration": 230,
    "start_time": "2023-03-09T09:31:35.353Z"
   },
   {
    "duration": 83,
    "start_time": "2023-03-09T09:31:45.701Z"
   },
   {
    "duration": 8,
    "start_time": "2023-03-09T09:32:22.519Z"
   },
   {
    "duration": 326,
    "start_time": "2023-03-09T09:34:55.570Z"
   },
   {
    "duration": 25,
    "start_time": "2023-03-09T09:35:12.122Z"
   },
   {
    "duration": 13,
    "start_time": "2023-03-09T09:35:26.582Z"
   },
   {
    "duration": 3,
    "start_time": "2023-03-09T09:40:21.376Z"
   },
   {
    "duration": 7,
    "start_time": "2023-03-09T09:45:56.796Z"
   },
   {
    "duration": 18,
    "start_time": "2023-03-09T09:46:10.049Z"
   },
   {
    "duration": 38,
    "start_time": "2023-03-09T09:48:56.199Z"
   },
   {
    "duration": 56,
    "start_time": "2023-03-09T09:49:06.889Z"
   },
   {
    "duration": 4,
    "start_time": "2023-03-09T09:50:22.103Z"
   },
   {
    "duration": 10,
    "start_time": "2023-03-09T09:51:33.306Z"
   },
   {
    "duration": 24,
    "start_time": "2023-03-09T09:51:57.560Z"
   },
   {
    "duration": 14,
    "start_time": "2023-03-09T09:55:27.557Z"
   },
   {
    "duration": 10,
    "start_time": "2023-03-09T09:55:37.284Z"
   },
   {
    "duration": 1867,
    "start_time": "2023-03-09T10:00:07.659Z"
   },
   {
    "duration": 85,
    "start_time": "2023-03-09T10:00:22.670Z"
   },
   {
    "duration": 77,
    "start_time": "2023-03-09T10:00:41.916Z"
   },
   {
    "duration": 76,
    "start_time": "2023-03-09T10:02:52.078Z"
   },
   {
    "duration": 70,
    "start_time": "2023-03-09T10:02:52.854Z"
   },
   {
    "duration": 20,
    "start_time": "2023-03-09T10:03:37.483Z"
   },
   {
    "duration": 38,
    "start_time": "2023-03-09T10:04:01.175Z"
   },
   {
    "duration": 18,
    "start_time": "2023-03-09T10:04:25.490Z"
   },
   {
    "duration": 68,
    "start_time": "2023-03-09T10:04:27.653Z"
   },
   {
    "duration": 19,
    "start_time": "2023-03-09T10:04:36.899Z"
   },
   {
    "duration": 28,
    "start_time": "2023-03-09T10:04:43.356Z"
   },
   {
    "duration": 1432,
    "start_time": "2023-03-09T10:05:15.897Z"
   },
   {
    "duration": 874,
    "start_time": "2023-03-09T10:05:17.334Z"
   },
   {
    "duration": 14,
    "start_time": "2023-03-09T10:05:18.210Z"
   },
   {
    "duration": 93,
    "start_time": "2023-03-09T10:05:18.226Z"
   },
   {
    "duration": 83,
    "start_time": "2023-03-09T10:05:18.322Z"
   },
   {
    "duration": 323,
    "start_time": "2023-03-09T10:05:18.406Z"
   },
   {
    "duration": 24,
    "start_time": "2023-03-09T10:05:18.730Z"
   },
   {
    "duration": 41,
    "start_time": "2023-03-09T10:05:18.761Z"
   },
   {
    "duration": 8,
    "start_time": "2023-03-09T10:05:18.804Z"
   },
   {
    "duration": 27,
    "start_time": "2023-03-09T10:05:18.814Z"
   },
   {
    "duration": 35,
    "start_time": "2023-03-09T10:05:18.842Z"
   },
   {
    "duration": 24,
    "start_time": "2023-03-09T10:05:18.881Z"
   },
   {
    "duration": 8,
    "start_time": "2023-03-09T10:05:18.907Z"
   },
   {
    "duration": 13,
    "start_time": "2023-03-09T10:05:18.917Z"
   },
   {
    "duration": 66,
    "start_time": "2023-03-09T10:05:18.932Z"
   },
   {
    "duration": 56,
    "start_time": "2023-03-09T10:05:19.000Z"
   },
   {
    "duration": 5,
    "start_time": "2023-03-09T10:05:19.065Z"
   },
   {
    "duration": 40,
    "start_time": "2023-03-09T10:05:19.072Z"
   },
   {
    "duration": 11,
    "start_time": "2023-03-09T10:05:19.114Z"
   },
   {
    "duration": 136,
    "start_time": "2023-03-09T10:05:19.127Z"
   },
   {
    "duration": 96,
    "start_time": "2023-03-09T10:05:19.273Z"
   },
   {
    "duration": 54,
    "start_time": "2023-03-09T10:05:19.371Z"
   },
   {
    "duration": 46,
    "start_time": "2023-03-09T10:08:42.849Z"
   },
   {
    "duration": 34,
    "start_time": "2023-03-09T10:08:54.147Z"
   },
   {
    "duration": 8,
    "start_time": "2023-03-09T10:10:39.198Z"
   },
   {
    "duration": 1516,
    "start_time": "2023-03-09T10:47:23.431Z"
   },
   {
    "duration": 926,
    "start_time": "2023-03-09T10:47:24.971Z"
   },
   {
    "duration": 17,
    "start_time": "2023-03-09T10:47:25.900Z"
   },
   {
    "duration": 159,
    "start_time": "2023-03-09T10:47:25.920Z"
   },
   {
    "duration": 87,
    "start_time": "2023-03-09T10:47:26.089Z"
   },
   {
    "duration": 448,
    "start_time": "2023-03-09T10:47:26.178Z"
   },
   {
    "duration": 35,
    "start_time": "2023-03-09T10:47:26.629Z"
   },
   {
    "duration": 159,
    "start_time": "2023-03-09T10:47:26.666Z"
   },
   {
    "duration": 73,
    "start_time": "2023-03-09T10:47:26.827Z"
   },
   {
    "duration": 100,
    "start_time": "2023-03-09T10:47:26.902Z"
   },
   {
    "duration": 11,
    "start_time": "2023-03-09T10:47:27.003Z"
   },
   {
    "duration": 18,
    "start_time": "2023-03-09T10:47:27.016Z"
   },
   {
    "duration": 62,
    "start_time": "2023-03-09T10:47:27.040Z"
   },
   {
    "duration": 15,
    "start_time": "2023-03-09T10:47:27.104Z"
   },
   {
    "duration": 26,
    "start_time": "2023-03-09T10:47:27.120Z"
   },
   {
    "duration": 174,
    "start_time": "2023-03-09T10:47:27.148Z"
   },
   {
    "duration": 65,
    "start_time": "2023-03-09T10:47:27.323Z"
   },
   {
    "duration": 31,
    "start_time": "2023-03-09T10:47:27.394Z"
   },
   {
    "duration": 24,
    "start_time": "2023-03-09T10:47:27.427Z"
   },
   {
    "duration": 152,
    "start_time": "2023-03-09T10:47:27.463Z"
   },
   {
    "duration": 151,
    "start_time": "2023-03-09T10:47:27.617Z"
   },
   {
    "duration": 68,
    "start_time": "2023-03-09T10:47:27.770Z"
   },
   {
    "duration": 1523,
    "start_time": "2023-03-09T11:02:37.890Z"
   },
   {
    "duration": 972,
    "start_time": "2023-03-09T11:02:39.416Z"
   },
   {
    "duration": 18,
    "start_time": "2023-03-09T11:02:40.390Z"
   },
   {
    "duration": 106,
    "start_time": "2023-03-09T11:02:40.410Z"
   },
   {
    "duration": 85,
    "start_time": "2023-03-09T11:02:40.519Z"
   },
   {
    "duration": 378,
    "start_time": "2023-03-09T11:02:40.606Z"
   },
   {
    "duration": 22,
    "start_time": "2023-03-09T11:02:40.987Z"
   },
   {
    "duration": 37,
    "start_time": "2023-03-09T11:02:41.011Z"
   },
   {
    "duration": 69,
    "start_time": "2023-03-09T11:02:41.051Z"
   },
   {
    "duration": 33,
    "start_time": "2023-03-09T11:02:41.122Z"
   },
   {
    "duration": 35,
    "start_time": "2023-03-09T11:02:41.158Z"
   },
   {
    "duration": 14,
    "start_time": "2023-03-09T11:02:41.197Z"
   },
   {
    "duration": 14,
    "start_time": "2023-03-09T11:02:41.213Z"
   },
   {
    "duration": 47,
    "start_time": "2023-03-09T11:02:41.235Z"
   },
   {
    "duration": 13,
    "start_time": "2023-03-09T11:02:41.284Z"
   },
   {
    "duration": 63,
    "start_time": "2023-03-09T11:02:41.299Z"
   },
   {
    "duration": 4,
    "start_time": "2023-03-09T11:02:41.369Z"
   },
   {
    "duration": 30,
    "start_time": "2023-03-09T11:02:41.377Z"
   },
   {
    "duration": 40,
    "start_time": "2023-03-09T11:02:41.410Z"
   },
   {
    "duration": 260,
    "start_time": "2023-03-09T11:02:41.457Z"
   },
   {
    "duration": 119,
    "start_time": "2023-03-09T11:02:41.719Z"
   },
   {
    "duration": 49,
    "start_time": "2023-03-09T11:02:41.846Z"
   },
   {
    "duration": 36,
    "start_time": "2023-03-09T11:02:41.898Z"
   },
   {
    "duration": 78,
    "start_time": "2023-03-09T11:02:41.936Z"
   },
   {
    "duration": 83,
    "start_time": "2023-03-09T11:02:42.016Z"
   },
   {
    "duration": 32,
    "start_time": "2023-03-09T11:02:42.101Z"
   },
   {
    "duration": 76,
    "start_time": "2023-03-09T11:02:42.137Z"
   },
   {
    "duration": 9,
    "start_time": "2023-03-09T11:02:42.215Z"
   },
   {
    "duration": 62,
    "start_time": "2023-03-09T11:02:42.226Z"
   },
   {
    "duration": 72,
    "start_time": "2023-03-09T11:02:42.295Z"
   },
   {
    "duration": 3,
    "start_time": "2023-03-09T11:05:08.624Z"
   },
   {
    "duration": 3,
    "start_time": "2023-03-09T11:06:29.102Z"
   },
   {
    "duration": 10,
    "start_time": "2023-03-09T11:20:37.404Z"
   },
   {
    "duration": 624,
    "start_time": "2023-03-09T11:20:53.992Z"
   },
   {
    "duration": 556,
    "start_time": "2023-03-09T11:21:07.117Z"
   },
   {
    "duration": 557,
    "start_time": "2023-03-09T11:21:13.131Z"
   },
   {
    "duration": 7,
    "start_time": "2023-03-09T11:23:14.599Z"
   },
   {
    "duration": 22,
    "start_time": "2023-03-09T11:37:59.826Z"
   },
   {
    "duration": 1322,
    "start_time": "2023-03-09T11:38:45.980Z"
   },
   {
    "duration": 832,
    "start_time": "2023-03-09T11:38:47.305Z"
   },
   {
    "duration": 18,
    "start_time": "2023-03-09T11:38:48.139Z"
   },
   {
    "duration": 92,
    "start_time": "2023-03-09T11:38:48.159Z"
   },
   {
    "duration": 104,
    "start_time": "2023-03-09T11:38:48.254Z"
   },
   {
    "duration": 359,
    "start_time": "2023-03-09T11:38:48.361Z"
   },
   {
    "duration": 16,
    "start_time": "2023-03-09T11:38:48.722Z"
   },
   {
    "duration": 59,
    "start_time": "2023-03-09T11:38:48.742Z"
   },
   {
    "duration": 10,
    "start_time": "2023-03-09T11:38:48.803Z"
   },
   {
    "duration": 31,
    "start_time": "2023-03-09T11:38:48.814Z"
   },
   {
    "duration": 42,
    "start_time": "2023-03-09T11:38:48.849Z"
   },
   {
    "duration": 19,
    "start_time": "2023-03-09T11:38:48.892Z"
   },
   {
    "duration": 11,
    "start_time": "2023-03-09T11:38:48.913Z"
   },
   {
    "duration": 59,
    "start_time": "2023-03-09T11:38:48.928Z"
   },
   {
    "duration": 7,
    "start_time": "2023-03-09T11:38:48.989Z"
   },
   {
    "duration": 43,
    "start_time": "2023-03-09T11:38:48.998Z"
   },
   {
    "duration": 5,
    "start_time": "2023-03-09T11:38:49.043Z"
   },
   {
    "duration": 42,
    "start_time": "2023-03-09T11:38:49.049Z"
   },
   {
    "duration": 20,
    "start_time": "2023-03-09T11:38:49.093Z"
   },
   {
    "duration": 110,
    "start_time": "2023-03-09T11:38:49.115Z"
   },
   {
    "duration": 105,
    "start_time": "2023-03-09T11:38:49.226Z"
   },
   {
    "duration": 22,
    "start_time": "2023-03-09T11:38:49.338Z"
   },
   {
    "duration": 11,
    "start_time": "2023-03-09T11:38:49.361Z"
   },
   {
    "duration": 18,
    "start_time": "2023-03-09T11:38:49.374Z"
   },
   {
    "duration": 10,
    "start_time": "2023-03-09T11:38:49.394Z"
   },
   {
    "duration": 11,
    "start_time": "2023-03-09T11:38:49.406Z"
   },
   {
    "duration": 11,
    "start_time": "2023-03-09T11:38:49.418Z"
   },
   {
    "duration": 53,
    "start_time": "2023-03-09T11:38:49.431Z"
   },
   {
    "duration": 9,
    "start_time": "2023-03-09T11:38:49.486Z"
   },
   {
    "duration": 17,
    "start_time": "2023-03-09T11:38:49.497Z"
   },
   {
    "duration": 655,
    "start_time": "2023-03-09T11:38:49.516Z"
   },
   {
    "duration": 1377,
    "start_time": "2023-03-10T04:13:09.107Z"
   },
   {
    "duration": 2103,
    "start_time": "2023-03-10T04:13:10.487Z"
   },
   {
    "duration": 17,
    "start_time": "2023-03-10T04:13:12.592Z"
   },
   {
    "duration": 65,
    "start_time": "2023-03-10T04:13:12.611Z"
   },
   {
    "duration": 67,
    "start_time": "2023-03-10T04:13:12.679Z"
   },
   {
    "duration": 281,
    "start_time": "2023-03-10T04:13:12.748Z"
   },
   {
    "duration": 11,
    "start_time": "2023-03-10T04:13:13.031Z"
   },
   {
    "duration": 51,
    "start_time": "2023-03-10T04:13:13.044Z"
   },
   {
    "duration": 11,
    "start_time": "2023-03-10T04:13:13.097Z"
   },
   {
    "duration": 49,
    "start_time": "2023-03-10T04:13:13.110Z"
   },
   {
    "duration": 12,
    "start_time": "2023-03-10T04:13:13.161Z"
   },
   {
    "duration": 31,
    "start_time": "2023-03-10T04:13:13.175Z"
   },
   {
    "duration": 29,
    "start_time": "2023-03-10T04:13:13.208Z"
   },
   {
    "duration": 23,
    "start_time": "2023-03-10T04:13:13.240Z"
   },
   {
    "duration": 26,
    "start_time": "2023-03-10T04:13:13.264Z"
   },
   {
    "duration": 54,
    "start_time": "2023-03-10T04:13:13.292Z"
   },
   {
    "duration": 4,
    "start_time": "2023-03-10T04:13:13.349Z"
   },
   {
    "duration": 31,
    "start_time": "2023-03-10T04:13:13.355Z"
   },
   {
    "duration": 12,
    "start_time": "2023-03-10T04:13:13.389Z"
   },
   {
    "duration": 93,
    "start_time": "2023-03-10T04:13:13.403Z"
   },
   {
    "duration": 84,
    "start_time": "2023-03-10T04:13:13.499Z"
   },
   {
    "duration": 23,
    "start_time": "2023-03-10T04:13:13.585Z"
   },
   {
    "duration": 28,
    "start_time": "2023-03-10T04:13:13.610Z"
   },
   {
    "duration": 21,
    "start_time": "2023-03-10T04:13:13.640Z"
   },
   {
    "duration": 30,
    "start_time": "2023-03-10T04:13:13.663Z"
   },
   {
    "duration": 39,
    "start_time": "2023-03-10T04:13:13.694Z"
   },
   {
    "duration": 26,
    "start_time": "2023-03-10T04:13:13.736Z"
   },
   {
    "duration": 26,
    "start_time": "2023-03-10T04:13:13.764Z"
   },
   {
    "duration": 35,
    "start_time": "2023-03-10T04:13:13.793Z"
   },
   {
    "duration": 33,
    "start_time": "2023-03-10T04:13:13.830Z"
   },
   {
    "duration": 580,
    "start_time": "2023-03-10T04:13:13.865Z"
   },
   {
    "duration": 50,
    "start_time": "2023-03-10T04:13:54.276Z"
   },
   {
    "duration": 13,
    "start_time": "2023-03-10T04:20:22.684Z"
   },
   {
    "duration": 14,
    "start_time": "2023-03-10T04:20:49.834Z"
   },
   {
    "duration": 7,
    "start_time": "2023-03-10T04:22:14.946Z"
   },
   {
    "duration": 13,
    "start_time": "2023-03-10T04:22:42.644Z"
   },
   {
    "duration": 533,
    "start_time": "2023-03-10T04:23:08.908Z"
   },
   {
    "duration": 494,
    "start_time": "2023-03-10T04:26:47.841Z"
   },
   {
    "duration": 10,
    "start_time": "2023-03-10T04:29:07.794Z"
   },
   {
    "duration": 12,
    "start_time": "2023-03-10T04:29:20.952Z"
   },
   {
    "duration": 17,
    "start_time": "2023-03-10T04:30:21.610Z"
   },
   {
    "duration": 12,
    "start_time": "2023-03-10T04:30:30.954Z"
   },
   {
    "duration": 1590,
    "start_time": "2023-03-11T06:32:16.779Z"
   },
   {
    "duration": 1843,
    "start_time": "2023-03-11T06:32:18.376Z"
   },
   {
    "duration": 26,
    "start_time": "2023-03-11T06:32:20.221Z"
   },
   {
    "duration": 156,
    "start_time": "2023-03-11T06:32:20.248Z"
   },
   {
    "duration": 139,
    "start_time": "2023-03-11T06:32:20.407Z"
   },
   {
    "duration": 370,
    "start_time": "2023-03-11T06:32:20.548Z"
   },
   {
    "duration": 16,
    "start_time": "2023-03-11T06:32:20.920Z"
   },
   {
    "duration": 62,
    "start_time": "2023-03-11T06:32:20.940Z"
   },
   {
    "duration": 8,
    "start_time": "2023-03-11T06:32:21.004Z"
   },
   {
    "duration": 33,
    "start_time": "2023-03-11T06:32:21.014Z"
   },
   {
    "duration": 50,
    "start_time": "2023-03-11T06:32:21.049Z"
   },
   {
    "duration": 36,
    "start_time": "2023-03-11T06:32:21.102Z"
   },
   {
    "duration": 44,
    "start_time": "2023-03-11T06:32:21.155Z"
   },
   {
    "duration": 11,
    "start_time": "2023-03-11T06:32:21.202Z"
   },
   {
    "duration": 10,
    "start_time": "2023-03-11T06:32:21.215Z"
   },
   {
    "duration": 92,
    "start_time": "2023-03-11T06:32:21.227Z"
   },
   {
    "duration": 4,
    "start_time": "2023-03-11T06:32:21.321Z"
   },
   {
    "duration": 73,
    "start_time": "2023-03-11T06:32:21.326Z"
   },
   {
    "duration": 12,
    "start_time": "2023-03-11T06:32:21.400Z"
   },
   {
    "duration": 137,
    "start_time": "2023-03-11T06:32:21.414Z"
   },
   {
    "duration": 131,
    "start_time": "2023-03-11T06:32:21.553Z"
   },
   {
    "duration": 127,
    "start_time": "2023-03-11T06:32:21.687Z"
   },
   {
    "duration": 18,
    "start_time": "2023-03-11T06:32:21.816Z"
   },
   {
    "duration": 155,
    "start_time": "2023-03-11T06:32:21.837Z"
   },
   {
    "duration": 44,
    "start_time": "2023-03-11T06:32:21.994Z"
   },
   {
    "duration": 149,
    "start_time": "2023-03-11T06:32:22.040Z"
   },
   {
    "duration": 67,
    "start_time": "2023-03-11T06:32:22.191Z"
   },
   {
    "duration": 52,
    "start_time": "2023-03-11T06:32:22.260Z"
   },
   {
    "duration": 66,
    "start_time": "2023-03-11T06:32:22.313Z"
   },
   {
    "duration": 28,
    "start_time": "2023-03-11T06:32:22.381Z"
   },
   {
    "duration": 70,
    "start_time": "2023-03-11T06:32:22.411Z"
   },
   {
    "duration": 23,
    "start_time": "2023-03-11T06:32:22.483Z"
   },
   {
    "duration": 634,
    "start_time": "2023-03-11T06:32:22.507Z"
   },
   {
    "duration": 152,
    "start_time": "2023-03-11T06:32:23.143Z"
   },
   {
    "duration": 0,
    "start_time": "2023-03-11T06:32:23.296Z"
   },
   {
    "duration": 566,
    "start_time": "2023-03-11T06:33:25.002Z"
   },
   {
    "duration": 31,
    "start_time": "2023-03-11T06:34:08.531Z"
   },
   {
    "duration": 12,
    "start_time": "2023-03-11T06:34:13.174Z"
   },
   {
    "duration": 748,
    "start_time": "2023-03-11T06:43:27.089Z"
   },
   {
    "duration": 79,
    "start_time": "2023-03-11T08:28:05.005Z"
   },
   {
    "duration": 42,
    "start_time": "2023-03-11T08:29:56.071Z"
   },
   {
    "duration": 62,
    "start_time": "2023-03-11T08:30:03.974Z"
   },
   {
    "duration": 65,
    "start_time": "2023-03-11T08:30:47.501Z"
   },
   {
    "duration": 93,
    "start_time": "2023-03-11T08:31:12.056Z"
   },
   {
    "duration": 142,
    "start_time": "2023-03-11T08:34:21.259Z"
   },
   {
    "duration": 18,
    "start_time": "2023-03-11T08:34:49.430Z"
   },
   {
    "duration": 362,
    "start_time": "2023-03-11T08:34:57.447Z"
   },
   {
    "duration": 576,
    "start_time": "2023-03-11T08:35:44.425Z"
   },
   {
    "duration": 431,
    "start_time": "2023-03-11T08:41:43.666Z"
   },
   {
    "duration": 86,
    "start_time": "2023-03-11T08:42:10.195Z"
   },
   {
    "duration": 72,
    "start_time": "2023-03-11T08:43:16.170Z"
   },
   {
    "duration": 76,
    "start_time": "2023-03-11T08:45:00.089Z"
   },
   {
    "duration": 57,
    "start_time": "2023-03-11T08:45:42.582Z"
   },
   {
    "duration": 68,
    "start_time": "2023-03-11T08:45:54.123Z"
   },
   {
    "duration": 50,
    "start_time": "2023-03-11T08:46:15.559Z"
   },
   {
    "duration": 43,
    "start_time": "2023-03-11T08:52:57.978Z"
   },
   {
    "duration": 63,
    "start_time": "2023-03-11T09:06:06.670Z"
   },
   {
    "duration": 60,
    "start_time": "2023-03-11T09:06:16.214Z"
   },
   {
    "duration": 64,
    "start_time": "2023-03-11T09:06:47.206Z"
   },
   {
    "duration": 46,
    "start_time": "2023-03-11T09:07:51.271Z"
   },
   {
    "duration": 47,
    "start_time": "2023-03-11T09:08:10.661Z"
   },
   {
    "duration": 58,
    "start_time": "2023-03-11T09:09:24.110Z"
   },
   {
    "duration": 40,
    "start_time": "2023-03-11T09:25:27.676Z"
   },
   {
    "duration": 70,
    "start_time": "2023-03-11T09:25:34.301Z"
   },
   {
    "duration": 48,
    "start_time": "2023-03-11T09:27:06.194Z"
   },
   {
    "duration": 65,
    "start_time": "2023-03-11T09:27:54.507Z"
   },
   {
    "duration": 66,
    "start_time": "2023-03-11T09:29:19.314Z"
   },
   {
    "duration": 1287,
    "start_time": "2023-03-11T11:43:40.383Z"
   },
   {
    "duration": 952,
    "start_time": "2023-03-11T11:43:41.673Z"
   },
   {
    "duration": 15,
    "start_time": "2023-03-11T11:43:42.626Z"
   },
   {
    "duration": 73,
    "start_time": "2023-03-11T11:43:42.643Z"
   },
   {
    "duration": 72,
    "start_time": "2023-03-11T11:43:42.718Z"
   },
   {
    "duration": 304,
    "start_time": "2023-03-11T11:43:42.792Z"
   },
   {
    "duration": 8,
    "start_time": "2023-03-11T11:43:43.098Z"
   },
   {
    "duration": 18,
    "start_time": "2023-03-11T11:43:43.108Z"
   },
   {
    "duration": 10,
    "start_time": "2023-03-11T11:43:43.128Z"
   },
   {
    "duration": 15,
    "start_time": "2023-03-11T11:43:43.160Z"
   },
   {
    "duration": 9,
    "start_time": "2023-03-11T11:43:43.177Z"
   },
   {
    "duration": 16,
    "start_time": "2023-03-11T11:43:43.188Z"
   },
   {
    "duration": 8,
    "start_time": "2023-03-11T11:43:43.206Z"
   },
   {
    "duration": 14,
    "start_time": "2023-03-11T11:43:43.216Z"
   },
   {
    "duration": 25,
    "start_time": "2023-03-11T11:43:43.232Z"
   },
   {
    "duration": 43,
    "start_time": "2023-03-11T11:43:43.259Z"
   },
   {
    "duration": 5,
    "start_time": "2023-03-11T11:43:43.304Z"
   },
   {
    "duration": 56,
    "start_time": "2023-03-11T11:43:43.311Z"
   },
   {
    "duration": 19,
    "start_time": "2023-03-11T11:43:43.369Z"
   },
   {
    "duration": 96,
    "start_time": "2023-03-11T11:43:43.390Z"
   },
   {
    "duration": 87,
    "start_time": "2023-03-11T11:43:43.488Z"
   },
   {
    "duration": 49,
    "start_time": "2023-03-11T11:43:43.577Z"
   },
   {
    "duration": 11,
    "start_time": "2023-03-11T11:43:43.628Z"
   },
   {
    "duration": 19,
    "start_time": "2023-03-11T11:43:43.641Z"
   },
   {
    "duration": 8,
    "start_time": "2023-03-11T11:43:43.661Z"
   },
   {
    "duration": 12,
    "start_time": "2023-03-11T11:43:43.670Z"
   },
   {
    "duration": 10,
    "start_time": "2023-03-11T11:43:43.684Z"
   },
   {
    "duration": 10,
    "start_time": "2023-03-11T11:43:43.697Z"
   },
   {
    "duration": 7,
    "start_time": "2023-03-11T11:43:43.709Z"
   },
   {
    "duration": 9,
    "start_time": "2023-03-11T11:43:43.717Z"
   },
   {
    "duration": 31,
    "start_time": "2023-03-11T11:43:43.728Z"
   },
   {
    "duration": 15,
    "start_time": "2023-03-11T11:43:43.761Z"
   },
   {
    "duration": 527,
    "start_time": "2023-03-11T11:43:43.778Z"
   },
   {
    "duration": 13,
    "start_time": "2023-03-11T11:43:44.306Z"
   },
   {
    "duration": 22,
    "start_time": "2023-03-11T11:43:44.321Z"
   },
   {
    "duration": 78,
    "start_time": "2023-03-11T11:43:44.345Z"
   },
   {
    "duration": 56,
    "start_time": "2023-03-11T11:43:44.425Z"
   },
   {
    "duration": 44,
    "start_time": "2023-03-11T11:43:44.483Z"
   },
   {
    "duration": 147,
    "start_time": "2023-03-11T12:18:24.779Z"
   },
   {
    "duration": 53,
    "start_time": "2023-03-11T12:18:40.585Z"
   },
   {
    "duration": 73,
    "start_time": "2023-03-11T12:19:05.510Z"
   },
   {
    "duration": 54,
    "start_time": "2023-03-11T12:20:41.509Z"
   },
   {
    "duration": 51,
    "start_time": "2023-03-11T12:22:11.315Z"
   },
   {
    "duration": 51,
    "start_time": "2023-03-11T12:23:40.241Z"
   },
   {
    "duration": 52,
    "start_time": "2023-03-11T12:23:48.492Z"
   },
   {
    "duration": 51,
    "start_time": "2023-03-11T12:25:03.754Z"
   },
   {
    "duration": 50,
    "start_time": "2023-03-11T12:26:09.686Z"
   },
   {
    "duration": 66,
    "start_time": "2023-03-11T12:29:44.105Z"
   },
   {
    "duration": 50,
    "start_time": "2023-03-11T12:30:09.754Z"
   },
   {
    "duration": 3,
    "start_time": "2023-03-11T12:30:52.518Z"
   },
   {
    "duration": 49,
    "start_time": "2023-03-11T12:31:07.175Z"
   },
   {
    "duration": 50,
    "start_time": "2023-03-11T12:32:00.561Z"
   },
   {
    "duration": 48,
    "start_time": "2023-03-11T12:32:22.003Z"
   },
   {
    "duration": 48,
    "start_time": "2023-03-11T12:32:58.508Z"
   },
   {
    "duration": 45,
    "start_time": "2023-03-11T12:34:23.985Z"
   },
   {
    "duration": 47,
    "start_time": "2023-03-11T12:35:06.853Z"
   },
   {
    "duration": 4,
    "start_time": "2023-03-11T12:42:50.755Z"
   },
   {
    "duration": 4,
    "start_time": "2023-03-11T12:42:57.937Z"
   },
   {
    "duration": 4,
    "start_time": "2023-03-11T12:43:16.375Z"
   },
   {
    "duration": 5,
    "start_time": "2023-03-11T12:43:22.125Z"
   },
   {
    "duration": 5,
    "start_time": "2023-03-11T12:43:32.179Z"
   },
   {
    "duration": 11,
    "start_time": "2023-03-11T12:53:05.738Z"
   },
   {
    "duration": 12,
    "start_time": "2023-03-11T13:32:36.917Z"
   },
   {
    "duration": 7,
    "start_time": "2023-03-11T13:33:08.315Z"
   },
   {
    "duration": 4,
    "start_time": "2023-03-11T13:33:22.001Z"
   },
   {
    "duration": 8,
    "start_time": "2023-03-11T13:33:33.931Z"
   },
   {
    "duration": 8,
    "start_time": "2023-03-11T13:34:07.248Z"
   },
   {
    "duration": 5,
    "start_time": "2023-03-11T13:34:48.890Z"
   },
   {
    "duration": 7,
    "start_time": "2023-03-11T13:35:50.099Z"
   },
   {
    "duration": 21,
    "start_time": "2023-03-11T13:46:10.287Z"
   },
   {
    "duration": 26,
    "start_time": "2023-03-11T13:46:44.460Z"
   },
   {
    "duration": 36,
    "start_time": "2023-03-11T13:47:15.265Z"
   },
   {
    "duration": 26,
    "start_time": "2023-03-11T13:49:28.064Z"
   },
   {
    "duration": 49,
    "start_time": "2023-03-11T13:51:40.569Z"
   },
   {
    "duration": 52,
    "start_time": "2023-03-11T13:51:47.903Z"
   },
   {
    "duration": 11,
    "start_time": "2023-03-11T13:55:44.531Z"
   },
   {
    "duration": 12,
    "start_time": "2023-03-11T14:00:48.007Z"
   },
   {
    "duration": 11,
    "start_time": "2023-03-11T14:04:44.506Z"
   },
   {
    "duration": 1191,
    "start_time": "2023-03-11T14:06:14.125Z"
   },
   {
    "duration": 748,
    "start_time": "2023-03-11T14:06:15.319Z"
   },
   {
    "duration": 12,
    "start_time": "2023-03-11T14:06:16.069Z"
   },
   {
    "duration": 74,
    "start_time": "2023-03-11T14:06:16.083Z"
   },
   {
    "duration": 62,
    "start_time": "2023-03-11T14:06:16.159Z"
   },
   {
    "duration": 276,
    "start_time": "2023-03-11T14:06:16.223Z"
   },
   {
    "duration": 9,
    "start_time": "2023-03-11T14:06:16.501Z"
   },
   {
    "duration": 16,
    "start_time": "2023-03-11T14:06:16.511Z"
   },
   {
    "duration": 7,
    "start_time": "2023-03-11T14:06:16.529Z"
   },
   {
    "duration": 14,
    "start_time": "2023-03-11T14:06:16.556Z"
   },
   {
    "duration": 9,
    "start_time": "2023-03-11T14:06:16.572Z"
   },
   {
    "duration": 13,
    "start_time": "2023-03-11T14:06:16.582Z"
   },
   {
    "duration": 9,
    "start_time": "2023-03-11T14:06:16.596Z"
   },
   {
    "duration": 8,
    "start_time": "2023-03-11T14:06:16.606Z"
   },
   {
    "duration": 3,
    "start_time": "2023-03-11T14:06:16.616Z"
   },
   {
    "duration": 63,
    "start_time": "2023-03-11T14:06:16.621Z"
   },
   {
    "duration": 3,
    "start_time": "2023-03-11T14:06:16.686Z"
   },
   {
    "duration": 15,
    "start_time": "2023-03-11T14:06:16.691Z"
   },
   {
    "duration": 10,
    "start_time": "2023-03-11T14:06:16.708Z"
   },
   {
    "duration": 115,
    "start_time": "2023-03-11T14:06:16.720Z"
   },
   {
    "duration": 77,
    "start_time": "2023-03-11T14:06:16.837Z"
   },
   {
    "duration": 53,
    "start_time": "2023-03-11T14:06:16.916Z"
   },
   {
    "duration": 12,
    "start_time": "2023-03-11T14:06:16.970Z"
   },
   {
    "duration": 6,
    "start_time": "2023-03-11T14:06:16.984Z"
   },
   {
    "duration": 7,
    "start_time": "2023-03-11T14:06:16.992Z"
   },
   {
    "duration": 10,
    "start_time": "2023-03-11T14:06:17.001Z"
   },
   {
    "duration": 8,
    "start_time": "2023-03-11T14:06:17.013Z"
   },
   {
    "duration": 41,
    "start_time": "2023-03-11T14:06:17.025Z"
   },
   {
    "duration": 8,
    "start_time": "2023-03-11T14:06:17.068Z"
   },
   {
    "duration": 8,
    "start_time": "2023-03-11T14:06:17.078Z"
   },
   {
    "duration": 32,
    "start_time": "2023-03-11T14:06:17.088Z"
   },
   {
    "duration": 12,
    "start_time": "2023-03-11T14:06:17.121Z"
   },
   {
    "duration": 545,
    "start_time": "2023-03-11T14:06:17.135Z"
   },
   {
    "duration": 0,
    "start_time": "2023-03-11T14:06:17.683Z"
   },
   {
    "duration": 0,
    "start_time": "2023-03-11T14:06:17.684Z"
   },
   {
    "duration": 0,
    "start_time": "2023-03-11T14:06:17.685Z"
   },
   {
    "duration": 0,
    "start_time": "2023-03-11T14:06:17.686Z"
   },
   {
    "duration": 0,
    "start_time": "2023-03-11T14:06:17.688Z"
   },
   {
    "duration": 0,
    "start_time": "2023-03-11T14:06:17.689Z"
   },
   {
    "duration": 0,
    "start_time": "2023-03-11T14:06:17.691Z"
   },
   {
    "duration": 0,
    "start_time": "2023-03-11T14:06:17.693Z"
   },
   {
    "duration": 0,
    "start_time": "2023-03-11T14:06:17.694Z"
   },
   {
    "duration": 1266,
    "start_time": "2023-03-11T14:07:11.528Z"
   },
   {
    "duration": 724,
    "start_time": "2023-03-11T14:07:12.796Z"
   },
   {
    "duration": 16,
    "start_time": "2023-03-11T14:07:13.525Z"
   },
   {
    "duration": 69,
    "start_time": "2023-03-11T14:07:13.543Z"
   },
   {
    "duration": 71,
    "start_time": "2023-03-11T14:07:13.614Z"
   },
   {
    "duration": 296,
    "start_time": "2023-03-11T14:07:13.687Z"
   },
   {
    "duration": 9,
    "start_time": "2023-03-11T14:07:13.985Z"
   },
   {
    "duration": 15,
    "start_time": "2023-03-11T14:07:13.996Z"
   },
   {
    "duration": 8,
    "start_time": "2023-03-11T14:07:14.014Z"
   },
   {
    "duration": 43,
    "start_time": "2023-03-11T14:07:14.024Z"
   },
   {
    "duration": 9,
    "start_time": "2023-03-11T14:07:14.070Z"
   },
   {
    "duration": 13,
    "start_time": "2023-03-11T14:07:14.080Z"
   },
   {
    "duration": 13,
    "start_time": "2023-03-11T14:07:14.095Z"
   },
   {
    "duration": 8,
    "start_time": "2023-03-11T14:07:14.110Z"
   },
   {
    "duration": 4,
    "start_time": "2023-03-11T14:07:14.120Z"
   },
   {
    "duration": 35,
    "start_time": "2023-03-11T14:07:14.158Z"
   },
   {
    "duration": 3,
    "start_time": "2023-03-11T14:07:14.196Z"
   },
   {
    "duration": 12,
    "start_time": "2023-03-11T14:07:14.202Z"
   },
   {
    "duration": 40,
    "start_time": "2023-03-11T14:07:14.217Z"
   },
   {
    "duration": 83,
    "start_time": "2023-03-11T14:07:14.259Z"
   },
   {
    "duration": 90,
    "start_time": "2023-03-11T14:07:14.345Z"
   },
   {
    "duration": 69,
    "start_time": "2023-03-11T14:07:14.437Z"
   },
   {
    "duration": 13,
    "start_time": "2023-03-11T14:07:14.510Z"
   },
   {
    "duration": 15,
    "start_time": "2023-03-11T14:07:14.525Z"
   },
   {
    "duration": 18,
    "start_time": "2023-03-11T14:07:14.542Z"
   },
   {
    "duration": 13,
    "start_time": "2023-03-11T14:07:14.561Z"
   },
   {
    "duration": 14,
    "start_time": "2023-03-11T14:07:14.578Z"
   },
   {
    "duration": 16,
    "start_time": "2023-03-11T14:07:14.595Z"
   },
   {
    "duration": 11,
    "start_time": "2023-03-11T14:07:14.614Z"
   },
   {
    "duration": 9,
    "start_time": "2023-03-11T14:07:14.627Z"
   },
   {
    "duration": 25,
    "start_time": "2023-03-11T14:07:14.638Z"
   },
   {
    "duration": 13,
    "start_time": "2023-03-11T14:07:14.665Z"
   },
   {
    "duration": 546,
    "start_time": "2023-03-11T14:07:14.679Z"
   },
   {
    "duration": 12,
    "start_time": "2023-03-11T14:07:15.227Z"
   },
   {
    "duration": 29,
    "start_time": "2023-03-11T14:07:15.240Z"
   },
   {
    "duration": 104,
    "start_time": "2023-03-11T14:07:15.272Z"
   },
   {
    "duration": 81,
    "start_time": "2023-03-11T14:07:15.379Z"
   },
   {
    "duration": 78,
    "start_time": "2023-03-11T14:07:15.463Z"
   },
   {
    "duration": 6,
    "start_time": "2023-03-11T14:07:15.558Z"
   },
   {
    "duration": 14,
    "start_time": "2023-03-11T14:07:15.566Z"
   },
   {
    "duration": 164,
    "start_time": "2023-03-11T14:07:15.582Z"
   },
   {
    "duration": 0,
    "start_time": "2023-03-11T14:07:15.748Z"
   },
   {
    "duration": 14,
    "start_time": "2023-03-11T14:14:27.276Z"
   },
   {
    "duration": 17,
    "start_time": "2023-03-11T14:15:47.980Z"
   },
   {
    "duration": 422,
    "start_time": "2023-03-11T14:19:27.802Z"
   },
   {
    "duration": 466,
    "start_time": "2023-03-11T14:19:46.006Z"
   },
   {
    "duration": 387,
    "start_time": "2023-03-11T14:23:09.312Z"
   },
   {
    "duration": 351,
    "start_time": "2023-03-11T14:23:48.428Z"
   },
   {
    "duration": 828,
    "start_time": "2023-03-11T14:28:11.603Z"
   },
   {
    "duration": 931,
    "start_time": "2023-03-11T14:28:52.926Z"
   },
   {
    "duration": 854,
    "start_time": "2023-03-11T14:30:54.903Z"
   },
   {
    "duration": 459,
    "start_time": "2023-03-11T14:32:08.719Z"
   },
   {
    "duration": 811,
    "start_time": "2023-03-11T14:34:19.675Z"
   },
   {
    "duration": 663,
    "start_time": "2023-03-11T14:37:58.240Z"
   },
   {
    "duration": 845,
    "start_time": "2023-03-11T14:38:09.771Z"
   },
   {
    "duration": 778,
    "start_time": "2023-03-11T14:41:01.723Z"
   },
   {
    "duration": 835,
    "start_time": "2023-03-11T14:41:31.323Z"
   },
   {
    "duration": 44,
    "start_time": "2023-03-11T14:42:19.716Z"
   },
   {
    "duration": 258,
    "start_time": "2023-03-11T14:42:27.021Z"
   },
   {
    "duration": 141,
    "start_time": "2023-03-11T14:42:54.386Z"
   },
   {
    "duration": 131,
    "start_time": "2023-03-11T14:43:26.902Z"
   },
   {
    "duration": 364,
    "start_time": "2023-03-11T14:43:54.908Z"
   },
   {
    "duration": 869,
    "start_time": "2023-03-11T14:44:14.433Z"
   },
   {
    "duration": 47,
    "start_time": "2023-03-11T14:45:41.379Z"
   },
   {
    "duration": 146,
    "start_time": "2023-03-11T14:46:04.979Z"
   },
   {
    "duration": 758,
    "start_time": "2023-03-11T14:46:31.799Z"
   },
   {
    "duration": 734,
    "start_time": "2023-03-11T14:46:45.543Z"
   },
   {
    "duration": 883,
    "start_time": "2023-03-11T14:48:17.542Z"
   },
   {
    "duration": 728,
    "start_time": "2023-03-11T14:48:31.995Z"
   },
   {
    "duration": 769,
    "start_time": "2023-03-11T14:48:37.495Z"
   },
   {
    "duration": 718,
    "start_time": "2023-03-11T14:48:59.427Z"
   },
   {
    "duration": 759,
    "start_time": "2023-03-11T14:49:19.498Z"
   },
   {
    "duration": 885,
    "start_time": "2023-03-11T14:49:33.731Z"
   },
   {
    "duration": 708,
    "start_time": "2023-03-11T14:49:46.244Z"
   },
   {
    "duration": 690,
    "start_time": "2023-03-11T14:49:53.076Z"
   },
   {
    "duration": 799,
    "start_time": "2023-03-11T14:50:04.167Z"
   },
   {
    "duration": 742,
    "start_time": "2023-03-11T14:50:20.121Z"
   },
   {
    "duration": 777,
    "start_time": "2023-03-11T14:50:55.406Z"
   },
   {
    "duration": 872,
    "start_time": "2023-03-11T14:51:06.374Z"
   },
   {
    "duration": 776,
    "start_time": "2023-03-11T14:51:16.243Z"
   },
   {
    "duration": 768,
    "start_time": "2023-03-11T14:51:27.501Z"
   },
   {
    "duration": 736,
    "start_time": "2023-03-11T14:51:37.264Z"
   },
   {
    "duration": 573,
    "start_time": "2023-03-11T14:58:20.271Z"
   },
   {
    "duration": 299,
    "start_time": "2023-03-11T14:59:01.344Z"
   },
   {
    "duration": 872,
    "start_time": "2023-03-11T14:59:12.341Z"
   },
   {
    "duration": 63,
    "start_time": "2023-03-11T15:00:25.857Z"
   },
   {
    "duration": 33,
    "start_time": "2023-03-11T15:00:35.836Z"
   },
   {
    "duration": 6687,
    "start_time": "2023-03-11T15:01:27.843Z"
   },
   {
    "duration": 7485,
    "start_time": "2023-03-11T15:01:43.695Z"
   },
   {
    "duration": 21,
    "start_time": "2023-03-11T15:09:34.626Z"
   },
   {
    "duration": 7194,
    "start_time": "2023-03-11T15:09:43.096Z"
   },
   {
    "duration": 1432,
    "start_time": "2023-03-12T04:51:36.163Z"
   },
   {
    "duration": 1007,
    "start_time": "2023-03-12T04:51:37.598Z"
   },
   {
    "duration": 14,
    "start_time": "2023-03-12T04:51:38.606Z"
   },
   {
    "duration": 69,
    "start_time": "2023-03-12T04:51:38.622Z"
   },
   {
    "duration": 63,
    "start_time": "2023-03-12T04:51:38.693Z"
   },
   {
    "duration": 286,
    "start_time": "2023-03-12T04:51:38.772Z"
   },
   {
    "duration": 13,
    "start_time": "2023-03-12T04:51:39.060Z"
   },
   {
    "duration": 15,
    "start_time": "2023-03-12T04:51:39.075Z"
   },
   {
    "duration": 8,
    "start_time": "2023-03-12T04:51:39.092Z"
   },
   {
    "duration": 14,
    "start_time": "2023-03-12T04:51:39.103Z"
   },
   {
    "duration": 11,
    "start_time": "2023-03-12T04:51:39.119Z"
   },
   {
    "duration": 49,
    "start_time": "2023-03-12T04:51:39.132Z"
   },
   {
    "duration": 9,
    "start_time": "2023-03-12T04:51:39.183Z"
   },
   {
    "duration": 7,
    "start_time": "2023-03-12T04:51:39.194Z"
   },
   {
    "duration": 6,
    "start_time": "2023-03-12T04:51:39.203Z"
   },
   {
    "duration": 42,
    "start_time": "2023-03-12T04:51:39.211Z"
   },
   {
    "duration": 3,
    "start_time": "2023-03-12T04:51:39.273Z"
   },
   {
    "duration": 14,
    "start_time": "2023-03-12T04:51:39.278Z"
   },
   {
    "duration": 10,
    "start_time": "2023-03-12T04:51:39.294Z"
   },
   {
    "duration": 93,
    "start_time": "2023-03-12T04:51:39.306Z"
   },
   {
    "duration": 84,
    "start_time": "2023-03-12T04:51:39.401Z"
   },
   {
    "duration": 49,
    "start_time": "2023-03-12T04:51:39.487Z"
   },
   {
    "duration": 12,
    "start_time": "2023-03-12T04:51:39.538Z"
   },
   {
    "duration": 5,
    "start_time": "2023-03-12T04:51:39.574Z"
   },
   {
    "duration": 9,
    "start_time": "2023-03-12T04:51:39.581Z"
   },
   {
    "duration": 10,
    "start_time": "2023-03-12T04:51:39.592Z"
   },
   {
    "duration": 8,
    "start_time": "2023-03-12T04:51:39.604Z"
   },
   {
    "duration": 9,
    "start_time": "2023-03-12T04:51:39.615Z"
   },
   {
    "duration": 10,
    "start_time": "2023-03-12T04:51:39.626Z"
   },
   {
    "duration": 9,
    "start_time": "2023-03-12T04:51:39.637Z"
   },
   {
    "duration": 10,
    "start_time": "2023-03-12T04:51:39.673Z"
   },
   {
    "duration": 18,
    "start_time": "2023-03-12T04:51:39.685Z"
   },
   {
    "duration": 540,
    "start_time": "2023-03-12T04:51:39.705Z"
   },
   {
    "duration": 27,
    "start_time": "2023-03-12T04:51:40.247Z"
   },
   {
    "duration": 15,
    "start_time": "2023-03-12T04:51:40.276Z"
   },
   {
    "duration": 123,
    "start_time": "2023-03-12T04:51:40.293Z"
   },
   {
    "duration": 84,
    "start_time": "2023-03-12T04:51:40.418Z"
   },
   {
    "duration": 82,
    "start_time": "2023-03-12T04:51:40.504Z"
   },
   {
    "duration": 26,
    "start_time": "2023-03-12T04:51:40.589Z"
   },
   {
    "duration": 31,
    "start_time": "2023-03-12T04:51:40.617Z"
   },
   {
    "duration": 22,
    "start_time": "2023-03-12T04:51:40.651Z"
   },
   {
    "duration": 7446,
    "start_time": "2023-03-12T04:51:40.674Z"
   },
   {
    "duration": 31,
    "start_time": "2023-03-12T04:51:48.123Z"
   },
   {
    "duration": 115,
    "start_time": "2023-03-12T05:09:06.417Z"
   },
   {
    "duration": 1784,
    "start_time": "2023-03-12T05:09:44.514Z"
   },
   {
    "duration": 3,
    "start_time": "2023-03-12T05:16:31.463Z"
   },
   {
    "duration": 799,
    "start_time": "2023-03-12T05:18:41.770Z"
   },
   {
    "duration": 1499,
    "start_time": "2023-03-12T05:20:03.025Z"
   },
   {
    "duration": 3,
    "start_time": "2023-03-12T05:21:21.203Z"
   },
   {
    "duration": 2246,
    "start_time": "2023-03-12T05:22:52.297Z"
   },
   {
    "duration": 2164,
    "start_time": "2023-03-12T05:23:17.228Z"
   },
   {
    "duration": 2160,
    "start_time": "2023-03-12T05:27:08.589Z"
   },
   {
    "duration": 3,
    "start_time": "2023-03-12T05:28:55.924Z"
   },
   {
    "duration": 3064,
    "start_time": "2023-03-12T05:29:44.124Z"
   },
   {
    "duration": 23,
    "start_time": "2023-03-12T06:08:26.699Z"
   },
   {
    "duration": 2585,
    "start_time": "2023-03-12T06:08:45.416Z"
   },
   {
    "duration": 1412,
    "start_time": "2023-03-12T06:11:24.695Z"
   },
   {
    "duration": 963,
    "start_time": "2023-03-12T06:11:26.110Z"
   },
   {
    "duration": 22,
    "start_time": "2023-03-12T06:11:27.079Z"
   },
   {
    "duration": 90,
    "start_time": "2023-03-12T06:11:27.103Z"
   },
   {
    "duration": 67,
    "start_time": "2023-03-12T06:11:27.197Z"
   },
   {
    "duration": 339,
    "start_time": "2023-03-12T06:11:27.266Z"
   },
   {
    "duration": 9,
    "start_time": "2023-03-12T06:11:27.607Z"
   },
   {
    "duration": 24,
    "start_time": "2023-03-12T06:11:27.618Z"
   },
   {
    "duration": 8,
    "start_time": "2023-03-12T06:11:27.644Z"
   },
   {
    "duration": 34,
    "start_time": "2023-03-12T06:11:27.653Z"
   },
   {
    "duration": 15,
    "start_time": "2023-03-12T06:11:27.689Z"
   },
   {
    "duration": 14,
    "start_time": "2023-03-12T06:11:27.706Z"
   },
   {
    "duration": 9,
    "start_time": "2023-03-12T06:11:27.722Z"
   },
   {
    "duration": 6,
    "start_time": "2023-03-12T06:11:27.735Z"
   },
   {
    "duration": 60,
    "start_time": "2023-03-12T06:11:27.743Z"
   },
   {
    "duration": 50,
    "start_time": "2023-03-12T06:11:27.805Z"
   },
   {
    "duration": 3,
    "start_time": "2023-03-12T06:11:27.857Z"
   },
   {
    "duration": 29,
    "start_time": "2023-03-12T06:11:27.862Z"
   },
   {
    "duration": 11,
    "start_time": "2023-03-12T06:11:27.899Z"
   },
   {
    "duration": 89,
    "start_time": "2023-03-12T06:11:27.912Z"
   },
   {
    "duration": 78,
    "start_time": "2023-03-12T06:11:28.003Z"
   },
   {
    "duration": 60,
    "start_time": "2023-03-12T06:11:28.083Z"
   },
   {
    "duration": 11,
    "start_time": "2023-03-12T06:11:28.144Z"
   },
   {
    "duration": 47,
    "start_time": "2023-03-12T06:11:28.157Z"
   },
   {
    "duration": 6,
    "start_time": "2023-03-12T06:11:28.206Z"
   },
   {
    "duration": 10,
    "start_time": "2023-03-12T06:11:28.214Z"
   },
   {
    "duration": 9,
    "start_time": "2023-03-12T06:11:28.226Z"
   },
   {
    "duration": 10,
    "start_time": "2023-03-12T06:11:28.237Z"
   },
   {
    "duration": 7,
    "start_time": "2023-03-12T06:11:28.249Z"
   },
   {
    "duration": 26,
    "start_time": "2023-03-12T06:11:28.258Z"
   },
   {
    "duration": 20,
    "start_time": "2023-03-12T06:11:28.287Z"
   },
   {
    "duration": 12,
    "start_time": "2023-03-12T06:11:28.309Z"
   },
   {
    "duration": 623,
    "start_time": "2023-03-12T06:11:28.323Z"
   },
   {
    "duration": 17,
    "start_time": "2023-03-12T06:11:28.948Z"
   },
   {
    "duration": 33,
    "start_time": "2023-03-12T06:11:28.978Z"
   },
   {
    "duration": 99,
    "start_time": "2023-03-12T06:11:29.013Z"
   },
   {
    "duration": 54,
    "start_time": "2023-03-12T06:11:29.114Z"
   },
   {
    "duration": 72,
    "start_time": "2023-03-12T06:11:29.169Z"
   },
   {
    "duration": 5,
    "start_time": "2023-03-12T06:11:29.243Z"
   },
   {
    "duration": 33,
    "start_time": "2023-03-12T06:11:29.250Z"
   },
   {
    "duration": 31,
    "start_time": "2023-03-12T06:11:29.289Z"
   },
   {
    "duration": 8981,
    "start_time": "2023-03-12T06:11:29.323Z"
   },
   {
    "duration": 32,
    "start_time": "2023-03-12T06:11:38.307Z"
   },
   {
    "duration": 1844,
    "start_time": "2023-03-12T06:11:38.340Z"
   },
   {
    "duration": 866,
    "start_time": "2023-03-12T06:11:40.186Z"
   },
   {
    "duration": 1479,
    "start_time": "2023-03-12T06:11:41.054Z"
   },
   {
    "duration": 2396,
    "start_time": "2023-03-12T06:11:42.535Z"
   },
   {
    "duration": 2228,
    "start_time": "2023-03-12T06:11:44.933Z"
   },
   {
    "duration": 2881,
    "start_time": "2023-03-12T06:11:47.163Z"
   },
   {
    "duration": 38,
    "start_time": "2023-03-12T06:14:55.556Z"
   },
   {
    "duration": 3,
    "start_time": "2023-03-13T09:07:42.933Z"
   },
   {
    "duration": 786,
    "start_time": "2023-03-13T09:07:42.938Z"
   },
   {
    "duration": 11,
    "start_time": "2023-03-13T09:07:43.726Z"
   },
   {
    "duration": 118,
    "start_time": "2023-03-13T09:07:43.740Z"
   },
   {
    "duration": 72,
    "start_time": "2023-03-13T09:07:43.860Z"
   },
   {
    "duration": 283,
    "start_time": "2023-03-13T09:07:43.934Z"
   },
   {
    "duration": 11,
    "start_time": "2023-03-13T09:07:44.220Z"
   },
   {
    "duration": 20,
    "start_time": "2023-03-13T09:07:44.233Z"
   },
   {
    "duration": 24,
    "start_time": "2023-03-13T09:07:44.255Z"
   },
   {
    "duration": 37,
    "start_time": "2023-03-13T09:07:44.281Z"
   },
   {
    "duration": 13,
    "start_time": "2023-03-13T09:07:44.320Z"
   },
   {
    "duration": 18,
    "start_time": "2023-03-13T09:07:44.335Z"
   },
   {
    "duration": 18,
    "start_time": "2023-03-13T09:07:44.355Z"
   },
   {
    "duration": 204,
    "start_time": "2023-03-13T09:07:44.377Z"
   },
   {
    "duration": 26,
    "start_time": "2023-03-13T09:07:44.584Z"
   },
   {
    "duration": 37,
    "start_time": "2023-03-13T09:07:44.613Z"
   },
   {
    "duration": 4,
    "start_time": "2023-03-13T09:07:44.652Z"
   },
   {
    "duration": 30,
    "start_time": "2023-03-13T09:07:44.658Z"
   },
   {
    "duration": 12,
    "start_time": "2023-03-13T09:07:44.692Z"
   },
   {
    "duration": 94,
    "start_time": "2023-03-13T09:07:44.707Z"
   },
   {
    "duration": 71,
    "start_time": "2023-03-13T09:07:44.802Z"
   },
   {
    "duration": 64,
    "start_time": "2023-03-13T09:07:44.876Z"
   },
   {
    "duration": 12,
    "start_time": "2023-03-13T09:07:44.942Z"
   },
   {
    "duration": 10,
    "start_time": "2023-03-13T09:07:44.976Z"
   },
   {
    "duration": 28,
    "start_time": "2023-03-13T09:07:44.988Z"
   },
   {
    "duration": 15,
    "start_time": "2023-03-13T09:07:45.019Z"
   },
   {
    "duration": 10,
    "start_time": "2023-03-13T09:07:45.036Z"
   },
   {
    "duration": 12,
    "start_time": "2023-03-13T09:07:45.048Z"
   },
   {
    "duration": 21,
    "start_time": "2023-03-13T09:07:45.063Z"
   },
   {
    "duration": 18,
    "start_time": "2023-03-13T09:07:45.086Z"
   },
   {
    "duration": 12,
    "start_time": "2023-03-13T09:07:45.105Z"
   },
   {
    "duration": 12,
    "start_time": "2023-03-13T09:07:45.119Z"
   },
   {
    "duration": 531,
    "start_time": "2023-03-13T09:07:45.133Z"
   },
   {
    "duration": 18,
    "start_time": "2023-03-13T09:07:45.673Z"
   },
   {
    "duration": 23,
    "start_time": "2023-03-13T09:07:45.693Z"
   },
   {
    "duration": 92,
    "start_time": "2023-03-13T09:07:45.720Z"
   },
   {
    "duration": 71,
    "start_time": "2023-03-13T09:07:45.814Z"
   },
   {
    "duration": 58,
    "start_time": "2023-03-13T09:07:45.887Z"
   },
   {
    "duration": 5,
    "start_time": "2023-03-13T09:07:45.948Z"
   },
   {
    "duration": 30,
    "start_time": "2023-03-13T09:07:45.955Z"
   },
   {
    "duration": 26,
    "start_time": "2023-03-13T09:07:45.987Z"
   },
   {
    "duration": 8444,
    "start_time": "2023-03-13T09:07:46.015Z"
   },
   {
    "duration": 45,
    "start_time": "2023-03-13T09:07:54.461Z"
   },
   {
    "duration": 1652,
    "start_time": "2023-03-13T09:07:54.508Z"
   },
   {
    "duration": 749,
    "start_time": "2023-03-13T09:07:56.162Z"
   },
   {
    "duration": 1315,
    "start_time": "2023-03-13T09:07:56.913Z"
   },
   {
    "duration": 1918,
    "start_time": "2023-03-13T09:07:58.230Z"
   },
   {
    "duration": 2318,
    "start_time": "2023-03-13T09:08:00.150Z"
   },
   {
    "duration": 2632,
    "start_time": "2023-03-13T09:08:02.470Z"
   },
   {
    "duration": 31,
    "start_time": "2023-03-13T09:08:05.105Z"
   },
   {
    "duration": 1370,
    "start_time": "2023-03-13T10:49:05.902Z"
   },
   {
    "duration": 1161,
    "start_time": "2023-03-13T10:49:40.363Z"
   },
   {
    "duration": 1953,
    "start_time": "2023-03-13T10:50:30.433Z"
   },
   {
    "duration": 1762,
    "start_time": "2023-03-13T10:51:41.191Z"
   },
   {
    "duration": 1019,
    "start_time": "2023-03-13T10:51:46.152Z"
   },
   {
    "duration": 875,
    "start_time": "2023-03-13T10:57:08.657Z"
   },
   {
    "duration": 1063,
    "start_time": "2023-03-13T10:57:56.508Z"
   },
   {
    "duration": 1807,
    "start_time": "2023-03-13T10:58:09.506Z"
   },
   {
    "duration": 1233,
    "start_time": "2023-03-13T11:01:20.758Z"
   },
   {
    "duration": 1978,
    "start_time": "2023-03-13T11:01:48.866Z"
   },
   {
    "duration": 1428,
    "start_time": "2023-03-13T12:24:48.446Z"
   },
   {
    "duration": 877,
    "start_time": "2023-03-13T12:24:49.876Z"
   },
   {
    "duration": 33,
    "start_time": "2023-03-13T12:24:50.759Z"
   },
   {
    "duration": 154,
    "start_time": "2023-03-13T12:24:50.795Z"
   },
   {
    "duration": 144,
    "start_time": "2023-03-13T12:24:50.951Z"
   },
   {
    "duration": 314,
    "start_time": "2023-03-13T12:24:51.098Z"
   },
   {
    "duration": 12,
    "start_time": "2023-03-13T12:24:51.414Z"
   },
   {
    "duration": 56,
    "start_time": "2023-03-13T12:24:51.428Z"
   },
   {
    "duration": 27,
    "start_time": "2023-03-13T12:24:51.491Z"
   },
   {
    "duration": 42,
    "start_time": "2023-03-13T12:24:51.521Z"
   },
   {
    "duration": 42,
    "start_time": "2023-03-13T12:24:51.564Z"
   },
   {
    "duration": 24,
    "start_time": "2023-03-13T12:24:51.608Z"
   },
   {
    "duration": 40,
    "start_time": "2023-03-13T12:24:51.633Z"
   },
   {
    "duration": 31,
    "start_time": "2023-03-13T12:24:51.678Z"
   },
   {
    "duration": 38,
    "start_time": "2023-03-13T12:24:51.711Z"
   },
   {
    "duration": 75,
    "start_time": "2023-03-13T12:24:51.752Z"
   },
   {
    "duration": 4,
    "start_time": "2023-03-13T12:24:51.829Z"
   },
   {
    "duration": 44,
    "start_time": "2023-03-13T12:24:51.835Z"
   },
   {
    "duration": 34,
    "start_time": "2023-03-13T12:24:51.882Z"
   },
   {
    "duration": 138,
    "start_time": "2023-03-13T12:24:51.918Z"
   },
   {
    "duration": 96,
    "start_time": "2023-03-13T12:24:52.058Z"
   },
   {
    "duration": 70,
    "start_time": "2023-03-13T12:24:52.156Z"
   },
   {
    "duration": 12,
    "start_time": "2023-03-13T12:24:52.229Z"
   },
   {
    "duration": 24,
    "start_time": "2023-03-13T12:24:52.243Z"
   },
   {
    "duration": 35,
    "start_time": "2023-03-13T12:24:52.270Z"
   },
   {
    "duration": 35,
    "start_time": "2023-03-13T12:24:52.309Z"
   },
   {
    "duration": 34,
    "start_time": "2023-03-13T12:24:52.347Z"
   },
   {
    "duration": 44,
    "start_time": "2023-03-13T12:24:52.387Z"
   },
   {
    "duration": 44,
    "start_time": "2023-03-13T12:24:52.434Z"
   },
   {
    "duration": 27,
    "start_time": "2023-03-13T12:24:52.481Z"
   },
   {
    "duration": 37,
    "start_time": "2023-03-13T12:24:52.510Z"
   },
   {
    "duration": 33,
    "start_time": "2023-03-13T12:24:52.549Z"
   },
   {
    "duration": 681,
    "start_time": "2023-03-13T12:24:52.584Z"
   },
   {
    "duration": 22,
    "start_time": "2023-03-13T12:24:53.267Z"
   },
   {
    "duration": 16,
    "start_time": "2023-03-13T12:24:53.291Z"
   },
   {
    "duration": 94,
    "start_time": "2023-03-13T12:24:53.309Z"
   },
   {
    "duration": 72,
    "start_time": "2023-03-13T12:24:53.405Z"
   },
   {
    "duration": 96,
    "start_time": "2023-03-13T12:24:53.479Z"
   },
   {
    "duration": 15,
    "start_time": "2023-03-13T12:24:53.582Z"
   },
   {
    "duration": 19,
    "start_time": "2023-03-13T12:24:53.599Z"
   },
   {
    "duration": 30,
    "start_time": "2023-03-13T12:24:53.620Z"
   },
   {
    "duration": 8547,
    "start_time": "2023-03-13T12:24:53.653Z"
   },
   {
    "duration": 35,
    "start_time": "2023-03-13T12:25:02.203Z"
   },
   {
    "duration": 1705,
    "start_time": "2023-03-13T12:25:02.241Z"
   },
   {
    "duration": 820,
    "start_time": "2023-03-13T12:25:03.948Z"
   },
   {
    "duration": 1562,
    "start_time": "2023-03-13T12:25:04.773Z"
   },
   {
    "duration": 2521,
    "start_time": "2023-03-13T12:25:06.337Z"
   },
   {
    "duration": 992,
    "start_time": "2023-03-13T12:25:08.860Z"
   },
   {
    "duration": 1733,
    "start_time": "2023-03-13T12:25:09.855Z"
   },
   {
    "duration": 2161,
    "start_time": "2023-03-13T12:25:11.591Z"
   },
   {
    "duration": 962,
    "start_time": "2023-03-13T12:25:13.754Z"
   },
   {
    "duration": 1916,
    "start_time": "2023-03-13T12:25:14.718Z"
   },
   {
    "duration": 2921,
    "start_time": "2023-03-13T12:25:16.637Z"
   },
   {
    "duration": 1415,
    "start_time": "2023-03-13T12:25:19.560Z"
   },
   {
    "duration": 2044,
    "start_time": "2023-03-13T12:25:20.977Z"
   },
   {
    "duration": 1359,
    "start_time": "2023-03-13T12:27:11.556Z"
   },
   {
    "duration": 827,
    "start_time": "2023-03-13T12:27:12.917Z"
   },
   {
    "duration": 14,
    "start_time": "2023-03-13T12:27:13.747Z"
   },
   {
    "duration": 95,
    "start_time": "2023-03-13T12:27:13.763Z"
   },
   {
    "duration": 94,
    "start_time": "2023-03-13T12:27:13.860Z"
   },
   {
    "duration": 331,
    "start_time": "2023-03-13T12:27:13.956Z"
   },
   {
    "duration": 21,
    "start_time": "2023-03-13T12:27:14.289Z"
   },
   {
    "duration": 16,
    "start_time": "2023-03-13T12:27:14.313Z"
   },
   {
    "duration": 9,
    "start_time": "2023-03-13T12:27:14.332Z"
   },
   {
    "duration": 32,
    "start_time": "2023-03-13T12:27:14.344Z"
   },
   {
    "duration": 16,
    "start_time": "2023-03-13T12:27:14.382Z"
   },
   {
    "duration": 35,
    "start_time": "2023-03-13T12:27:14.400Z"
   },
   {
    "duration": 9,
    "start_time": "2023-03-13T12:27:14.437Z"
   },
   {
    "duration": 9,
    "start_time": "2023-03-13T12:27:14.449Z"
   },
   {
    "duration": 5,
    "start_time": "2023-03-13T12:27:14.460Z"
   },
   {
    "duration": 65,
    "start_time": "2023-03-13T12:27:14.466Z"
   },
   {
    "duration": 4,
    "start_time": "2023-03-13T12:27:14.533Z"
   },
   {
    "duration": 14,
    "start_time": "2023-03-13T12:27:14.538Z"
   },
   {
    "duration": 39,
    "start_time": "2023-03-13T12:27:14.554Z"
   },
   {
    "duration": 102,
    "start_time": "2023-03-13T12:27:14.596Z"
   },
   {
    "duration": 93,
    "start_time": "2023-03-13T12:27:14.700Z"
   },
   {
    "duration": 57,
    "start_time": "2023-03-13T12:27:14.795Z"
   },
   {
    "duration": 13,
    "start_time": "2023-03-13T12:27:14.854Z"
   },
   {
    "duration": 32,
    "start_time": "2023-03-13T12:27:14.868Z"
   },
   {
    "duration": 11,
    "start_time": "2023-03-13T12:27:14.902Z"
   },
   {
    "duration": 13,
    "start_time": "2023-03-13T12:27:14.916Z"
   },
   {
    "duration": 14,
    "start_time": "2023-03-13T12:27:14.931Z"
   },
   {
    "duration": 17,
    "start_time": "2023-03-13T12:27:14.947Z"
   },
   {
    "duration": 40,
    "start_time": "2023-03-13T12:27:14.966Z"
   },
   {
    "duration": 49,
    "start_time": "2023-03-13T12:27:15.009Z"
   },
   {
    "duration": 21,
    "start_time": "2023-03-13T12:27:15.060Z"
   },
   {
    "duration": 36,
    "start_time": "2023-03-13T12:27:15.084Z"
   },
   {
    "duration": 641,
    "start_time": "2023-03-13T12:27:15.122Z"
   },
   {
    "duration": 31,
    "start_time": "2023-03-13T12:27:15.765Z"
   },
   {
    "duration": 28,
    "start_time": "2023-03-13T12:27:15.798Z"
   },
   {
    "duration": 90,
    "start_time": "2023-03-13T12:27:15.829Z"
   },
   {
    "duration": 74,
    "start_time": "2023-03-13T12:27:15.921Z"
   },
   {
    "duration": 64,
    "start_time": "2023-03-13T12:27:15.999Z"
   },
   {
    "duration": 23,
    "start_time": "2023-03-13T12:27:16.065Z"
   },
   {
    "duration": 33,
    "start_time": "2023-03-13T12:27:16.090Z"
   },
   {
    "duration": 23,
    "start_time": "2023-03-13T12:27:16.130Z"
   },
   {
    "duration": 8749,
    "start_time": "2023-03-13T12:27:16.155Z"
   },
   {
    "duration": 33,
    "start_time": "2023-03-13T12:27:24.907Z"
   },
   {
    "duration": 1790,
    "start_time": "2023-03-13T12:27:24.942Z"
   },
   {
    "duration": 812,
    "start_time": "2023-03-13T12:27:26.735Z"
   },
   {
    "duration": 1371,
    "start_time": "2023-03-13T12:27:27.549Z"
   },
   {
    "duration": 2317,
    "start_time": "2023-03-13T12:27:28.922Z"
   },
   {
    "duration": 1056,
    "start_time": "2023-03-13T12:27:31.242Z"
   },
   {
    "duration": 1615,
    "start_time": "2023-03-13T12:27:32.302Z"
   },
   {
    "duration": 2091,
    "start_time": "2023-03-13T12:27:33.919Z"
   },
   {
    "duration": 924,
    "start_time": "2023-03-13T12:27:36.011Z"
   },
   {
    "duration": 1806,
    "start_time": "2023-03-13T12:27:36.937Z"
   },
   {
    "duration": 2802,
    "start_time": "2023-03-13T12:27:38.745Z"
   },
   {
    "duration": 1360,
    "start_time": "2023-03-13T12:27:41.549Z"
   },
   {
    "duration": 2054,
    "start_time": "2023-03-13T12:27:42.912Z"
   },
   {
    "duration": 1269,
    "start_time": "2023-03-13T12:29:35.893Z"
   },
   {
    "duration": 867,
    "start_time": "2023-03-13T12:29:37.164Z"
   },
   {
    "duration": 14,
    "start_time": "2023-03-13T12:29:38.033Z"
   },
   {
    "duration": 109,
    "start_time": "2023-03-13T12:29:38.050Z"
   },
   {
    "duration": 122,
    "start_time": "2023-03-13T12:29:38.161Z"
   },
   {
    "duration": 306,
    "start_time": "2023-03-13T12:29:38.288Z"
   },
   {
    "duration": 15,
    "start_time": "2023-03-13T12:29:38.597Z"
   },
   {
    "duration": 30,
    "start_time": "2023-03-13T12:29:38.615Z"
   },
   {
    "duration": 10,
    "start_time": "2023-03-13T12:29:38.647Z"
   },
   {
    "duration": 33,
    "start_time": "2023-03-13T12:29:38.661Z"
   },
   {
    "duration": 26,
    "start_time": "2023-03-13T12:29:38.698Z"
   },
   {
    "duration": 13,
    "start_time": "2023-03-13T12:29:38.727Z"
   },
   {
    "duration": 12,
    "start_time": "2023-03-13T12:29:38.742Z"
   },
   {
    "duration": 9,
    "start_time": "2023-03-13T12:29:38.756Z"
   },
   {
    "duration": 28,
    "start_time": "2023-03-13T12:29:38.767Z"
   },
   {
    "duration": 56,
    "start_time": "2023-03-13T12:29:38.797Z"
   },
   {
    "duration": 6,
    "start_time": "2023-03-13T12:29:38.855Z"
   },
   {
    "duration": 48,
    "start_time": "2023-03-13T12:29:38.863Z"
   },
   {
    "duration": 22,
    "start_time": "2023-03-13T12:29:38.913Z"
   },
   {
    "duration": 111,
    "start_time": "2023-03-13T12:29:38.938Z"
   },
   {
    "duration": 96,
    "start_time": "2023-03-13T12:29:39.051Z"
   },
   {
    "duration": 75,
    "start_time": "2023-03-13T12:29:39.148Z"
   },
   {
    "duration": 14,
    "start_time": "2023-03-13T12:29:39.225Z"
   },
   {
    "duration": 31,
    "start_time": "2023-03-13T12:29:39.241Z"
   },
   {
    "duration": 14,
    "start_time": "2023-03-13T12:29:39.278Z"
   },
   {
    "duration": 25,
    "start_time": "2023-03-13T12:29:39.295Z"
   },
   {
    "duration": 17,
    "start_time": "2023-03-13T12:29:39.323Z"
   },
   {
    "duration": 17,
    "start_time": "2023-03-13T12:29:39.346Z"
   },
   {
    "duration": 19,
    "start_time": "2023-03-13T12:29:39.365Z"
   },
   {
    "duration": 12,
    "start_time": "2023-03-13T12:29:39.400Z"
   },
   {
    "duration": 15,
    "start_time": "2023-03-13T12:29:39.414Z"
   },
   {
    "duration": 18,
    "start_time": "2023-03-13T12:29:39.432Z"
   },
   {
    "duration": 642,
    "start_time": "2023-03-13T12:29:39.452Z"
   },
   {
    "duration": 15,
    "start_time": "2023-03-13T12:29:40.100Z"
   },
   {
    "duration": 41,
    "start_time": "2023-03-13T12:29:40.117Z"
   },
   {
    "duration": 103,
    "start_time": "2023-03-13T12:29:40.160Z"
   },
   {
    "duration": 81,
    "start_time": "2023-03-13T12:29:40.266Z"
   },
   {
    "duration": 74,
    "start_time": "2023-03-13T12:29:40.349Z"
   },
   {
    "duration": 6,
    "start_time": "2023-03-13T12:29:40.425Z"
   },
   {
    "duration": 36,
    "start_time": "2023-03-13T12:29:40.432Z"
   },
   {
    "duration": 55,
    "start_time": "2023-03-13T12:29:40.470Z"
   },
   {
    "duration": 8944,
    "start_time": "2023-03-13T12:29:40.528Z"
   },
   {
    "duration": 43,
    "start_time": "2023-03-13T12:29:49.475Z"
   },
   {
    "duration": 1843,
    "start_time": "2023-03-13T12:29:49.520Z"
   },
   {
    "duration": 800,
    "start_time": "2023-03-13T12:29:51.365Z"
   },
   {
    "duration": 1542,
    "start_time": "2023-03-13T12:29:52.167Z"
   },
   {
    "duration": 2435,
    "start_time": "2023-03-13T12:29:53.711Z"
   },
   {
    "duration": 1026,
    "start_time": "2023-03-13T12:29:56.149Z"
   },
   {
    "duration": 1619,
    "start_time": "2023-03-13T12:29:57.180Z"
   },
   {
    "duration": 2178,
    "start_time": "2023-03-13T12:29:58.801Z"
   },
   {
    "duration": 1051,
    "start_time": "2023-03-13T12:30:00.981Z"
   },
   {
    "duration": 1782,
    "start_time": "2023-03-13T12:30:02.034Z"
   },
   {
    "duration": 2789,
    "start_time": "2023-03-13T12:30:03.818Z"
   },
   {
    "duration": 1432,
    "start_time": "2023-03-13T12:30:06.610Z"
   },
   {
    "duration": 2079,
    "start_time": "2023-03-13T12:30:08.044Z"
   },
   {
    "duration": 1355,
    "start_time": "2023-03-13T17:29:21.676Z"
   },
   {
    "duration": 2051,
    "start_time": "2023-03-13T17:29:23.033Z"
   },
   {
    "duration": 14,
    "start_time": "2023-03-13T17:29:25.086Z"
   },
   {
    "duration": 59,
    "start_time": "2023-03-13T17:29:25.101Z"
   },
   {
    "duration": 55,
    "start_time": "2023-03-13T17:29:25.163Z"
   },
   {
    "duration": 272,
    "start_time": "2023-03-13T17:29:25.219Z"
   },
   {
    "duration": 8,
    "start_time": "2023-03-13T17:29:25.493Z"
   },
   {
    "duration": 11,
    "start_time": "2023-03-13T17:29:25.511Z"
   },
   {
    "duration": 14,
    "start_time": "2023-03-13T17:29:25.523Z"
   },
   {
    "duration": 14,
    "start_time": "2023-03-13T17:29:25.540Z"
   },
   {
    "duration": 9,
    "start_time": "2023-03-13T17:29:25.556Z"
   },
   {
    "duration": 11,
    "start_time": "2023-03-13T17:29:25.567Z"
   },
   {
    "duration": 7,
    "start_time": "2023-03-13T17:29:25.612Z"
   },
   {
    "duration": 6,
    "start_time": "2023-03-13T17:29:25.622Z"
   },
   {
    "duration": 4,
    "start_time": "2023-03-13T17:29:25.629Z"
   },
   {
    "duration": 36,
    "start_time": "2023-03-13T17:29:25.635Z"
   },
   {
    "duration": 3,
    "start_time": "2023-03-13T17:29:25.673Z"
   },
   {
    "duration": 40,
    "start_time": "2023-03-13T17:29:25.677Z"
   },
   {
    "duration": 11,
    "start_time": "2023-03-13T17:29:25.719Z"
   },
   {
    "duration": 86,
    "start_time": "2023-03-13T17:29:25.731Z"
   },
   {
    "duration": 67,
    "start_time": "2023-03-13T17:29:25.818Z"
   },
   {
    "duration": 25,
    "start_time": "2023-03-13T17:29:25.887Z"
   },
   {
    "duration": 7,
    "start_time": "2023-03-13T17:29:25.914Z"
   },
   {
    "duration": 9,
    "start_time": "2023-03-13T17:29:25.922Z"
   },
   {
    "duration": 16,
    "start_time": "2023-03-13T17:29:25.932Z"
   },
   {
    "duration": 9,
    "start_time": "2023-03-13T17:29:25.949Z"
   },
   {
    "duration": 10,
    "start_time": "2023-03-13T17:29:25.959Z"
   },
   {
    "duration": 9,
    "start_time": "2023-03-13T17:29:25.971Z"
   },
   {
    "duration": 30,
    "start_time": "2023-03-13T17:29:25.982Z"
   },
   {
    "duration": 8,
    "start_time": "2023-03-13T17:29:26.014Z"
   },
   {
    "duration": 16,
    "start_time": "2023-03-13T17:29:26.024Z"
   },
   {
    "duration": 506,
    "start_time": "2023-03-13T17:29:26.042Z"
   },
   {
    "duration": 13,
    "start_time": "2023-03-13T17:29:26.550Z"
   },
   {
    "duration": 14,
    "start_time": "2023-03-13T17:29:26.565Z"
   },
   {
    "duration": 85,
    "start_time": "2023-03-13T17:29:26.581Z"
   },
   {
    "duration": 61,
    "start_time": "2023-03-13T17:29:26.667Z"
   },
   {
    "duration": 56,
    "start_time": "2023-03-13T17:29:26.729Z"
   },
   {
    "duration": 4,
    "start_time": "2023-03-13T17:29:26.787Z"
   },
   {
    "duration": 27,
    "start_time": "2023-03-13T17:29:26.792Z"
   },
   {
    "duration": 15,
    "start_time": "2023-03-13T17:29:26.821Z"
   },
   {
    "duration": 7262,
    "start_time": "2023-03-13T17:29:26.840Z"
   },
   {
    "duration": 35,
    "start_time": "2023-03-13T17:29:34.104Z"
   },
   {
    "duration": 1447,
    "start_time": "2023-03-13T17:29:34.141Z"
   },
   {
    "duration": 637,
    "start_time": "2023-03-13T17:29:35.589Z"
   },
   {
    "duration": 1170,
    "start_time": "2023-03-13T17:29:36.228Z"
   },
   {
    "duration": 1851,
    "start_time": "2023-03-13T17:29:37.403Z"
   },
   {
    "duration": 796,
    "start_time": "2023-03-13T17:29:39.255Z"
   },
   {
    "duration": 1336,
    "start_time": "2023-03-13T17:29:40.054Z"
   },
   {
    "duration": 1693,
    "start_time": "2023-03-13T17:29:41.392Z"
   },
   {
    "duration": 801,
    "start_time": "2023-03-13T17:29:43.087Z"
   },
   {
    "duration": 1470,
    "start_time": "2023-03-13T17:29:43.890Z"
   },
   {
    "duration": 2228,
    "start_time": "2023-03-13T17:29:45.361Z"
   },
   {
    "duration": 1140,
    "start_time": "2023-03-13T17:29:47.590Z"
   },
   {
    "duration": 1675,
    "start_time": "2023-03-13T17:29:48.731Z"
   },
   {
    "duration": 31,
    "start_time": "2023-03-13T19:32:50.507Z"
   },
   {
    "duration": 1215,
    "start_time": "2023-03-14T06:18:20.832Z"
   },
   {
    "duration": 748,
    "start_time": "2023-03-14T06:18:22.048Z"
   },
   {
    "duration": 11,
    "start_time": "2023-03-14T06:18:22.797Z"
   },
   {
    "duration": 51,
    "start_time": "2023-03-14T06:18:22.810Z"
   },
   {
    "duration": 47,
    "start_time": "2023-03-14T06:18:22.862Z"
   },
   {
    "duration": 224,
    "start_time": "2023-03-14T06:18:22.910Z"
   },
   {
    "duration": 7,
    "start_time": "2023-03-14T06:18:23.135Z"
   },
   {
    "duration": 11,
    "start_time": "2023-03-14T06:18:23.143Z"
   },
   {
    "duration": 6,
    "start_time": "2023-03-14T06:18:23.155Z"
   },
   {
    "duration": 26,
    "start_time": "2023-03-14T06:18:23.163Z"
   },
   {
    "duration": 6,
    "start_time": "2023-03-14T06:18:23.191Z"
   },
   {
    "duration": 12,
    "start_time": "2023-03-14T06:18:23.198Z"
   },
   {
    "duration": 7,
    "start_time": "2023-03-14T06:18:23.212Z"
   },
   {
    "duration": 6,
    "start_time": "2023-03-14T06:18:23.220Z"
   },
   {
    "duration": 4,
    "start_time": "2023-03-14T06:18:23.227Z"
   },
   {
    "duration": 52,
    "start_time": "2023-03-14T06:18:23.233Z"
   },
   {
    "duration": 3,
    "start_time": "2023-03-14T06:18:23.287Z"
   },
   {
    "duration": 13,
    "start_time": "2023-03-14T06:18:23.292Z"
   },
   {
    "duration": 8,
    "start_time": "2023-03-14T06:18:23.307Z"
   },
   {
    "duration": 77,
    "start_time": "2023-03-14T06:18:23.316Z"
   },
   {
    "duration": 60,
    "start_time": "2023-03-14T06:18:23.394Z"
   },
   {
    "duration": 9,
    "start_time": "2023-03-14T06:18:23.455Z"
   },
   {
    "duration": 17,
    "start_time": "2023-03-14T06:18:23.466Z"
   },
   {
    "duration": 5,
    "start_time": "2023-03-14T06:18:23.484Z"
   },
   {
    "duration": 8,
    "start_time": "2023-03-14T06:18:23.490Z"
   },
   {
    "duration": 7,
    "start_time": "2023-03-14T06:18:23.499Z"
   },
   {
    "duration": 8,
    "start_time": "2023-03-14T06:18:23.507Z"
   },
   {
    "duration": 8,
    "start_time": "2023-03-14T06:18:23.518Z"
   },
   {
    "duration": 7,
    "start_time": "2023-03-14T06:18:23.527Z"
   },
   {
    "duration": 6,
    "start_time": "2023-03-14T06:18:23.536Z"
   },
   {
    "duration": 37,
    "start_time": "2023-03-14T06:18:23.543Z"
   },
   {
    "duration": 407,
    "start_time": "2023-03-14T06:18:23.581Z"
   },
   {
    "duration": 9,
    "start_time": "2023-03-14T06:18:23.989Z"
   },
   {
    "duration": 10,
    "start_time": "2023-03-14T06:18:23.999Z"
   },
   {
    "duration": 49,
    "start_time": "2023-03-14T06:18:24.010Z"
   },
   {
    "duration": 57,
    "start_time": "2023-03-14T06:18:24.060Z"
   },
   {
    "duration": 43,
    "start_time": "2023-03-14T06:18:24.118Z"
   },
   {
    "duration": 16,
    "start_time": "2023-03-14T06:18:24.163Z"
   },
   {
    "duration": 7,
    "start_time": "2023-03-14T06:18:24.181Z"
   },
   {
    "duration": 20,
    "start_time": "2023-03-14T06:18:24.189Z"
   },
   {
    "duration": 5692,
    "start_time": "2023-03-14T06:18:24.210Z"
   },
   {
    "duration": 24,
    "start_time": "2023-03-14T06:18:29.903Z"
   },
   {
    "duration": 1311,
    "start_time": "2023-03-14T06:18:29.928Z"
   },
   {
    "duration": 618,
    "start_time": "2023-03-14T06:18:31.240Z"
   },
   {
    "duration": 995,
    "start_time": "2023-03-14T06:18:31.860Z"
   },
   {
    "duration": 1525,
    "start_time": "2023-03-14T06:18:32.857Z"
   },
   {
    "duration": 629,
    "start_time": "2023-03-14T06:18:34.383Z"
   },
   {
    "duration": 1156,
    "start_time": "2023-03-14T06:18:35.013Z"
   },
   {
    "duration": 1426,
    "start_time": "2023-03-14T06:18:36.170Z"
   },
   {
    "duration": 628,
    "start_time": "2023-03-14T06:18:37.597Z"
   },
   {
    "duration": 1200,
    "start_time": "2023-03-14T06:18:38.227Z"
   },
   {
    "duration": 1847,
    "start_time": "2023-03-14T06:18:39.428Z"
   },
   {
    "duration": 914,
    "start_time": "2023-03-14T06:18:41.276Z"
   },
   {
    "duration": 1366,
    "start_time": "2023-03-14T06:18:42.191Z"
   },
   {
    "duration": 102,
    "start_time": "2023-03-14T15:29:16.149Z"
   },
   {
    "duration": 1638,
    "start_time": "2023-03-14T15:29:23.850Z"
   },
   {
    "duration": 1567,
    "start_time": "2023-03-14T15:29:25.491Z"
   },
   {
    "duration": 16,
    "start_time": "2023-03-14T15:29:27.059Z"
   },
   {
    "duration": 109,
    "start_time": "2023-03-14T15:29:27.078Z"
   },
   {
    "duration": 75,
    "start_time": "2023-03-14T15:29:27.190Z"
   },
   {
    "duration": 324,
    "start_time": "2023-03-14T15:29:27.268Z"
   },
   {
    "duration": 14,
    "start_time": "2023-03-14T15:29:27.602Z"
   },
   {
    "duration": 28,
    "start_time": "2023-03-14T15:29:27.618Z"
   },
   {
    "duration": 13,
    "start_time": "2023-03-14T15:29:27.649Z"
   },
   {
    "duration": 20,
    "start_time": "2023-03-14T15:29:27.666Z"
   },
   {
    "duration": 40,
    "start_time": "2023-03-14T15:29:27.687Z"
   },
   {
    "duration": 14,
    "start_time": "2023-03-14T15:29:27.730Z"
   },
   {
    "duration": 10,
    "start_time": "2023-03-14T15:29:27.746Z"
   },
   {
    "duration": 10,
    "start_time": "2023-03-14T15:29:27.758Z"
   },
   {
    "duration": 10,
    "start_time": "2023-03-14T15:29:27.770Z"
   },
   {
    "duration": 79,
    "start_time": "2023-03-14T15:29:27.782Z"
   },
   {
    "duration": 6,
    "start_time": "2023-03-14T15:29:27.863Z"
   },
   {
    "duration": 52,
    "start_time": "2023-03-14T15:29:27.871Z"
   },
   {
    "duration": 19,
    "start_time": "2023-03-14T15:29:27.926Z"
   },
   {
    "duration": 121,
    "start_time": "2023-03-14T15:29:27.947Z"
   },
   {
    "duration": 93,
    "start_time": "2023-03-14T15:29:28.071Z"
   },
   {
    "duration": 14,
    "start_time": "2023-03-14T15:29:28.166Z"
   },
   {
    "duration": 48,
    "start_time": "2023-03-14T15:29:28.182Z"
   },
   {
    "duration": 7,
    "start_time": "2023-03-14T15:29:28.233Z"
   },
   {
    "duration": 10,
    "start_time": "2023-03-14T15:29:28.243Z"
   },
   {
    "duration": 11,
    "start_time": "2023-03-14T15:29:28.256Z"
   },
   {
    "duration": 18,
    "start_time": "2023-03-14T15:29:28.269Z"
   },
   {
    "duration": 32,
    "start_time": "2023-03-14T15:29:28.297Z"
   },
   {
    "duration": 15,
    "start_time": "2023-03-14T15:29:28.331Z"
   },
   {
    "duration": 10,
    "start_time": "2023-03-14T15:29:28.348Z"
   },
   {
    "duration": 13,
    "start_time": "2023-03-14T15:29:28.360Z"
   },
   {
    "duration": 636,
    "start_time": "2023-03-14T15:29:28.375Z"
   },
   {
    "duration": 17,
    "start_time": "2023-03-14T15:29:29.013Z"
   },
   {
    "duration": 13,
    "start_time": "2023-03-14T15:29:29.032Z"
   },
   {
    "duration": 106,
    "start_time": "2023-03-14T15:29:29.047Z"
   },
   {
    "duration": 67,
    "start_time": "2023-03-14T15:29:29.155Z"
   },
   {
    "duration": 84,
    "start_time": "2023-03-14T15:29:29.224Z"
   },
   {
    "duration": 7,
    "start_time": "2023-03-14T15:29:29.314Z"
   },
   {
    "duration": 15,
    "start_time": "2023-03-14T15:29:29.323Z"
   },
   {
    "duration": 24,
    "start_time": "2023-03-14T15:29:29.340Z"
   },
   {
    "duration": 8502,
    "start_time": "2023-03-14T15:29:29.366Z"
   },
   {
    "duration": 47,
    "start_time": "2023-03-14T15:29:37.871Z"
   },
   {
    "duration": 1752,
    "start_time": "2023-03-14T15:29:37.921Z"
   },
   {
    "duration": 799,
    "start_time": "2023-03-14T15:29:39.676Z"
   },
   {
    "duration": 1383,
    "start_time": "2023-03-14T15:29:40.484Z"
   },
   {
    "duration": 2218,
    "start_time": "2023-03-14T15:29:41.870Z"
   },
   {
    "duration": 974,
    "start_time": "2023-03-14T15:29:44.092Z"
   },
   {
    "duration": 1685,
    "start_time": "2023-03-14T15:29:45.068Z"
   },
   {
    "duration": 2037,
    "start_time": "2023-03-14T15:29:46.756Z"
   },
   {
    "duration": 925,
    "start_time": "2023-03-14T15:29:48.795Z"
   },
   {
    "duration": 1756,
    "start_time": "2023-03-14T15:29:49.722Z"
   },
   {
    "duration": 2520,
    "start_time": "2023-03-14T15:29:51.480Z"
   },
   {
    "duration": 1267,
    "start_time": "2023-03-14T15:29:54.008Z"
   },
   {
    "duration": 2001,
    "start_time": "2023-03-14T15:29:55.277Z"
   },
   {
    "duration": 1357,
    "start_time": "2023-03-14T15:45:03.575Z"
   },
   {
    "duration": 8,
    "start_time": "2023-03-14T15:45:21.451Z"
   },
   {
    "duration": 20,
    "start_time": "2023-03-14T15:46:13.476Z"
   },
   {
    "duration": 15,
    "start_time": "2023-03-14T15:46:22.345Z"
   },
   {
    "duration": 18,
    "start_time": "2023-03-14T15:46:32.715Z"
   },
   {
    "duration": 18,
    "start_time": "2023-03-14T15:46:44.908Z"
   },
   {
    "duration": 26,
    "start_time": "2023-03-14T15:47:56.560Z"
   },
   {
    "duration": 26,
    "start_time": "2023-03-14T15:48:13.878Z"
   },
   {
    "duration": 134,
    "start_time": "2023-03-14T15:57:48.909Z"
   },
   {
    "duration": 141,
    "start_time": "2023-03-14T15:58:02.015Z"
   },
   {
    "duration": 46,
    "start_time": "2023-03-14T15:58:24.810Z"
   },
   {
    "duration": 6,
    "start_time": "2023-03-14T15:59:41.707Z"
   },
   {
    "duration": 4,
    "start_time": "2023-03-14T15:59:58.027Z"
   },
   {
    "duration": 10,
    "start_time": "2023-03-14T16:00:18.368Z"
   },
   {
    "duration": 6,
    "start_time": "2023-03-14T16:00:24.758Z"
   },
   {
    "duration": 6,
    "start_time": "2023-03-14T16:01:00.010Z"
   },
   {
    "duration": 4,
    "start_time": "2023-03-14T16:02:26.107Z"
   },
   {
    "duration": 4,
    "start_time": "2023-03-14T16:02:34.708Z"
   },
   {
    "duration": 7,
    "start_time": "2023-03-14T16:04:34.428Z"
   },
   {
    "duration": 4,
    "start_time": "2023-03-14T16:04:36.527Z"
   },
   {
    "duration": 5,
    "start_time": "2023-03-14T16:06:14.166Z"
   },
   {
    "duration": 15,
    "start_time": "2023-03-14T16:09:03.553Z"
   },
   {
    "duration": 12,
    "start_time": "2023-03-14T16:18:13.764Z"
   },
   {
    "duration": 61,
    "start_time": "2023-03-14T16:34:47.182Z"
   },
   {
    "duration": 13,
    "start_time": "2023-03-14T16:34:58.922Z"
   },
   {
    "duration": 9,
    "start_time": "2023-03-14T16:35:36.445Z"
   },
   {
    "duration": 23,
    "start_time": "2023-03-14T16:44:48.045Z"
   },
   {
    "duration": 6,
    "start_time": "2023-03-14T16:44:52.345Z"
   },
   {
    "duration": 33,
    "start_time": "2023-03-14T16:59:39.449Z"
   },
   {
    "duration": 19,
    "start_time": "2023-03-14T17:00:33.054Z"
   },
   {
    "duration": 13,
    "start_time": "2023-03-14T17:00:45.996Z"
   },
   {
    "duration": 2270,
    "start_time": "2023-03-14T17:01:24.518Z"
   },
   {
    "duration": 861,
    "start_time": "2023-03-14T17:06:01.598Z"
   },
   {
    "duration": 1411,
    "start_time": "2023-03-14T17:06:49.034Z"
   },
   {
    "duration": 24,
    "start_time": "2023-03-14T17:09:43.773Z"
   },
   {
    "duration": 11,
    "start_time": "2023-03-14T17:10:46.896Z"
   },
   {
    "duration": 1956,
    "start_time": "2023-03-14T17:21:06.012Z"
   },
   {
    "duration": 2208,
    "start_time": "2023-03-14T17:21:44.844Z"
   },
   {
    "duration": 13,
    "start_time": "2023-03-14T17:23:59.214Z"
   },
   {
    "duration": 2073,
    "start_time": "2023-03-14T17:25:14.084Z"
   },
   {
    "duration": 808,
    "start_time": "2023-03-14T17:26:30.324Z"
   },
   {
    "duration": 1664,
    "start_time": "2023-03-14T17:27:10.702Z"
   },
   {
    "duration": 1912,
    "start_time": "2023-03-14T17:28:52.296Z"
   },
   {
    "duration": 771,
    "start_time": "2023-03-14T17:29:02.019Z"
   },
   {
    "duration": 1340,
    "start_time": "2023-03-14T17:29:15.552Z"
   },
   {
    "duration": 16,
    "start_time": "2023-03-14T17:33:30.798Z"
   },
   {
    "duration": 13,
    "start_time": "2023-03-14T17:33:36.697Z"
   },
   {
    "duration": 2140,
    "start_time": "2023-03-14T17:36:32.123Z"
   },
   {
    "duration": 121,
    "start_time": "2023-03-14T17:37:02.527Z"
   },
   {
    "duration": 86,
    "start_time": "2023-03-14T17:37:28.840Z"
   },
   {
    "duration": 1283,
    "start_time": "2023-03-14T17:38:02.566Z"
   },
   {
    "duration": 114,
    "start_time": "2023-03-14T17:38:35.938Z"
   },
   {
    "duration": 1949,
    "start_time": "2023-03-14T17:39:50.027Z"
   },
   {
    "duration": 994,
    "start_time": "2023-03-14T17:40:21.449Z"
   },
   {
    "duration": 1390,
    "start_time": "2023-03-14T17:42:02.143Z"
   },
   {
    "duration": 53,
    "start_time": "2023-03-14T17:44:40.224Z"
   },
   {
    "duration": 53,
    "start_time": "2023-03-14T17:44:52.517Z"
   },
   {
    "duration": 17,
    "start_time": "2023-03-14T17:45:23.511Z"
   },
   {
    "duration": 1328,
    "start_time": "2023-03-15T10:13:52.622Z"
   },
   {
    "duration": 880,
    "start_time": "2023-03-15T10:13:53.952Z"
   },
   {
    "duration": 13,
    "start_time": "2023-03-15T10:13:54.834Z"
   },
   {
    "duration": 80,
    "start_time": "2023-03-15T10:13:54.849Z"
   },
   {
    "duration": 82,
    "start_time": "2023-03-15T10:13:54.931Z"
   },
   {
    "duration": 261,
    "start_time": "2023-03-15T10:13:55.015Z"
   },
   {
    "duration": 9,
    "start_time": "2023-03-15T10:13:55.277Z"
   },
   {
    "duration": 42,
    "start_time": "2023-03-15T10:13:55.287Z"
   },
   {
    "duration": 18,
    "start_time": "2023-03-15T10:13:55.331Z"
   },
   {
    "duration": 31,
    "start_time": "2023-03-15T10:13:55.351Z"
   },
   {
    "duration": 13,
    "start_time": "2023-03-15T10:13:55.384Z"
   },
   {
    "duration": 29,
    "start_time": "2023-03-15T10:13:55.399Z"
   },
   {
    "duration": 23,
    "start_time": "2023-03-15T10:13:55.430Z"
   },
   {
    "duration": 38,
    "start_time": "2023-03-15T10:13:55.454Z"
   },
   {
    "duration": 17,
    "start_time": "2023-03-15T10:13:55.493Z"
   },
   {
    "duration": 63,
    "start_time": "2023-03-15T10:13:55.512Z"
   },
   {
    "duration": 3,
    "start_time": "2023-03-15T10:13:55.576Z"
   },
   {
    "duration": 38,
    "start_time": "2023-03-15T10:13:55.581Z"
   },
   {
    "duration": 34,
    "start_time": "2023-03-15T10:13:55.620Z"
   },
   {
    "duration": 81,
    "start_time": "2023-03-15T10:13:55.656Z"
   },
   {
    "duration": 76,
    "start_time": "2023-03-15T10:13:55.739Z"
   },
   {
    "duration": 18,
    "start_time": "2023-03-15T10:13:55.817Z"
   },
   {
    "duration": 40,
    "start_time": "2023-03-15T10:13:55.837Z"
   },
   {
    "duration": 21,
    "start_time": "2023-03-15T10:13:55.879Z"
   },
   {
    "duration": 40,
    "start_time": "2023-03-15T10:13:55.902Z"
   },
   {
    "duration": 27,
    "start_time": "2023-03-15T10:13:55.944Z"
   },
   {
    "duration": 41,
    "start_time": "2023-03-15T10:13:55.973Z"
   },
   {
    "duration": 44,
    "start_time": "2023-03-15T10:13:56.019Z"
   },
   {
    "duration": 28,
    "start_time": "2023-03-15T10:13:56.065Z"
   },
   {
    "duration": 41,
    "start_time": "2023-03-15T10:13:56.095Z"
   },
   {
    "duration": 40,
    "start_time": "2023-03-15T10:13:56.138Z"
   },
   {
    "duration": 488,
    "start_time": "2023-03-15T10:13:56.179Z"
   },
   {
    "duration": 13,
    "start_time": "2023-03-15T10:13:56.668Z"
   },
   {
    "duration": 49,
    "start_time": "2023-03-15T10:13:56.682Z"
   },
   {
    "duration": 66,
    "start_time": "2023-03-15T10:13:56.733Z"
   },
   {
    "duration": 51,
    "start_time": "2023-03-15T10:13:56.800Z"
   },
   {
    "duration": 63,
    "start_time": "2023-03-15T10:13:56.853Z"
   },
   {
    "duration": 5,
    "start_time": "2023-03-15T10:13:56.931Z"
   },
   {
    "duration": 45,
    "start_time": "2023-03-15T10:13:56.939Z"
   },
   {
    "duration": 74,
    "start_time": "2023-03-15T10:13:56.986Z"
   },
   {
    "duration": 7004,
    "start_time": "2023-03-15T10:13:57.063Z"
   },
   {
    "duration": 39,
    "start_time": "2023-03-15T10:14:04.070Z"
   },
   {
    "duration": 125,
    "start_time": "2023-03-15T10:14:04.110Z"
   },
   {
    "duration": 144,
    "start_time": "2023-03-15T10:14:04.238Z"
   },
   {
    "duration": 0,
    "start_time": "2023-03-15T10:14:04.384Z"
   },
   {
    "duration": 0,
    "start_time": "2023-03-15T10:14:04.390Z"
   },
   {
    "duration": 0,
    "start_time": "2023-03-15T10:14:04.391Z"
   },
   {
    "duration": 0,
    "start_time": "2023-03-15T10:14:04.393Z"
   },
   {
    "duration": 0,
    "start_time": "2023-03-15T10:14:04.395Z"
   },
   {
    "duration": 0,
    "start_time": "2023-03-15T10:14:04.397Z"
   },
   {
    "duration": 0,
    "start_time": "2023-03-15T10:14:04.398Z"
   },
   {
    "duration": 0,
    "start_time": "2023-03-15T10:14:04.400Z"
   },
   {
    "duration": 0,
    "start_time": "2023-03-15T10:14:04.402Z"
   },
   {
    "duration": 0,
    "start_time": "2023-03-15T10:14:04.404Z"
   },
   {
    "duration": 0,
    "start_time": "2023-03-15T10:14:04.405Z"
   },
   {
    "duration": 0,
    "start_time": "2023-03-15T10:14:04.406Z"
   },
   {
    "duration": 0,
    "start_time": "2023-03-15T10:14:04.407Z"
   },
   {
    "duration": 0,
    "start_time": "2023-03-15T10:14:04.408Z"
   },
   {
    "duration": 0,
    "start_time": "2023-03-15T10:14:04.408Z"
   },
   {
    "duration": 0,
    "start_time": "2023-03-15T10:14:04.430Z"
   },
   {
    "duration": 0,
    "start_time": "2023-03-15T10:14:04.432Z"
   },
   {
    "duration": 0,
    "start_time": "2023-03-15T10:14:04.434Z"
   },
   {
    "duration": 0,
    "start_time": "2023-03-15T10:14:04.436Z"
   },
   {
    "duration": 0,
    "start_time": "2023-03-15T10:14:04.438Z"
   },
   {
    "duration": 0,
    "start_time": "2023-03-15T10:14:04.440Z"
   },
   {
    "duration": 0,
    "start_time": "2023-03-15T10:14:04.442Z"
   },
   {
    "duration": 0,
    "start_time": "2023-03-15T10:14:04.443Z"
   },
   {
    "duration": 0,
    "start_time": "2023-03-15T10:14:04.444Z"
   },
   {
    "duration": 0,
    "start_time": "2023-03-15T10:14:04.445Z"
   },
   {
    "duration": 0,
    "start_time": "2023-03-15T10:14:04.447Z"
   },
   {
    "duration": 6,
    "start_time": "2023-03-15T10:14:46.117Z"
   },
   {
    "duration": 1200,
    "start_time": "2023-03-15T10:14:58.822Z"
   },
   {
    "duration": 700,
    "start_time": "2023-03-15T10:15:00.025Z"
   },
   {
    "duration": 14,
    "start_time": "2023-03-15T10:15:00.727Z"
   },
   {
    "duration": 103,
    "start_time": "2023-03-15T10:15:00.743Z"
   },
   {
    "duration": 111,
    "start_time": "2023-03-15T10:15:00.849Z"
   },
   {
    "duration": 279,
    "start_time": "2023-03-15T10:15:00.962Z"
   },
   {
    "duration": 9,
    "start_time": "2023-03-15T10:15:01.243Z"
   },
   {
    "duration": 29,
    "start_time": "2023-03-15T10:15:01.254Z"
   },
   {
    "duration": 25,
    "start_time": "2023-03-15T10:15:01.285Z"
   },
   {
    "duration": 39,
    "start_time": "2023-03-15T10:15:01.312Z"
   },
   {
    "duration": 13,
    "start_time": "2023-03-15T10:15:01.352Z"
   },
   {
    "duration": 33,
    "start_time": "2023-03-15T10:15:01.367Z"
   },
   {
    "duration": 55,
    "start_time": "2023-03-15T10:15:01.402Z"
   },
   {
    "duration": 24,
    "start_time": "2023-03-15T10:15:01.460Z"
   },
   {
    "duration": 19,
    "start_time": "2023-03-15T10:15:01.485Z"
   },
   {
    "duration": 62,
    "start_time": "2023-03-15T10:15:01.506Z"
   },
   {
    "duration": 2,
    "start_time": "2023-03-15T10:15:01.570Z"
   },
   {
    "duration": 31,
    "start_time": "2023-03-15T10:15:01.574Z"
   },
   {
    "duration": 36,
    "start_time": "2023-03-15T10:15:01.607Z"
   },
   {
    "duration": 79,
    "start_time": "2023-03-15T10:15:01.645Z"
   },
   {
    "duration": 76,
    "start_time": "2023-03-15T10:15:01.726Z"
   },
   {
    "duration": 11,
    "start_time": "2023-03-15T10:15:01.803Z"
   },
   {
    "duration": 20,
    "start_time": "2023-03-15T10:15:01.816Z"
   },
   {
    "duration": 26,
    "start_time": "2023-03-15T10:15:01.838Z"
   },
   {
    "duration": 33,
    "start_time": "2023-03-15T10:15:01.866Z"
   },
   {
    "duration": 28,
    "start_time": "2023-03-15T10:15:01.901Z"
   },
   {
    "duration": 51,
    "start_time": "2023-03-15T10:15:01.931Z"
   },
   {
    "duration": 34,
    "start_time": "2023-03-15T10:15:01.984Z"
   },
   {
    "duration": 43,
    "start_time": "2023-03-15T10:15:02.020Z"
   },
   {
    "duration": 32,
    "start_time": "2023-03-15T10:15:02.065Z"
   },
   {
    "duration": 48,
    "start_time": "2023-03-15T10:15:02.100Z"
   },
   {
    "duration": 517,
    "start_time": "2023-03-15T10:15:02.149Z"
   },
   {
    "duration": 17,
    "start_time": "2023-03-15T10:15:02.668Z"
   },
   {
    "duration": 28,
    "start_time": "2023-03-15T10:15:02.686Z"
   },
   {
    "duration": 72,
    "start_time": "2023-03-15T10:15:02.716Z"
   },
   {
    "duration": 61,
    "start_time": "2023-03-15T10:15:02.790Z"
   },
   {
    "duration": 53,
    "start_time": "2023-03-15T10:15:02.853Z"
   },
   {
    "duration": 5,
    "start_time": "2023-03-15T10:15:02.908Z"
   },
   {
    "duration": 33,
    "start_time": "2023-03-15T10:15:02.915Z"
   },
   {
    "duration": 35,
    "start_time": "2023-03-15T10:15:02.950Z"
   },
   {
    "duration": 6997,
    "start_time": "2023-03-15T10:15:02.990Z"
   },
   {
    "duration": 28,
    "start_time": "2023-03-15T10:15:09.989Z"
   },
   {
    "duration": 18,
    "start_time": "2023-03-15T10:15:10.018Z"
   },
   {
    "duration": 5,
    "start_time": "2023-03-15T10:15:10.037Z"
   },
   {
    "duration": 1348,
    "start_time": "2023-03-15T10:15:10.044Z"
   },
   {
    "duration": 699,
    "start_time": "2023-03-15T10:15:11.394Z"
   },
   {
    "duration": 1183,
    "start_time": "2023-03-15T10:15:12.094Z"
   },
   {
    "duration": 1896,
    "start_time": "2023-03-15T10:15:13.279Z"
   },
   {
    "duration": 750,
    "start_time": "2023-03-15T10:15:15.177Z"
   },
   {
    "duration": 1394,
    "start_time": "2023-03-15T10:15:15.928Z"
   },
   {
    "duration": 1755,
    "start_time": "2023-03-15T10:15:17.324Z"
   },
   {
    "duration": 759,
    "start_time": "2023-03-15T10:15:19.081Z"
   },
   {
    "duration": 1443,
    "start_time": "2023-03-15T10:15:19.842Z"
   },
   {
    "duration": 1465,
    "start_time": "2023-03-15T10:15:21.287Z"
   },
   {
    "duration": 656,
    "start_time": "2023-03-15T10:15:22.754Z"
   },
   {
    "duration": 1162,
    "start_time": "2023-03-15T10:15:23.412Z"
   },
   {
    "duration": 17,
    "start_time": "2023-03-15T10:15:24.576Z"
   },
   {
    "duration": 2428,
    "start_time": "2023-03-15T10:15:24.595Z"
   },
   {
    "duration": 917,
    "start_time": "2023-03-15T10:15:27.030Z"
   },
   {
    "duration": 1773,
    "start_time": "2023-03-15T10:15:27.948Z"
   },
   {
    "duration": 13,
    "start_time": "2023-03-15T10:15:29.723Z"
   },
   {
    "duration": 1641,
    "start_time": "2023-03-15T10:15:29.737Z"
   },
   {
    "duration": 760,
    "start_time": "2023-03-15T10:15:31.380Z"
   },
   {
    "duration": 1357,
    "start_time": "2023-03-15T10:15:32.142Z"
   },
   {
    "duration": 8,
    "start_time": "2023-03-15T10:15:33.501Z"
   },
   {
    "duration": 1904,
    "start_time": "2023-03-15T10:15:33.511Z"
   },
   {
    "duration": 1136,
    "start_time": "2023-03-15T10:15:35.416Z"
   },
   {
    "duration": 1907,
    "start_time": "2023-03-15T10:15:36.553Z"
   },
   {
    "duration": 686,
    "start_time": "2023-03-15T10:15:38.462Z"
   },
   {
    "duration": 1153,
    "start_time": "2023-03-15T10:15:39.151Z"
   },
   {
    "duration": 1866,
    "start_time": "2023-03-15T10:16:51.530Z"
   },
   {
    "duration": 741,
    "start_time": "2023-03-15T10:18:17.585Z"
   },
   {
    "duration": 840,
    "start_time": "2023-03-15T10:18:33.752Z"
   },
   {
    "duration": 1760,
    "start_time": "2023-03-15T10:18:49.559Z"
   },
   {
    "duration": 707,
    "start_time": "2023-03-15T10:18:57.914Z"
   },
   {
    "duration": 1345,
    "start_time": "2023-03-15T10:19:57.636Z"
   },
   {
    "duration": 118,
    "start_time": "2023-03-15T10:21:06.531Z"
   },
   {
    "duration": 46,
    "start_time": "2023-03-15T10:21:35.818Z"
   },
   {
    "duration": 12,
    "start_time": "2023-03-15T10:21:56.926Z"
   },
   {
    "duration": 12,
    "start_time": "2023-03-15T10:22:17.943Z"
   },
   {
    "duration": 52,
    "start_time": "2023-03-15T10:27:46.908Z"
   },
   {
    "duration": 52,
    "start_time": "2023-03-15T10:28:21.164Z"
   },
   {
    "duration": 1984,
    "start_time": "2023-03-15T10:29:58.535Z"
   },
   {
    "duration": 780,
    "start_time": "2023-03-15T10:31:11.863Z"
   },
   {
    "duration": 1481,
    "start_time": "2023-03-15T10:31:28.055Z"
   },
   {
    "duration": 17,
    "start_time": "2023-03-15T10:33:37.115Z"
   },
   {
    "duration": 14,
    "start_time": "2023-03-15T12:24:04.612Z"
   },
   {
    "duration": 26,
    "start_time": "2023-03-15T12:24:22.045Z"
   },
   {
    "duration": 1419,
    "start_time": "2023-03-15T15:53:19.809Z"
   },
   {
    "duration": 1906,
    "start_time": "2023-03-15T15:53:21.230Z"
   },
   {
    "duration": 13,
    "start_time": "2023-03-15T15:53:23.138Z"
   },
   {
    "duration": 62,
    "start_time": "2023-03-15T15:53:23.153Z"
   },
   {
    "duration": 70,
    "start_time": "2023-03-15T15:53:23.217Z"
   },
   {
    "duration": 240,
    "start_time": "2023-03-15T15:53:23.288Z"
   },
   {
    "duration": 7,
    "start_time": "2023-03-15T15:53:23.530Z"
   },
   {
    "duration": 12,
    "start_time": "2023-03-15T15:53:23.539Z"
   },
   {
    "duration": 7,
    "start_time": "2023-03-15T15:53:23.553Z"
   },
   {
    "duration": 31,
    "start_time": "2023-03-15T15:53:23.562Z"
   },
   {
    "duration": 8,
    "start_time": "2023-03-15T15:53:23.594Z"
   },
   {
    "duration": 26,
    "start_time": "2023-03-15T15:53:23.603Z"
   },
   {
    "duration": 5,
    "start_time": "2023-03-15T15:53:23.631Z"
   },
   {
    "duration": 5,
    "start_time": "2023-03-15T15:53:23.638Z"
   },
   {
    "duration": 2,
    "start_time": "2023-03-15T15:53:23.645Z"
   },
   {
    "duration": 32,
    "start_time": "2023-03-15T15:53:23.649Z"
   },
   {
    "duration": 3,
    "start_time": "2023-03-15T15:53:23.682Z"
   },
   {
    "duration": 40,
    "start_time": "2023-03-15T15:53:23.687Z"
   },
   {
    "duration": 13,
    "start_time": "2023-03-15T15:53:23.729Z"
   },
   {
    "duration": 71,
    "start_time": "2023-03-15T15:53:23.744Z"
   },
   {
    "duration": 69,
    "start_time": "2023-03-15T15:53:23.817Z"
   },
   {
    "duration": 10,
    "start_time": "2023-03-15T15:53:23.888Z"
   },
   {
    "duration": 24,
    "start_time": "2023-03-15T15:53:23.899Z"
   },
   {
    "duration": 6,
    "start_time": "2023-03-15T15:53:23.924Z"
   },
   {
    "duration": 22,
    "start_time": "2023-03-15T15:53:23.932Z"
   },
   {
    "duration": 7,
    "start_time": "2023-03-15T15:53:23.956Z"
   },
   {
    "duration": 11,
    "start_time": "2023-03-15T15:53:23.965Z"
   },
   {
    "duration": 5,
    "start_time": "2023-03-15T15:53:23.980Z"
   },
   {
    "duration": 9,
    "start_time": "2023-03-15T15:53:23.986Z"
   },
   {
    "duration": 6,
    "start_time": "2023-03-15T15:53:23.996Z"
   },
   {
    "duration": 26,
    "start_time": "2023-03-15T15:53:24.004Z"
   },
   {
    "duration": 442,
    "start_time": "2023-03-15T15:53:24.033Z"
   },
   {
    "duration": 12,
    "start_time": "2023-03-15T15:53:24.476Z"
   },
   {
    "duration": 13,
    "start_time": "2023-03-15T15:53:24.490Z"
   },
   {
    "duration": 72,
    "start_time": "2023-03-15T15:53:24.505Z"
   },
   {
    "duration": 54,
    "start_time": "2023-03-15T15:53:24.578Z"
   },
   {
    "duration": 50,
    "start_time": "2023-03-15T15:53:24.633Z"
   },
   {
    "duration": 4,
    "start_time": "2023-03-15T15:53:24.685Z"
   },
   {
    "duration": 36,
    "start_time": "2023-03-15T15:53:24.690Z"
   },
   {
    "duration": 15,
    "start_time": "2023-03-15T15:53:24.728Z"
   },
   {
    "duration": 6608,
    "start_time": "2023-03-15T15:53:24.745Z"
   },
   {
    "duration": 28,
    "start_time": "2023-03-15T15:53:31.355Z"
   },
   {
    "duration": 134,
    "start_time": "2023-03-15T15:53:31.385Z"
   },
   {
    "duration": 4,
    "start_time": "2023-03-15T15:53:31.524Z"
   },
   {
    "duration": 1413,
    "start_time": "2023-03-15T15:53:31.530Z"
   },
   {
    "duration": 641,
    "start_time": "2023-03-15T15:53:32.945Z"
   },
   {
    "duration": 1164,
    "start_time": "2023-03-15T15:53:33.588Z"
   },
   {
    "duration": 1884,
    "start_time": "2023-03-15T15:53:34.753Z"
   },
   {
    "duration": 808,
    "start_time": "2023-03-15T15:53:36.638Z"
   },
   {
    "duration": 1335,
    "start_time": "2023-03-15T15:53:37.448Z"
   },
   {
    "duration": 1934,
    "start_time": "2023-03-15T15:53:38.785Z"
   },
   {
    "duration": 787,
    "start_time": "2023-03-15T15:53:40.723Z"
   },
   {
    "duration": 1465,
    "start_time": "2023-03-15T15:53:41.513Z"
   },
   {
    "duration": 2190,
    "start_time": "2023-03-15T15:53:42.980Z"
   },
   {
    "duration": 1023,
    "start_time": "2023-03-15T15:53:45.172Z"
   },
   {
    "duration": 1578,
    "start_time": "2023-03-15T15:53:46.197Z"
   },
   {
    "duration": 1768,
    "start_time": "2023-03-15T15:53:47.777Z"
   },
   {
    "duration": 905,
    "start_time": "2023-03-15T15:53:49.547Z"
   },
   {
    "duration": 1284,
    "start_time": "2023-03-15T15:53:50.454Z"
   },
   {
    "duration": 15,
    "start_time": "2023-03-15T15:53:51.740Z"
   },
   {
    "duration": 1649,
    "start_time": "2023-03-15T15:53:51.757Z"
   },
   {
    "duration": 698,
    "start_time": "2023-03-15T15:53:53.407Z"
   },
   {
    "duration": 1336,
    "start_time": "2023-03-15T15:53:54.106Z"
   },
   {
    "duration": 11,
    "start_time": "2023-03-15T15:53:55.443Z"
   }
  ],
  "colab": {
   "provenance": []
  },
  "kernelspec": {
   "display_name": "Python 3 (ipykernel)",
   "language": "python",
   "name": "python3"
  },
  "language_info": {
   "codemirror_mode": {
    "name": "ipython",
    "version": 3
   },
   "file_extension": ".py",
   "mimetype": "text/x-python",
   "name": "python",
   "nbconvert_exporter": "python",
   "pygments_lexer": "ipython3",
   "version": "3.9.13"
  },
  "toc": {
   "base_numbering": 1,
   "nav_menu": {
    "height": "172px",
    "width": "354px"
   },
   "number_sections": true,
   "sideBar": false,
   "skip_h1_title": true,
   "title_cell": "Table of Contents",
   "title_sidebar": "Contents",
   "toc_cell": false,
   "toc_position": {
    "height": "517.6px",
    "left": "80px",
    "top": "109.725px",
    "width": "289.4px"
   },
   "toc_section_display": true,
   "toc_window_display": false
  }
 },
 "nbformat": 4,
 "nbformat_minor": 1
}
